{
 "cells": [
  {
   "cell_type": "markdown",
   "metadata": {
    "id": "SVV0l8vEck9w"
   },
   "source": [
    "**PART 2 - CREATING DATASET**\n",
    "\n",
    "Francesca De Cola, Valentina Moretto, Valentina Zangirolami"
   ]
  },
  {
   "cell_type": "markdown",
   "metadata": {
    "id": "tJTbWvfuck98"
   },
   "source": [
    "In this notebook, we load all images for each source data and create a dataset that include them. Finally, we save a dataset into a zip file. This operation allows us to load for the following notebook only the zip file without repeating the upload of all images for each notebook."
   ]
  },
  {
   "cell_type": "markdown",
   "metadata": {
    "id": "weR5pJWLck-C"
   },
   "source": [
    "**Import packages**"
   ]
  },
  {
   "cell_type": "code",
   "execution_count": null,
   "metadata": {
    "id": "Y_e2C4p_ck-G"
   },
   "outputs": [],
   "source": [
    "import glob\n",
    "from PIL import Image\n",
    "import numpy as np\n",
    "import cv2\n",
    "import pandas as pd\n",
    "import seaborn as sns\n",
    "from sklearn.model_selection import train_test_split\n",
    "import os\n",
    "import matplotlib.pyplot as plt"
   ]
  },
  {
   "cell_type": "markdown",
   "metadata": {
    "id": "_254I7aPck-L"
   },
   "source": [
    "In the following sections, we load images and label for each dataset consider (Visgram, Faces, Our acquisition, Jaffe)"
   ]
  },
  {
   "cell_type": "markdown",
   "metadata": {
    "id": "5IGMhOMlck-O"
   },
   "source": [
    "*DATASET VISGRAM*"
   ]
  },
  {
   "cell_type": "code",
   "execution_count": null,
   "metadata": {
    "id": "3eYtM5Lock-R"
   },
   "outputs": [],
   "source": [
    "#Label extraction\n",
    "import os\n",
    "labels = []\n",
    "for i in os.listdir('C:/Users/valen/OneDrive/Pictures/visgram/angry'):\n",
    "    labels.append('angry')\n",
    "for i in os.listdir('C:/Users/valen/OneDrive/Pictures/visgram/disgust'):\n",
    "    labels.append('disgust')\n",
    "for i in os.listdir('C:/Users/valen/OneDrive/Pictures/visgram/fear'):\n",
    "    labels.append('fear')\n",
    "for i in os.listdir('C:/Users/valen/OneDrive/Pictures/visgram/happy'):\n",
    "    labels.append('happy')\n",
    "for i in os.listdir('C:/Users/valen/OneDrive/Pictures/visgram/neutral'):\n",
    "    labels.append('neutral')\n",
    "for i in os.listdir('C:/Users/valen/OneDrive/Pictures/visgram/sad'):\n",
    "    labels.append('sad')\n",
    "for i in os.listdir('C:/Users/valen/OneDrive/Pictures/visgram/surprise'):\n",
    "    labels.append('surprise')\n",
    "   "
   ]
  },
  {
   "cell_type": "code",
   "execution_count": null,
   "metadata": {
    "id": "T8-QcwGDck-U",
    "outputId": "132d783f-73fa-46e7-8a8c-3c0ecf38713b"
   },
   "outputs": [
    {
     "name": "stderr",
     "output_type": "stream",
     "text": [
      "100%|██████████████████████████████████████████████████████████████████████████████████| 36/36 [00:00<00:00, 43.03it/s]\n",
      "100%|██████████████████████████████████████████████████████████████████████████████████| 34/34 [00:00<00:00, 47.64it/s]\n",
      "100%|██████████████████████████████████████████████████████████████████████████████████| 33/33 [00:00<00:00, 59.79it/s]\n",
      "100%|██████████████████████████████████████████████████████████████████████████████████| 32/32 [00:00<00:00, 73.01it/s]\n",
      "100%|██████████████████████████████████████████████████████████████████████████████████| 30/30 [00:00<00:00, 53.18it/s]\n",
      "100%|██████████████████████████████████████████████████████████████████████████████████| 34/34 [00:00<00:00, 45.93it/s]\n",
      "100%|██████████████████████████████████████████████████████████████████████████████████| 34/34 [00:00<00:00, 59.79it/s]\n"
     ]
    }
   ],
   "source": [
    "#Images extraction for each label\n",
    "loc1 = 'C:/Users/valen/OneDrive/Pictures/visgram/angry'\n",
    "loc2 = 'C:/Users/valen/OneDrive/Pictures/visgram/disgust'\n",
    "loc3 = 'C:/Users/valen/OneDrive/Pictures/visgram/fear'\n",
    "loc4 = 'C:/Users/valen/OneDrive/Pictures/visgram/happy'\n",
    "loc5 = 'C:/Users/valen/OneDrive/Pictures/visgram/neutral'\n",
    "loc6 = 'C:/Users/valen/OneDrive/Pictures/visgram/sad'\n",
    "loc7 = 'C:/Users/valen/OneDrive/Pictures/visgram/surprise'\n",
    "features = []\n",
    "from tqdm import tqdm\n",
    "for i in tqdm(os.listdir(loc1)):\n",
    "    features.append(cv2.imread(os.path.join(loc1,i),0))\n",
    "    \n",
    "for i in tqdm(os.listdir(loc2)):\n",
    "    features.append(cv2.imread(os.path.join(loc2,i),0))\n",
    "    \n",
    "for i in tqdm(os.listdir(loc3)):\n",
    "    features.append(cv2.imread(os.path.join(loc3,i),0))\n",
    "    \n",
    "for i in tqdm(os.listdir(loc4)):\n",
    "    features.append(cv2.imread(os.path.join(loc4,i),0))\n",
    "for i in tqdm(os.listdir(loc5)):\n",
    "    features.append(cv2.imread(os.path.join(loc5,i),0))\n",
    "    \n",
    "for i in tqdm(os.listdir(loc6)):\n",
    "    features.append(cv2.imread(os.path.join(loc6,i),0))\n",
    "    \n",
    "for i in tqdm(os.listdir(loc7)):\n",
    "    features.append(cv2.imread(os.path.join(loc7,i),0))\n"
   ]
  },
  {
   "cell_type": "markdown",
   "metadata": {
    "id": "_hOC5Pbsck-d"
   },
   "source": [
    "*OUR IMAGES (ACQUISITION VIA WEBCAM)*\n",
    "\n",
    "This operation is described in: Acquisition_images.ipynb"
   ]
  },
  {
   "cell_type": "code",
   "execution_count": null,
   "metadata": {
    "id": "gdISpH-bck-i"
   },
   "outputs": [],
   "source": [
    "#Label extraction\n",
    "import os\n",
    "for i in os.listdir('C:/Users/valen/OneDrive/Pictures/nostre/angry'):\n",
    "    labels.append('angry')\n",
    "for i in os.listdir('C:/Users/valen/OneDrive/Pictures/nostre/disgust'):\n",
    "    labels.append('disgust')\n",
    "for i in os.listdir('C:/Users/valen/OneDrive/Pictures/nostre/fear'):\n",
    "    labels.append('fear')\n",
    "for i in os.listdir('C:/Users/valen/OneDrive/Pictures/nostre/happy'):\n",
    "    labels.append('happy')\n",
    "for i in os.listdir('C:/Users/valen/OneDrive/Pictures/nostre/neutral'):\n",
    "    labels.append('neutral')\n",
    "for i in os.listdir('C:/Users/valen/OneDrive/Pictures/nostre/sad'):\n",
    "    labels.append('sad')\n",
    "for i in os.listdir('C:/Users/valen/OneDrive/Pictures/nostre/surprise'):\n",
    "    labels.append('surprise')\n",
    "   "
   ]
  },
  {
   "cell_type": "code",
   "execution_count": null,
   "metadata": {
    "id": "4ZFm8eo7ck-l",
    "outputId": "a31b9d6e-25a2-44a3-d0c2-f7087f237f4d"
   },
   "outputs": [
    {
     "name": "stderr",
     "output_type": "stream",
     "text": [
      "100%|████████████████████████████████████████████████████████████████████████████████| 248/248 [00:05<00:00, 48.43it/s]\n",
      "100%|████████████████████████████████████████████████████████████████████████████████| 235/235 [00:03<00:00, 73.03it/s]\n",
      "100%|████████████████████████████████████████████████████████████████████████████████| 243/243 [00:03<00:00, 73.70it/s]\n",
      "100%|████████████████████████████████████████████████████████████████████████████████| 252/252 [00:03<00:00, 66.18it/s]\n",
      "100%|███████████████████████████████████████████████████████████████████████████████| 281/281 [00:00<00:00, 378.77it/s]\n",
      "100%|███████████████████████████████████████████████████████████████████████████████| 292/292 [00:00<00:00, 573.28it/s]\n",
      "100%|███████████████████████████████████████████████████████████████████████████████| 242/242 [00:00<00:00, 645.68it/s]\n"
     ]
    }
   ],
   "source": [
    "#Images extraction for each label\n",
    "loc1 = 'C:/Users/valen/OneDrive/Pictures/nostre/angry'\n",
    "loc2 = 'C:/Users/valen/OneDrive/Pictures/nostre/disgust'\n",
    "loc3 = 'C:/Users/valen/OneDrive/Pictures/nostre/fear'\n",
    "loc4 = 'C:/Users/valen/OneDrive/Pictures/nostre/happy'\n",
    "loc5 = 'C:/Users/valen/OneDrive/Pictures/nostre/neutral'\n",
    "loc6 = 'C:/Users/valen/OneDrive/Pictures/nostre/sad'\n",
    "loc7 = 'C:/Users/valen/OneDrive/Pictures/nostre/surprise'\n",
    "from tqdm import tqdm\n",
    "for i in tqdm(os.listdir(loc1)):\n",
    "    features.append(cv2.imread(os.path.join(loc1,i),0))\n",
    "    \n",
    "for i in tqdm(os.listdir(loc2)):\n",
    "    features.append(cv2.imread(os.path.join(loc2,i),0))\n",
    "    \n",
    "for i in tqdm(os.listdir(loc3)):\n",
    "    features.append(cv2.imread(os.path.join(loc3,i),0))\n",
    "    \n",
    "for i in tqdm(os.listdir(loc4)):\n",
    "    features.append(cv2.imread(os.path.join(loc4,i),0))\n",
    "for i in tqdm(os.listdir(loc5)):\n",
    "    features.append(cv2.imread(os.path.join(loc5,i),0))\n",
    "    \n",
    "for i in tqdm(os.listdir(loc6)):\n",
    "    features.append(cv2.imread(os.path.join(loc6,i),0))\n",
    "    \n",
    "for i in tqdm(os.listdir(loc7)):\n",
    "    features.append(cv2.imread(os.path.join(loc7,i),0))"
   ]
  },
  {
   "cell_type": "markdown",
   "metadata": {
    "id": "5RQEIZoEck-p"
   },
   "source": [
    "*DATASET FACES*"
   ]
  },
  {
   "cell_type": "code",
   "execution_count": null,
   "metadata": {
    "id": "7firGimDck-r"
   },
   "outputs": [],
   "source": [
    "#Label extraction\n",
    "import os\n",
    "for i in os.listdir('C:/Users/valen/OneDrive/Pictures/faces_reshape/angry'):\n",
    "    labels.append('angry')\n",
    "for i in os.listdir('C:/Users/valen/OneDrive/Pictures/faces_reshape/disgust'):\n",
    "    labels.append('disgust')\n",
    "for i in os.listdir('C:/Users/valen/OneDrive/Pictures/faces_reshape/fear'):\n",
    "    labels.append('fear')\n",
    "for i in os.listdir('C:/Users/valen/OneDrive/Pictures/faces_reshape/happy'):\n",
    "    labels.append('happy')\n",
    "for i in os.listdir('C:/Users/valen/OneDrive/Pictures/faces_reshape/neutral'):\n",
    "    labels.append('neutral')\n",
    "for i in os.listdir('C:/Users/valen/OneDrive/Pictures/faces_reshape/sad'):\n",
    "    labels.append('sad')"
   ]
  },
  {
   "cell_type": "code",
   "execution_count": null,
   "metadata": {
    "id": "AT0U0oBsck-t",
    "outputId": "db533103-5e59-434f-9031-ba100ffcac9a"
   },
   "outputs": [
    {
     "name": "stderr",
     "output_type": "stream",
     "text": [
      "100%|███████████████████████████████████████████████████████████████████████████████████| 4/4 [00:00<00:00, 169.41it/s]\n",
      "100%|███████████████████████████████████████████████████████████████████████████████████| 5/5 [00:00<00:00, 226.02it/s]\n",
      "100%|███████████████████████████████████████████████████████████████████████████████████| 9/9 [00:00<00:00, 253.68it/s]\n",
      "100%|███████████████████████████████████████████████████████████████████████████████████| 3/3 [00:00<00:00, 198.21it/s]\n",
      "100%|███████████████████████████████████████████████████████████████████████████████████| 4/4 [00:00<00:00, 201.65it/s]\n",
      "100%|███████████████████████████████████████████████████████████████████████████████████| 6/6 [00:00<00:00, 259.12it/s]\n"
     ]
    }
   ],
   "source": [
    "#Images extraction for each label\n",
    "loc1 = 'C:/Users/valen/OneDrive/Pictures/faces_reshape/angry'\n",
    "loc2 = 'C:/Users/valen/OneDrive/Pictures/faces_reshape/disgust'\n",
    "loc3 = 'C:/Users/valen/OneDrive/Pictures/faces_reshape/fear'\n",
    "loc4 = 'C:/Users/valen/OneDrive/Pictures/faces_reshape/happy'\n",
    "loc5 = 'C:/Users/valen/OneDrive/Pictures/faces_reshape/neutral'\n",
    "loc6 = 'C:/Users/valen/OneDrive/Pictures/faces_reshape/sad'\n",
    "features2= []\n",
    "from tqdm import tqdm\n",
    "for i in tqdm(os.listdir(loc1)):\n",
    "    features.append(cv2.imread(os.path.join(loc1,i),0))\n",
    "    \n",
    "for i in tqdm(os.listdir(loc2)):\n",
    "    features.append(cv2.imread(os.path.join(loc2,i),0))\n",
    "    \n",
    "for i in tqdm(os.listdir(loc3)):\n",
    "    features.append(cv2.imread(os.path.join(loc3,i),0))\n",
    "    \n",
    "for i in tqdm(os.listdir(loc4)):\n",
    "    features.append(cv2.imread(os.path.join(loc4,i),0))\n",
    "for i in tqdm(os.listdir(loc5)):\n",
    "    features.append(cv2.imread(os.path.join(loc5,i),0))\n",
    "    \n",
    "for i in tqdm(os.listdir(loc6)):\n",
    "    features.append(cv2.imread(os.path.join(loc6,i),0))"
   ]
  },
  {
   "cell_type": "markdown",
   "metadata": {
    "id": "Bs_JxYBRck-w"
   },
   "source": [
    "*DATASET JAFFE*"
   ]
  },
  {
   "cell_type": "code",
   "execution_count": null,
   "metadata": {
    "id": "tbDmi-zIck-y"
   },
   "outputs": [],
   "source": [
    "#Label extraction\n",
    "import os\n",
    "for i in os.listdir('C:/Users/valen/OneDrive/Pictures/jaffe/angry'):\n",
    "    labels.append('angry')\n",
    "for i in os.listdir('C:/Users/valen/OneDrive/Pictures/jaffe/disgust'):\n",
    "    labels.append('disgust')\n",
    "for i in os.listdir('C:/Users/valen/OneDrive/Pictures/jaffe/fear'):\n",
    "    labels.append('fear')\n",
    "for i in os.listdir('C:/Users/valen/OneDrive/Pictures/jaffe/happy'):\n",
    "    labels.append('happy')\n",
    "for i in os.listdir('C:/Users/valen/OneDrive/Pictures/jaffe/neutral'):\n",
    "    labels.append('neutral')\n",
    "for i in os.listdir('C:/Users/valen/OneDrive/Pictures/jaffe/sad'):\n",
    "    labels.append('sad')\n",
    "for i in os.listdir('C:/Users/valen/OneDrive/Pictures/jaffe/surprise'):\n",
    "    labels.append('surprise')"
   ]
  },
  {
   "cell_type": "code",
   "execution_count": null,
   "metadata": {
    "id": "WM2vJT73ck-0",
    "outputId": "12a57de8-d27c-41cf-802c-62577f81c064"
   },
   "outputs": [
    {
     "name": "stderr",
     "output_type": "stream",
     "text": [
      "100%|█████████████████████████████████████████████████████████████████████████████████| 30/30 [00:00<00:00, 366.80it/s]\n",
      "100%|█████████████████████████████████████████████████████████████████████████████████| 28/28 [00:00<00:00, 632.35it/s]\n",
      "100%|█████████████████████████████████████████████████████████████████████████████████| 32/32 [00:00<00:00, 785.19it/s]\n",
      "100%|█████████████████████████████████████████████████████████████████████████████████| 31/31 [00:00<00:00, 663.47it/s]\n",
      "100%|█████████████████████████████████████████████████████████████████████████████████| 30/30 [00:00<00:00, 630.93it/s]\n",
      "100%|█████████████████████████████████████████████████████████████████████████████████| 31/31 [00:00<00:00, 642.42it/s]\n",
      "100%|█████████████████████████████████████████████████████████████████████████████████| 30/30 [00:00<00:00, 644.28it/s]\n"
     ]
    }
   ],
   "source": [
    "#Images extraction for each label\n",
    "loc1 = 'C:/Users/valen/OneDrive/Pictures/jaffe/angry'\n",
    "loc2 = 'C:/Users/valen/OneDrive/Pictures/jaffe/disgust'\n",
    "loc3 = 'C:/Users/valen/OneDrive/Pictures/jaffe/fear'\n",
    "loc4 = 'C:/Users/valen/OneDrive/Pictures/jaffe/happy'\n",
    "loc5 = 'C:/Users/valen/OneDrive/Pictures/jaffe/neutral'\n",
    "loc6 = 'C:/Users/valen/OneDrive/Pictures/jaffe/sad'\n",
    "loc7 = 'C:/Users/valen/OneDrive/Pictures/jaffe/surprise'\n",
    "from tqdm import tqdm\n",
    "for i in tqdm(os.listdir(loc1)):\n",
    "    features.append(cv2.imread(os.path.join(loc1,i),0))\n",
    "    \n",
    "for i in tqdm(os.listdir(loc2)):\n",
    "    features.append(cv2.imread(os.path.join(loc2,i),0))\n",
    "    \n",
    "for i in tqdm(os.listdir(loc3)):\n",
    "    features.append(cv2.imread(os.path.join(loc3,i),0))\n",
    "    \n",
    "for i in tqdm(os.listdir(loc4)):\n",
    "    features.append(cv2.imread(os.path.join(loc4,i),0))\n",
    "for i in tqdm(os.listdir(loc5)):\n",
    "    features.append(cv2.imread(os.path.join(loc5,i),0))\n",
    "    \n",
    "for i in tqdm(os.listdir(loc6)):\n",
    "    features.append(cv2.imread(os.path.join(loc6,i),0))\n",
    "    \n",
    "for i in tqdm(os.listdir(loc7)):\n",
    "    features.append(cv2.imread(os.path.join(loc7,i),0))"
   ]
  },
  {
   "cell_type": "markdown",
   "metadata": {
    "id": "3-5rJca2ck-2"
   },
   "source": [
    "We create a dataset that contains all images of all source data."
   ]
  },
  {
   "cell_type": "code",
   "execution_count": null,
   "metadata": {
    "id": "sZDDKJrcck-4"
   },
   "outputs": [],
   "source": [
    "train_data=pd.DataFrame()\n",
    "train_data['labels']=labels\n",
    "train_data['img']=features"
   ]
  },
  {
   "cell_type": "code",
   "execution_count": null,
   "metadata": {
    "id": "kuabfb7kck-5",
    "outputId": "d0d71c4f-175c-42b5-d533-e00a881d6122"
   },
   "outputs": [
    {
     "data": {
      "text/html": [
       "<div>\n",
       "<style scoped>\n",
       "    .dataframe tbody tr th:only-of-type {\n",
       "        vertical-align: middle;\n",
       "    }\n",
       "\n",
       "    .dataframe tbody tr th {\n",
       "        vertical-align: top;\n",
       "    }\n",
       "\n",
       "    .dataframe thead th {\n",
       "        text-align: right;\n",
       "    }\n",
       "</style>\n",
       "<table border=\"1\" class=\"dataframe\">\n",
       "  <thead>\n",
       "    <tr style=\"text-align: right;\">\n",
       "      <th></th>\n",
       "      <th>labels</th>\n",
       "      <th>img</th>\n",
       "    </tr>\n",
       "  </thead>\n",
       "  <tbody>\n",
       "    <tr>\n",
       "      <th>0</th>\n",
       "      <td>angry</td>\n",
       "      <td>[[0, 0, 0, 0, 0, 0, 0, 0, 0, 0, 0, 0, 0, 0, 0,...</td>\n",
       "    </tr>\n",
       "    <tr>\n",
       "      <th>1</th>\n",
       "      <td>angry</td>\n",
       "      <td>[[0, 0, 0, 0, 0, 0, 0, 0, 0, 0, 0, 0, 0, 0, 0,...</td>\n",
       "    </tr>\n",
       "    <tr>\n",
       "      <th>2</th>\n",
       "      <td>angry</td>\n",
       "      <td>[[0, 0, 0, 0, 0, 0, 0, 0, 0, 0, 0, 0, 0, 0, 1,...</td>\n",
       "    </tr>\n",
       "    <tr>\n",
       "      <th>3</th>\n",
       "      <td>angry</td>\n",
       "      <td>[[0, 0, 0, 0, 0, 0, 0, 0, 0, 0, 0, 1, 0, 0, 0,...</td>\n",
       "    </tr>\n",
       "    <tr>\n",
       "      <th>4</th>\n",
       "      <td>angry</td>\n",
       "      <td>[[0, 0, 0, 0, 0, 0, 0, 0, 0, 0, 0, 0, 0, 0, 0,...</td>\n",
       "    </tr>\n",
       "    <tr>\n",
       "      <th>...</th>\n",
       "      <td>...</td>\n",
       "      <td>...</td>\n",
       "    </tr>\n",
       "    <tr>\n",
       "      <th>2264</th>\n",
       "      <td>surprise</td>\n",
       "      <td>[[92, 88, 88, 94, 102, 90, 76, 68, 40, 18, 10,...</td>\n",
       "    </tr>\n",
       "    <tr>\n",
       "      <th>2265</th>\n",
       "      <td>surprise</td>\n",
       "      <td>[[93, 97, 97, 85, 68, 37, 7, 18, 9, 4, 2, 3, 3...</td>\n",
       "    </tr>\n",
       "    <tr>\n",
       "      <th>2266</th>\n",
       "      <td>surprise</td>\n",
       "      <td>[[135, 150, 159, 151, 154, 154, 159, 163, 165,...</td>\n",
       "    </tr>\n",
       "    <tr>\n",
       "      <th>2267</th>\n",
       "      <td>surprise</td>\n",
       "      <td>[[157, 163, 168, 164, 160, 161, 164, 163, 164,...</td>\n",
       "    </tr>\n",
       "    <tr>\n",
       "      <th>2268</th>\n",
       "      <td>surprise</td>\n",
       "      <td>[[173, 171, 168, 168, 166, 170, 161, 163, 170,...</td>\n",
       "    </tr>\n",
       "  </tbody>\n",
       "</table>\n",
       "<p>2269 rows × 2 columns</p>\n",
       "</div>"
      ],
      "text/plain": [
       "        labels                                                img\n",
       "0        angry  [[0, 0, 0, 0, 0, 0, 0, 0, 0, 0, 0, 0, 0, 0, 0,...\n",
       "1        angry  [[0, 0, 0, 0, 0, 0, 0, 0, 0, 0, 0, 0, 0, 0, 0,...\n",
       "2        angry  [[0, 0, 0, 0, 0, 0, 0, 0, 0, 0, 0, 0, 0, 0, 1,...\n",
       "3        angry  [[0, 0, 0, 0, 0, 0, 0, 0, 0, 0, 0, 1, 0, 0, 0,...\n",
       "4        angry  [[0, 0, 0, 0, 0, 0, 0, 0, 0, 0, 0, 0, 0, 0, 0,...\n",
       "...        ...                                                ...\n",
       "2264  surprise  [[92, 88, 88, 94, 102, 90, 76, 68, 40, 18, 10,...\n",
       "2265  surprise  [[93, 97, 97, 85, 68, 37, 7, 18, 9, 4, 2, 3, 3...\n",
       "2266  surprise  [[135, 150, 159, 151, 154, 154, 159, 163, 165,...\n",
       "2267  surprise  [[157, 163, 168, 164, 160, 161, 164, 163, 164,...\n",
       "2268  surprise  [[173, 171, 168, 168, 166, 170, 161, 163, 170,...\n",
       "\n",
       "[2269 rows x 2 columns]"
      ]
     },
     "execution_count": 11,
     "metadata": {
      "tags": []
     },
     "output_type": "execute_result"
    }
   ],
   "source": [
    "train_data"
   ]
  },
  {
   "cell_type": "code",
   "execution_count": null,
   "metadata": {
    "id": "4v34U7Sack_B",
    "outputId": "1269cd8f-6831-43b9-bd97-eb2c69749080"
   },
   "outputs": [
    {
     "data": {
      "text/plain": [
       "<matplotlib.axes._subplots.AxesSubplot at 0x285edb396d0>"
      ]
     },
     "execution_count": 14,
     "metadata": {
      "tags": []
     },
     "output_type": "execute_result"
    },
    {
     "data": {
      "image/png": "[encoded data removed]",
      "text/plain": [
       "<Figure size 576x288 with 1 Axes>"
      ]
     },
     "metadata": {
      "needs_background": "light",
      "tags": []
     },
     "output_type": "display_data"
    }
   ],
   "source": [
    "plt.figure(figsize = (8,4))\n",
    "sns.countplot(train_data['labels'])"
   ]
  },
  {
   "cell_type": "markdown",
   "metadata": {
    "id": "Nw9kUWTbck_E"
   },
   "source": [
    "**RESHAPE IMAGE**"
   ]
  },
  {
   "cell_type": "markdown",
   "metadata": {
    "id": "VrxPDUN9ck_F"
   },
   "source": [
    "We adding the color dimension and resize shape of image from (224,224) into (224,224,3)"
   ]
  },
  {
   "cell_type": "code",
   "execution_count": null,
   "metadata": {
    "id": "O4bGJOBock_G"
   },
   "outputs": [],
   "source": [
    "features = np.array(features)\n",
    "X = np.stack((features,)*3, axis=-1)\n",
    "Y = np.array(labels)"
   ]
  },
  {
   "cell_type": "markdown",
   "metadata": {
    "id": "Sl6Xnb-Bck_H"
   },
   "source": [
    "Save dataset into npz file"
   ]
  },
  {
   "cell_type": "code",
   "execution_count": null,
   "metadata": {
    "id": "iItYHCQzck_I"
   },
   "outputs": [],
   "source": [
    "np.savez('dataset_imgs', Y=Y, X=X)"
   ]
  }
 ],
 "metadata": {
  "colab": {
   "collapsed_sections": [],
   "name": "creation_dataset_2.ipynb",
   "provenance": []
  },
  "kernelspec": {
   "display_name": "Python 3",
   "language": "python",
   "name": "python3"
  },
  "language_info": {
   "codemirror_mode": {
    "name": "ipython",
    "version": 3
   },
   "file_extension": ".py",
   "mimetype": "text/x-python",
   "name": "python",
   "nbconvert_exporter": "python",
   "pygments_lexer": "ipython3",
   "version": "3.7.0"
  }
 },
 "nbformat": 4,
 "nbformat_minor": 1
}
