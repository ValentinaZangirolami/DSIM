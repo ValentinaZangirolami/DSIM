{
  "nbformat": 4,
  "nbformat_minor": 0,
  "metadata": {
    "kernelspec": {
      "display_name": "Python 3",
      "language": "python",
      "name": "python3"
    },
    "language_info": {
      "codemirror_mode": {
        "name": "ipython",
        "version": 3
      },
      "file_extension": ".py",
      "mimetype": "text/x-python",
      "name": "python",
      "nbconvert_exporter": "python",
      "pygments_lexer": "ipython3",
      "version": "3.8.3"
    },
    "colab": {
      "name": "Images_acquisition_and_cropping.ipynb",
      "provenance": []
    }
  },
  "cells": [
    {
      "cell_type": "code",
      "metadata": {
        "id": "IwJzf1tRC9HV"
      },
      "source": [
        "import numpy as np\n",
        "import sys\n",
        "import cv2 as cv\n",
        "from cv2 import VideoCapture as cap\n",
        "import matplotlib.pyplot as plt\n",
        "from skimage import io\n",
        "import os\n",
        "import math\n",
        "import time"
      ],
      "execution_count": null,
      "outputs": []
    },
    {
      "cell_type": "code",
      "metadata": {
        "id": "c1zE4hf9C9HX"
      },
      "source": [
        "def detection_face(directory1, directory2,size = (224, 224), color = \"RGB\"):\n",
        "    # Load model to detect frontal faces\n",
        "    face_detector = cv.CascadeClassifier(cv.data.haarcascades + 'haarcascade_frontalface_default.xml') \n",
        "    # variabili per conteggio ed errori\n",
        "    f = 1\n",
        "    err_noimg = 0\n",
        "    \n",
        "    for filename in os.listdir(directory1):\n",
        "        # check per leggere solamente file jpg o jpeg\n",
        "        if filename.endswith(\".jpg\") or filename.endswith(\".tiff\"):\n",
        "             # lettura dell'immagine            \n",
        "            img = cv.imread(os.path.join(directory1, filename))\n",
        "            # conversione immagine necessaria per il face detector\n",
        "            img_gray = cv.cvtColor(img, cv.COLOR_RGB2GRAY)\n",
        "            faces = face_detector.detectMultiScale(img_gray)\n",
        "            if len(faces) == 1:\n",
        "                for (x, y, w, h) in faces:\n",
        "                    # ritaglio dell'immagine rispetto al \"quadrato\" trovato\n",
        "                    roi_color = img[y:y+h, x:x+w]\n",
        "                    # resize dell'immagine\n",
        "                    re_img = cv.resize(roi_color, size)\n",
        "                    \n",
        "                    # salvataggio immagine\n",
        "                    if color == \"RGB\":\n",
        "                        cv.imwrite(os.path.join(directory2, str(f))+\"_rrgb.jpg\", re_img)\n",
        "                        f += 1\n",
        "                    elif color == \"BW\":\n",
        "                        cv.imwrite(os.path.join(directory2, str(f))+\"_bw.jpg\", cv.cvtColor(re_img, cv.COLOR_RGB2GRAY))\n",
        "                        f += 1\n",
        "            # se non trova volti, prosegue qui            \n",
        "            else:\n",
        "                err_noimg += 1\n",
        "                try:\n",
        "                    # delete immagine per non creare doppioni (more safe!)\n",
        "                    del faces, re_img\n",
        "                # necessaria se non ha trovato volti (evitare crash code)\n",
        "                except:\n",
        "                    pass\n",
        "    # output finale           \n",
        "    print('Created {}/{} images cropped'.format(f-1, f+err_noimg-1))"
      ],
      "execution_count": null,
      "outputs": []
    },
    {
      "cell_type": "code",
      "metadata": {
        "id": "cPplXUpYC9HZ"
      },
      "source": [
        "def acquisition_cam(directory, subject, init_number, counter_limit, time_sleep = 2, numbered = False):\n",
        "    \n",
        "    # assegnazione cam (immagine)\n",
        "    cam = cv.VideoCapture(0)\n",
        "    \n",
        "    # variabili per conteggi\n",
        "    img_counter = init_number\n",
        "    counter = 1\n",
        "    \n",
        "    # ciclo acquisizione frameByframe\n",
        "    while True:\n",
        "        # lettura frame e assegnazione alla variabile\n",
        "        ret, frame = cam.read()\n",
        "        # riproduco frame per averlo in live (sulla finestra aperta)\n",
        "        frame=process_frame(frame)\n",
        "        cv.imshow('video',frame)\n",
        "        \n",
        "        # se non va, esco dal ciclo senza rompere code\n",
        "        if not ret:\n",
        "            break\n",
        "        k = cv.waitKey(1)\n",
        "        \n",
        "        # utile per impostare un frame rate di acquisizione manuale in secondi (to improve)\n",
        "        time.sleep(time_sleep)\n",
        "\n",
        "        # q to exit from webcam\n",
        "        if cv.waitKey(20) & 0xFF == ord('q'):\n",
        "            print(\"Escape hit, closing...\")\n",
        "            break\n",
        "\n",
        "        # fase di salvataggio frame\n",
        "        else:\n",
        "            # assegnazione del nome\n",
        "            img_name = \"{}{} ({}).jpg\".format(directory, subject, img_counter)\n",
        "            # salvataggio file\n",
        "            cv.imwrite(img_name, frame)\n",
        "            print(\"{} written!\".format(img_name))\n",
        "            # conteggio per numerazione file\n",
        "            img_counter += 1\n",
        "            \n",
        "            # check per limitare acquisizione\n",
        "            if numbered:\n",
        "                if counter == counter_limit:\n",
        "                    print(\"Counter limit reached:{}\".format(counter_limit))\n",
        "                    break\n",
        "                counter+=1\n",
        "\n",
        "    # chiusura cam e windows cam\n",
        "    cam.release()\n",
        "    cv.destroyAllWindows()"
      ],
      "execution_count": null,
      "outputs": []
    },
    {
      "cell_type": "code",
      "metadata": {
        "id": "qoiGx0cWC9Hb"
      },
      "source": [
        "def process_frame(img):\n",
        "    return img"
      ],
      "execution_count": null,
      "outputs": []
    },
    {
      "cell_type": "code",
      "metadata": {
        "id": "AoW7RXEEC9Hc",
        "outputId": "7bb117d1-4f48-48a5-dbbe-d987eacdd613"
      },
      "source": [
        "from_directory=(\"C:/Users/valen/OneDrive/Pictures/img_prova/happy/\")\n",
        "acquisition_cam(directory = from_directory, subject = \"happy\", init_number = 0, counter_limit = 110, time_sleep = 0.5, numbered = True)"
      ],
      "execution_count": null,
      "outputs": [
        {
          "output_type": "stream",
          "text": [
            "C:/Users/valen/OneDrive/Pictures/img_prova/happy/happy (0).jpg written!\n",
            "C:/Users/valen/OneDrive/Pictures/img_prova/happy/happy (1).jpg written!\n",
            "C:/Users/valen/OneDrive/Pictures/img_prova/happy/happy (2).jpg written!\n",
            "C:/Users/valen/OneDrive/Pictures/img_prova/happy/happy (3).jpg written!\n",
            "C:/Users/valen/OneDrive/Pictures/img_prova/happy/happy (4).jpg written!\n",
            "C:/Users/valen/OneDrive/Pictures/img_prova/happy/happy (5).jpg written!\n",
            "C:/Users/valen/OneDrive/Pictures/img_prova/happy/happy (6).jpg written!\n",
            "C:/Users/valen/OneDrive/Pictures/img_prova/happy/happy (7).jpg written!\n",
            "C:/Users/valen/OneDrive/Pictures/img_prova/happy/happy (8).jpg written!\n",
            "C:/Users/valen/OneDrive/Pictures/img_prova/happy/happy (9).jpg written!\n",
            "C:/Users/valen/OneDrive/Pictures/img_prova/happy/happy (10).jpg written!\n",
            "C:/Users/valen/OneDrive/Pictures/img_prova/happy/happy (11).jpg written!\n",
            "C:/Users/valen/OneDrive/Pictures/img_prova/happy/happy (12).jpg written!\n",
            "C:/Users/valen/OneDrive/Pictures/img_prova/happy/happy (13).jpg written!\n",
            "C:/Users/valen/OneDrive/Pictures/img_prova/happy/happy (14).jpg written!\n",
            "C:/Users/valen/OneDrive/Pictures/img_prova/happy/happy (15).jpg written!\n",
            "C:/Users/valen/OneDrive/Pictures/img_prova/happy/happy (16).jpg written!\n",
            "C:/Users/valen/OneDrive/Pictures/img_prova/happy/happy (17).jpg written!\n",
            "C:/Users/valen/OneDrive/Pictures/img_prova/happy/happy (18).jpg written!\n",
            "C:/Users/valen/OneDrive/Pictures/img_prova/happy/happy (19).jpg written!\n",
            "C:/Users/valen/OneDrive/Pictures/img_prova/happy/happy (20).jpg written!\n",
            "C:/Users/valen/OneDrive/Pictures/img_prova/happy/happy (21).jpg written!\n",
            "C:/Users/valen/OneDrive/Pictures/img_prova/happy/happy (22).jpg written!\n",
            "C:/Users/valen/OneDrive/Pictures/img_prova/happy/happy (23).jpg written!\n",
            "C:/Users/valen/OneDrive/Pictures/img_prova/happy/happy (24).jpg written!\n",
            "C:/Users/valen/OneDrive/Pictures/img_prova/happy/happy (25).jpg written!\n",
            "C:/Users/valen/OneDrive/Pictures/img_prova/happy/happy (26).jpg written!\n",
            "C:/Users/valen/OneDrive/Pictures/img_prova/happy/happy (27).jpg written!\n",
            "C:/Users/valen/OneDrive/Pictures/img_prova/happy/happy (28).jpg written!\n",
            "C:/Users/valen/OneDrive/Pictures/img_prova/happy/happy (29).jpg written!\n",
            "C:/Users/valen/OneDrive/Pictures/img_prova/happy/happy (30).jpg written!\n",
            "C:/Users/valen/OneDrive/Pictures/img_prova/happy/happy (31).jpg written!\n",
            "C:/Users/valen/OneDrive/Pictures/img_prova/happy/happy (32).jpg written!\n",
            "C:/Users/valen/OneDrive/Pictures/img_prova/happy/happy (33).jpg written!\n",
            "C:/Users/valen/OneDrive/Pictures/img_prova/happy/happy (34).jpg written!\n",
            "C:/Users/valen/OneDrive/Pictures/img_prova/happy/happy (35).jpg written!\n",
            "C:/Users/valen/OneDrive/Pictures/img_prova/happy/happy (36).jpg written!\n",
            "C:/Users/valen/OneDrive/Pictures/img_prova/happy/happy (37).jpg written!\n",
            "C:/Users/valen/OneDrive/Pictures/img_prova/happy/happy (38).jpg written!\n",
            "C:/Users/valen/OneDrive/Pictures/img_prova/happy/happy (39).jpg written!\n",
            "C:/Users/valen/OneDrive/Pictures/img_prova/happy/happy (40).jpg written!\n",
            "C:/Users/valen/OneDrive/Pictures/img_prova/happy/happy (41).jpg written!\n",
            "C:/Users/valen/OneDrive/Pictures/img_prova/happy/happy (42).jpg written!\n",
            "C:/Users/valen/OneDrive/Pictures/img_prova/happy/happy (43).jpg written!\n",
            "C:/Users/valen/OneDrive/Pictures/img_prova/happy/happy (44).jpg written!\n",
            "C:/Users/valen/OneDrive/Pictures/img_prova/happy/happy (45).jpg written!\n",
            "C:/Users/valen/OneDrive/Pictures/img_prova/happy/happy (46).jpg written!\n",
            "C:/Users/valen/OneDrive/Pictures/img_prova/happy/happy (47).jpg written!\n",
            "C:/Users/valen/OneDrive/Pictures/img_prova/happy/happy (48).jpg written!\n",
            "C:/Users/valen/OneDrive/Pictures/img_prova/happy/happy (49).jpg written!\n",
            "C:/Users/valen/OneDrive/Pictures/img_prova/happy/happy (50).jpg written!\n",
            "C:/Users/valen/OneDrive/Pictures/img_prova/happy/happy (51).jpg written!\n",
            "C:/Users/valen/OneDrive/Pictures/img_prova/happy/happy (52).jpg written!\n",
            "C:/Users/valen/OneDrive/Pictures/img_prova/happy/happy (53).jpg written!\n",
            "C:/Users/valen/OneDrive/Pictures/img_prova/happy/happy (54).jpg written!\n",
            "C:/Users/valen/OneDrive/Pictures/img_prova/happy/happy (55).jpg written!\n",
            "C:/Users/valen/OneDrive/Pictures/img_prova/happy/happy (56).jpg written!\n",
            "C:/Users/valen/OneDrive/Pictures/img_prova/happy/happy (57).jpg written!\n",
            "C:/Users/valen/OneDrive/Pictures/img_prova/happy/happy (58).jpg written!\n",
            "C:/Users/valen/OneDrive/Pictures/img_prova/happy/happy (59).jpg written!\n",
            "C:/Users/valen/OneDrive/Pictures/img_prova/happy/happy (60).jpg written!\n",
            "C:/Users/valen/OneDrive/Pictures/img_prova/happy/happy (61).jpg written!\n",
            "C:/Users/valen/OneDrive/Pictures/img_prova/happy/happy (62).jpg written!\n",
            "C:/Users/valen/OneDrive/Pictures/img_prova/happy/happy (63).jpg written!\n",
            "C:/Users/valen/OneDrive/Pictures/img_prova/happy/happy (64).jpg written!\n",
            "C:/Users/valen/OneDrive/Pictures/img_prova/happy/happy (65).jpg written!\n",
            "C:/Users/valen/OneDrive/Pictures/img_prova/happy/happy (66).jpg written!\n",
            "C:/Users/valen/OneDrive/Pictures/img_prova/happy/happy (67).jpg written!\n",
            "C:/Users/valen/OneDrive/Pictures/img_prova/happy/happy (68).jpg written!\n",
            "C:/Users/valen/OneDrive/Pictures/img_prova/happy/happy (69).jpg written!\n",
            "C:/Users/valen/OneDrive/Pictures/img_prova/happy/happy (70).jpg written!\n",
            "C:/Users/valen/OneDrive/Pictures/img_prova/happy/happy (71).jpg written!\n",
            "C:/Users/valen/OneDrive/Pictures/img_prova/happy/happy (72).jpg written!\n",
            "C:/Users/valen/OneDrive/Pictures/img_prova/happy/happy (73).jpg written!\n",
            "C:/Users/valen/OneDrive/Pictures/img_prova/happy/happy (74).jpg written!\n",
            "C:/Users/valen/OneDrive/Pictures/img_prova/happy/happy (75).jpg written!\n",
            "C:/Users/valen/OneDrive/Pictures/img_prova/happy/happy (76).jpg written!\n",
            "C:/Users/valen/OneDrive/Pictures/img_prova/happy/happy (77).jpg written!\n",
            "C:/Users/valen/OneDrive/Pictures/img_prova/happy/happy (78).jpg written!\n",
            "C:/Users/valen/OneDrive/Pictures/img_prova/happy/happy (79).jpg written!\n",
            "C:/Users/valen/OneDrive/Pictures/img_prova/happy/happy (80).jpg written!\n",
            "C:/Users/valen/OneDrive/Pictures/img_prova/happy/happy (81).jpg written!\n",
            "C:/Users/valen/OneDrive/Pictures/img_prova/happy/happy (82).jpg written!\n",
            "C:/Users/valen/OneDrive/Pictures/img_prova/happy/happy (83).jpg written!\n",
            "C:/Users/valen/OneDrive/Pictures/img_prova/happy/happy (84).jpg written!\n",
            "C:/Users/valen/OneDrive/Pictures/img_prova/happy/happy (85).jpg written!\n",
            "C:/Users/valen/OneDrive/Pictures/img_prova/happy/happy (86).jpg written!\n",
            "C:/Users/valen/OneDrive/Pictures/img_prova/happy/happy (87).jpg written!\n",
            "C:/Users/valen/OneDrive/Pictures/img_prova/happy/happy (88).jpg written!\n",
            "C:/Users/valen/OneDrive/Pictures/img_prova/happy/happy (89).jpg written!\n",
            "C:/Users/valen/OneDrive/Pictures/img_prova/happy/happy (90).jpg written!\n",
            "C:/Users/valen/OneDrive/Pictures/img_prova/happy/happy (91).jpg written!\n",
            "C:/Users/valen/OneDrive/Pictures/img_prova/happy/happy (92).jpg written!\n",
            "C:/Users/valen/OneDrive/Pictures/img_prova/happy/happy (93).jpg written!\n",
            "C:/Users/valen/OneDrive/Pictures/img_prova/happy/happy (94).jpg written!\n",
            "C:/Users/valen/OneDrive/Pictures/img_prova/happy/happy (95).jpg written!\n",
            "C:/Users/valen/OneDrive/Pictures/img_prova/happy/happy (96).jpg written!\n",
            "C:/Users/valen/OneDrive/Pictures/img_prova/happy/happy (97).jpg written!\n",
            "C:/Users/valen/OneDrive/Pictures/img_prova/happy/happy (98).jpg written!\n",
            "C:/Users/valen/OneDrive/Pictures/img_prova/happy/happy (99).jpg written!\n",
            "C:/Users/valen/OneDrive/Pictures/img_prova/happy/happy (100).jpg written!\n",
            "C:/Users/valen/OneDrive/Pictures/img_prova/happy/happy (101).jpg written!\n",
            "C:/Users/valen/OneDrive/Pictures/img_prova/happy/happy (102).jpg written!\n",
            "C:/Users/valen/OneDrive/Pictures/img_prova/happy/happy (103).jpg written!\n",
            "C:/Users/valen/OneDrive/Pictures/img_prova/happy/happy (104).jpg written!\n",
            "C:/Users/valen/OneDrive/Pictures/img_prova/happy/happy (105).jpg written!\n",
            "C:/Users/valen/OneDrive/Pictures/img_prova/happy/happy (106).jpg written!\n",
            "C:/Users/valen/OneDrive/Pictures/img_prova/happy/happy (107).jpg written!\n",
            "C:/Users/valen/OneDrive/Pictures/img_prova/happy/happy (108).jpg written!\n",
            "C:/Users/valen/OneDrive/Pictures/img_prova/happy/happy (109).jpg written!\n",
            "Counter limit reached:110\n"
          ],
          "name": "stdout"
        }
      ]
    },
    {
      "cell_type": "code",
      "metadata": {
        "id": "AJRnT61tC9Hc",
        "outputId": "b0dbdec8-bbc8-4add-a4e9-bcbf710d2696"
      },
      "source": [
        "directory2=(\"C:/Users/valen/OneDrive/Pictures/vale/happy/\")\n",
        "from_directory=(\"C:/Users/valen/OneDrive/Pictures/img_prova/happy/\")\n",
        "detection_face(directory1=from_directory, directory2=directory2)"
      ],
      "execution_count": null,
      "outputs": [
        {
          "output_type": "stream",
          "text": [
            "Created 91/110 images cropped\n"
          ],
          "name": "stdout"
        }
      ]
    },
    {
      "cell_type": "code",
      "metadata": {
        "id": "ZGAGiQQAC9Hd",
        "outputId": "f6e9c2cc-1623-4fe6-a1bb-82ad787ebc54"
      },
      "source": [
        "from_directory=(\"C:/Users/valen/OneDrive/Pictures/img_prova/sad/\")\n",
        "acquisition_cam(directory = from_directory, subject = \"sad\", init_number = 0, counter_limit = 110, time_sleep = 0.5, numbered = True)"
      ],
      "execution_count": null,
      "outputs": [
        {
          "output_type": "stream",
          "text": [
            "C:/Users/valen/OneDrive/Pictures/img_prova/sad/sad (0).jpg written!\n",
            "C:/Users/valen/OneDrive/Pictures/img_prova/sad/sad (1).jpg written!\n",
            "C:/Users/valen/OneDrive/Pictures/img_prova/sad/sad (2).jpg written!\n",
            "C:/Users/valen/OneDrive/Pictures/img_prova/sad/sad (3).jpg written!\n",
            "C:/Users/valen/OneDrive/Pictures/img_prova/sad/sad (4).jpg written!\n",
            "C:/Users/valen/OneDrive/Pictures/img_prova/sad/sad (5).jpg written!\n",
            "C:/Users/valen/OneDrive/Pictures/img_prova/sad/sad (6).jpg written!\n",
            "C:/Users/valen/OneDrive/Pictures/img_prova/sad/sad (7).jpg written!\n",
            "C:/Users/valen/OneDrive/Pictures/img_prova/sad/sad (8).jpg written!\n",
            "C:/Users/valen/OneDrive/Pictures/img_prova/sad/sad (9).jpg written!\n",
            "C:/Users/valen/OneDrive/Pictures/img_prova/sad/sad (10).jpg written!\n",
            "C:/Users/valen/OneDrive/Pictures/img_prova/sad/sad (11).jpg written!\n",
            "C:/Users/valen/OneDrive/Pictures/img_prova/sad/sad (12).jpg written!\n",
            "C:/Users/valen/OneDrive/Pictures/img_prova/sad/sad (13).jpg written!\n",
            "C:/Users/valen/OneDrive/Pictures/img_prova/sad/sad (14).jpg written!\n",
            "C:/Users/valen/OneDrive/Pictures/img_prova/sad/sad (15).jpg written!\n",
            "C:/Users/valen/OneDrive/Pictures/img_prova/sad/sad (16).jpg written!\n",
            "C:/Users/valen/OneDrive/Pictures/img_prova/sad/sad (17).jpg written!\n",
            "C:/Users/valen/OneDrive/Pictures/img_prova/sad/sad (18).jpg written!\n",
            "C:/Users/valen/OneDrive/Pictures/img_prova/sad/sad (19).jpg written!\n",
            "C:/Users/valen/OneDrive/Pictures/img_prova/sad/sad (20).jpg written!\n",
            "C:/Users/valen/OneDrive/Pictures/img_prova/sad/sad (21).jpg written!\n",
            "C:/Users/valen/OneDrive/Pictures/img_prova/sad/sad (22).jpg written!\n",
            "C:/Users/valen/OneDrive/Pictures/img_prova/sad/sad (23).jpg written!\n",
            "C:/Users/valen/OneDrive/Pictures/img_prova/sad/sad (24).jpg written!\n",
            "C:/Users/valen/OneDrive/Pictures/img_prova/sad/sad (25).jpg written!\n",
            "C:/Users/valen/OneDrive/Pictures/img_prova/sad/sad (26).jpg written!\n",
            "C:/Users/valen/OneDrive/Pictures/img_prova/sad/sad (27).jpg written!\n",
            "C:/Users/valen/OneDrive/Pictures/img_prova/sad/sad (28).jpg written!\n",
            "C:/Users/valen/OneDrive/Pictures/img_prova/sad/sad (29).jpg written!\n",
            "C:/Users/valen/OneDrive/Pictures/img_prova/sad/sad (30).jpg written!\n",
            "C:/Users/valen/OneDrive/Pictures/img_prova/sad/sad (31).jpg written!\n",
            "C:/Users/valen/OneDrive/Pictures/img_prova/sad/sad (32).jpg written!\n",
            "C:/Users/valen/OneDrive/Pictures/img_prova/sad/sad (33).jpg written!\n",
            "C:/Users/valen/OneDrive/Pictures/img_prova/sad/sad (34).jpg written!\n",
            "C:/Users/valen/OneDrive/Pictures/img_prova/sad/sad (35).jpg written!\n",
            "C:/Users/valen/OneDrive/Pictures/img_prova/sad/sad (36).jpg written!\n",
            "C:/Users/valen/OneDrive/Pictures/img_prova/sad/sad (37).jpg written!\n",
            "C:/Users/valen/OneDrive/Pictures/img_prova/sad/sad (38).jpg written!\n",
            "C:/Users/valen/OneDrive/Pictures/img_prova/sad/sad (39).jpg written!\n",
            "C:/Users/valen/OneDrive/Pictures/img_prova/sad/sad (40).jpg written!\n",
            "C:/Users/valen/OneDrive/Pictures/img_prova/sad/sad (41).jpg written!\n",
            "C:/Users/valen/OneDrive/Pictures/img_prova/sad/sad (42).jpg written!\n",
            "C:/Users/valen/OneDrive/Pictures/img_prova/sad/sad (43).jpg written!\n",
            "C:/Users/valen/OneDrive/Pictures/img_prova/sad/sad (44).jpg written!\n",
            "C:/Users/valen/OneDrive/Pictures/img_prova/sad/sad (45).jpg written!\n",
            "C:/Users/valen/OneDrive/Pictures/img_prova/sad/sad (46).jpg written!\n",
            "C:/Users/valen/OneDrive/Pictures/img_prova/sad/sad (47).jpg written!\n",
            "C:/Users/valen/OneDrive/Pictures/img_prova/sad/sad (48).jpg written!\n",
            "C:/Users/valen/OneDrive/Pictures/img_prova/sad/sad (49).jpg written!\n",
            "C:/Users/valen/OneDrive/Pictures/img_prova/sad/sad (50).jpg written!\n",
            "C:/Users/valen/OneDrive/Pictures/img_prova/sad/sad (51).jpg written!\n",
            "C:/Users/valen/OneDrive/Pictures/img_prova/sad/sad (52).jpg written!\n",
            "C:/Users/valen/OneDrive/Pictures/img_prova/sad/sad (53).jpg written!\n",
            "C:/Users/valen/OneDrive/Pictures/img_prova/sad/sad (54).jpg written!\n",
            "C:/Users/valen/OneDrive/Pictures/img_prova/sad/sad (55).jpg written!\n",
            "C:/Users/valen/OneDrive/Pictures/img_prova/sad/sad (56).jpg written!\n",
            "C:/Users/valen/OneDrive/Pictures/img_prova/sad/sad (57).jpg written!\n",
            "C:/Users/valen/OneDrive/Pictures/img_prova/sad/sad (58).jpg written!\n",
            "C:/Users/valen/OneDrive/Pictures/img_prova/sad/sad (59).jpg written!\n",
            "C:/Users/valen/OneDrive/Pictures/img_prova/sad/sad (60).jpg written!\n",
            "C:/Users/valen/OneDrive/Pictures/img_prova/sad/sad (61).jpg written!\n",
            "C:/Users/valen/OneDrive/Pictures/img_prova/sad/sad (62).jpg written!\n",
            "C:/Users/valen/OneDrive/Pictures/img_prova/sad/sad (63).jpg written!\n",
            "C:/Users/valen/OneDrive/Pictures/img_prova/sad/sad (64).jpg written!\n",
            "C:/Users/valen/OneDrive/Pictures/img_prova/sad/sad (65).jpg written!\n",
            "C:/Users/valen/OneDrive/Pictures/img_prova/sad/sad (66).jpg written!\n",
            "C:/Users/valen/OneDrive/Pictures/img_prova/sad/sad (67).jpg written!\n",
            "C:/Users/valen/OneDrive/Pictures/img_prova/sad/sad (68).jpg written!\n",
            "C:/Users/valen/OneDrive/Pictures/img_prova/sad/sad (69).jpg written!\n",
            "C:/Users/valen/OneDrive/Pictures/img_prova/sad/sad (70).jpg written!\n",
            "C:/Users/valen/OneDrive/Pictures/img_prova/sad/sad (71).jpg written!\n",
            "C:/Users/valen/OneDrive/Pictures/img_prova/sad/sad (72).jpg written!\n",
            "C:/Users/valen/OneDrive/Pictures/img_prova/sad/sad (73).jpg written!\n",
            "C:/Users/valen/OneDrive/Pictures/img_prova/sad/sad (74).jpg written!\n",
            "C:/Users/valen/OneDrive/Pictures/img_prova/sad/sad (75).jpg written!\n",
            "C:/Users/valen/OneDrive/Pictures/img_prova/sad/sad (76).jpg written!\n",
            "C:/Users/valen/OneDrive/Pictures/img_prova/sad/sad (77).jpg written!\n",
            "C:/Users/valen/OneDrive/Pictures/img_prova/sad/sad (78).jpg written!\n",
            "C:/Users/valen/OneDrive/Pictures/img_prova/sad/sad (79).jpg written!\n",
            "C:/Users/valen/OneDrive/Pictures/img_prova/sad/sad (80).jpg written!\n",
            "C:/Users/valen/OneDrive/Pictures/img_prova/sad/sad (81).jpg written!\n",
            "C:/Users/valen/OneDrive/Pictures/img_prova/sad/sad (82).jpg written!\n",
            "C:/Users/valen/OneDrive/Pictures/img_prova/sad/sad (83).jpg written!\n",
            "C:/Users/valen/OneDrive/Pictures/img_prova/sad/sad (84).jpg written!\n",
            "C:/Users/valen/OneDrive/Pictures/img_prova/sad/sad (85).jpg written!\n",
            "C:/Users/valen/OneDrive/Pictures/img_prova/sad/sad (86).jpg written!\n",
            "C:/Users/valen/OneDrive/Pictures/img_prova/sad/sad (87).jpg written!\n",
            "C:/Users/valen/OneDrive/Pictures/img_prova/sad/sad (88).jpg written!\n",
            "C:/Users/valen/OneDrive/Pictures/img_prova/sad/sad (89).jpg written!\n",
            "C:/Users/valen/OneDrive/Pictures/img_prova/sad/sad (90).jpg written!\n",
            "C:/Users/valen/OneDrive/Pictures/img_prova/sad/sad (91).jpg written!\n",
            "C:/Users/valen/OneDrive/Pictures/img_prova/sad/sad (92).jpg written!\n",
            "C:/Users/valen/OneDrive/Pictures/img_prova/sad/sad (93).jpg written!\n",
            "C:/Users/valen/OneDrive/Pictures/img_prova/sad/sad (94).jpg written!\n",
            "C:/Users/valen/OneDrive/Pictures/img_prova/sad/sad (95).jpg written!\n",
            "C:/Users/valen/OneDrive/Pictures/img_prova/sad/sad (96).jpg written!\n",
            "C:/Users/valen/OneDrive/Pictures/img_prova/sad/sad (97).jpg written!\n",
            "C:/Users/valen/OneDrive/Pictures/img_prova/sad/sad (98).jpg written!\n",
            "C:/Users/valen/OneDrive/Pictures/img_prova/sad/sad (99).jpg written!\n",
            "C:/Users/valen/OneDrive/Pictures/img_prova/sad/sad (100).jpg written!\n",
            "C:/Users/valen/OneDrive/Pictures/img_prova/sad/sad (101).jpg written!\n",
            "C:/Users/valen/OneDrive/Pictures/img_prova/sad/sad (102).jpg written!\n",
            "C:/Users/valen/OneDrive/Pictures/img_prova/sad/sad (103).jpg written!\n",
            "C:/Users/valen/OneDrive/Pictures/img_prova/sad/sad (104).jpg written!\n",
            "C:/Users/valen/OneDrive/Pictures/img_prova/sad/sad (105).jpg written!\n",
            "C:/Users/valen/OneDrive/Pictures/img_prova/sad/sad (106).jpg written!\n",
            "C:/Users/valen/OneDrive/Pictures/img_prova/sad/sad (107).jpg written!\n",
            "C:/Users/valen/OneDrive/Pictures/img_prova/sad/sad (108).jpg written!\n",
            "C:/Users/valen/OneDrive/Pictures/img_prova/sad/sad (109).jpg written!\n",
            "Counter limit reached:110\n"
          ],
          "name": "stdout"
        }
      ]
    },
    {
      "cell_type": "code",
      "metadata": {
        "id": "emy1Ij7HC9Hf",
        "outputId": "3dd575c0-91c2-4905-f4c9-ed05e0d07ab4"
      },
      "source": [
        "directory2=(\"C:/Users/valen/OneDrive/Pictures/vale/sad/\")\n",
        "from_directory=(\"C:/Users/valen/OneDrive/Pictures/img_prova/sad/\")\n",
        "detection_face(directory1=from_directory, directory2=directory2)"
      ],
      "execution_count": null,
      "outputs": [
        {
          "output_type": "stream",
          "text": [
            "Created 105/110 images cropped\n"
          ],
          "name": "stdout"
        }
      ]
    },
    {
      "cell_type": "code",
      "metadata": {
        "id": "2zC4783OC9Hg",
        "outputId": "afdc5d68-e9d7-4a01-f408-a7c4f8610eb4"
      },
      "source": [
        "from_directory=(\"C:/Users/valen/OneDrive/Pictures/img_prova/surprise/\")\n",
        "acquisition_cam(directory = from_directory, subject = \"surprise\", init_number = 0, counter_limit = 110, time_sleep = 0.5, numbered = True)"
      ],
      "execution_count": null,
      "outputs": [
        {
          "output_type": "stream",
          "text": [
            "C:/Users/valen/OneDrive/Pictures/img_prova/surprise/surprise (0).jpg written!\n",
            "C:/Users/valen/OneDrive/Pictures/img_prova/surprise/surprise (1).jpg written!\n",
            "C:/Users/valen/OneDrive/Pictures/img_prova/surprise/surprise (2).jpg written!\n",
            "C:/Users/valen/OneDrive/Pictures/img_prova/surprise/surprise (3).jpg written!\n",
            "C:/Users/valen/OneDrive/Pictures/img_prova/surprise/surprise (4).jpg written!\n",
            "C:/Users/valen/OneDrive/Pictures/img_prova/surprise/surprise (5).jpg written!\n",
            "C:/Users/valen/OneDrive/Pictures/img_prova/surprise/surprise (6).jpg written!\n",
            "C:/Users/valen/OneDrive/Pictures/img_prova/surprise/surprise (7).jpg written!\n",
            "C:/Users/valen/OneDrive/Pictures/img_prova/surprise/surprise (8).jpg written!\n",
            "C:/Users/valen/OneDrive/Pictures/img_prova/surprise/surprise (9).jpg written!\n",
            "C:/Users/valen/OneDrive/Pictures/img_prova/surprise/surprise (10).jpg written!\n",
            "C:/Users/valen/OneDrive/Pictures/img_prova/surprise/surprise (11).jpg written!\n",
            "C:/Users/valen/OneDrive/Pictures/img_prova/surprise/surprise (12).jpg written!\n",
            "C:/Users/valen/OneDrive/Pictures/img_prova/surprise/surprise (13).jpg written!\n",
            "C:/Users/valen/OneDrive/Pictures/img_prova/surprise/surprise (14).jpg written!\n",
            "C:/Users/valen/OneDrive/Pictures/img_prova/surprise/surprise (15).jpg written!\n",
            "C:/Users/valen/OneDrive/Pictures/img_prova/surprise/surprise (16).jpg written!\n",
            "C:/Users/valen/OneDrive/Pictures/img_prova/surprise/surprise (17).jpg written!\n",
            "C:/Users/valen/OneDrive/Pictures/img_prova/surprise/surprise (18).jpg written!\n",
            "C:/Users/valen/OneDrive/Pictures/img_prova/surprise/surprise (19).jpg written!\n",
            "C:/Users/valen/OneDrive/Pictures/img_prova/surprise/surprise (20).jpg written!\n",
            "C:/Users/valen/OneDrive/Pictures/img_prova/surprise/surprise (21).jpg written!\n",
            "C:/Users/valen/OneDrive/Pictures/img_prova/surprise/surprise (22).jpg written!\n",
            "C:/Users/valen/OneDrive/Pictures/img_prova/surprise/surprise (23).jpg written!\n",
            "C:/Users/valen/OneDrive/Pictures/img_prova/surprise/surprise (24).jpg written!\n",
            "C:/Users/valen/OneDrive/Pictures/img_prova/surprise/surprise (25).jpg written!\n",
            "C:/Users/valen/OneDrive/Pictures/img_prova/surprise/surprise (26).jpg written!\n",
            "C:/Users/valen/OneDrive/Pictures/img_prova/surprise/surprise (27).jpg written!\n",
            "C:/Users/valen/OneDrive/Pictures/img_prova/surprise/surprise (28).jpg written!\n",
            "C:/Users/valen/OneDrive/Pictures/img_prova/surprise/surprise (29).jpg written!\n",
            "C:/Users/valen/OneDrive/Pictures/img_prova/surprise/surprise (30).jpg written!\n",
            "C:/Users/valen/OneDrive/Pictures/img_prova/surprise/surprise (31).jpg written!\n",
            "C:/Users/valen/OneDrive/Pictures/img_prova/surprise/surprise (32).jpg written!\n",
            "C:/Users/valen/OneDrive/Pictures/img_prova/surprise/surprise (33).jpg written!\n",
            "C:/Users/valen/OneDrive/Pictures/img_prova/surprise/surprise (34).jpg written!\n",
            "C:/Users/valen/OneDrive/Pictures/img_prova/surprise/surprise (35).jpg written!\n",
            "C:/Users/valen/OneDrive/Pictures/img_prova/surprise/surprise (36).jpg written!\n",
            "C:/Users/valen/OneDrive/Pictures/img_prova/surprise/surprise (37).jpg written!\n",
            "C:/Users/valen/OneDrive/Pictures/img_prova/surprise/surprise (38).jpg written!\n",
            "C:/Users/valen/OneDrive/Pictures/img_prova/surprise/surprise (39).jpg written!\n",
            "C:/Users/valen/OneDrive/Pictures/img_prova/surprise/surprise (40).jpg written!\n",
            "C:/Users/valen/OneDrive/Pictures/img_prova/surprise/surprise (41).jpg written!\n",
            "C:/Users/valen/OneDrive/Pictures/img_prova/surprise/surprise (42).jpg written!\n",
            "C:/Users/valen/OneDrive/Pictures/img_prova/surprise/surprise (43).jpg written!\n",
            "C:/Users/valen/OneDrive/Pictures/img_prova/surprise/surprise (44).jpg written!\n",
            "C:/Users/valen/OneDrive/Pictures/img_prova/surprise/surprise (45).jpg written!\n",
            "C:/Users/valen/OneDrive/Pictures/img_prova/surprise/surprise (46).jpg written!\n",
            "C:/Users/valen/OneDrive/Pictures/img_prova/surprise/surprise (47).jpg written!\n",
            "C:/Users/valen/OneDrive/Pictures/img_prova/surprise/surprise (48).jpg written!\n",
            "C:/Users/valen/OneDrive/Pictures/img_prova/surprise/surprise (49).jpg written!\n",
            "C:/Users/valen/OneDrive/Pictures/img_prova/surprise/surprise (50).jpg written!\n",
            "C:/Users/valen/OneDrive/Pictures/img_prova/surprise/surprise (51).jpg written!\n",
            "C:/Users/valen/OneDrive/Pictures/img_prova/surprise/surprise (52).jpg written!\n",
            "C:/Users/valen/OneDrive/Pictures/img_prova/surprise/surprise (53).jpg written!\n",
            "C:/Users/valen/OneDrive/Pictures/img_prova/surprise/surprise (54).jpg written!\n",
            "C:/Users/valen/OneDrive/Pictures/img_prova/surprise/surprise (55).jpg written!\n",
            "C:/Users/valen/OneDrive/Pictures/img_prova/surprise/surprise (56).jpg written!\n",
            "C:/Users/valen/OneDrive/Pictures/img_prova/surprise/surprise (57).jpg written!\n",
            "C:/Users/valen/OneDrive/Pictures/img_prova/surprise/surprise (58).jpg written!\n",
            "C:/Users/valen/OneDrive/Pictures/img_prova/surprise/surprise (59).jpg written!\n",
            "C:/Users/valen/OneDrive/Pictures/img_prova/surprise/surprise (60).jpg written!\n",
            "C:/Users/valen/OneDrive/Pictures/img_prova/surprise/surprise (61).jpg written!\n",
            "C:/Users/valen/OneDrive/Pictures/img_prova/surprise/surprise (62).jpg written!\n",
            "C:/Users/valen/OneDrive/Pictures/img_prova/surprise/surprise (63).jpg written!\n",
            "C:/Users/valen/OneDrive/Pictures/img_prova/surprise/surprise (64).jpg written!\n",
            "C:/Users/valen/OneDrive/Pictures/img_prova/surprise/surprise (65).jpg written!\n",
            "C:/Users/valen/OneDrive/Pictures/img_prova/surprise/surprise (66).jpg written!\n",
            "C:/Users/valen/OneDrive/Pictures/img_prova/surprise/surprise (67).jpg written!\n",
            "C:/Users/valen/OneDrive/Pictures/img_prova/surprise/surprise (68).jpg written!\n",
            "C:/Users/valen/OneDrive/Pictures/img_prova/surprise/surprise (69).jpg written!\n",
            "C:/Users/valen/OneDrive/Pictures/img_prova/surprise/surprise (70).jpg written!\n",
            "C:/Users/valen/OneDrive/Pictures/img_prova/surprise/surprise (71).jpg written!\n",
            "C:/Users/valen/OneDrive/Pictures/img_prova/surprise/surprise (72).jpg written!\n",
            "C:/Users/valen/OneDrive/Pictures/img_prova/surprise/surprise (73).jpg written!\n",
            "C:/Users/valen/OneDrive/Pictures/img_prova/surprise/surprise (74).jpg written!\n",
            "C:/Users/valen/OneDrive/Pictures/img_prova/surprise/surprise (75).jpg written!\n",
            "C:/Users/valen/OneDrive/Pictures/img_prova/surprise/surprise (76).jpg written!\n",
            "C:/Users/valen/OneDrive/Pictures/img_prova/surprise/surprise (77).jpg written!\n",
            "C:/Users/valen/OneDrive/Pictures/img_prova/surprise/surprise (78).jpg written!\n",
            "C:/Users/valen/OneDrive/Pictures/img_prova/surprise/surprise (79).jpg written!\n",
            "C:/Users/valen/OneDrive/Pictures/img_prova/surprise/surprise (80).jpg written!\n",
            "C:/Users/valen/OneDrive/Pictures/img_prova/surprise/surprise (81).jpg written!\n",
            "C:/Users/valen/OneDrive/Pictures/img_prova/surprise/surprise (82).jpg written!\n",
            "C:/Users/valen/OneDrive/Pictures/img_prova/surprise/surprise (83).jpg written!\n",
            "C:/Users/valen/OneDrive/Pictures/img_prova/surprise/surprise (84).jpg written!\n",
            "C:/Users/valen/OneDrive/Pictures/img_prova/surprise/surprise (85).jpg written!\n",
            "C:/Users/valen/OneDrive/Pictures/img_prova/surprise/surprise (86).jpg written!\n",
            "C:/Users/valen/OneDrive/Pictures/img_prova/surprise/surprise (87).jpg written!\n",
            "C:/Users/valen/OneDrive/Pictures/img_prova/surprise/surprise (88).jpg written!\n",
            "C:/Users/valen/OneDrive/Pictures/img_prova/surprise/surprise (89).jpg written!\n",
            "C:/Users/valen/OneDrive/Pictures/img_prova/surprise/surprise (90).jpg written!\n",
            "C:/Users/valen/OneDrive/Pictures/img_prova/surprise/surprise (91).jpg written!\n",
            "C:/Users/valen/OneDrive/Pictures/img_prova/surprise/surprise (92).jpg written!\n",
            "C:/Users/valen/OneDrive/Pictures/img_prova/surprise/surprise (93).jpg written!\n",
            "C:/Users/valen/OneDrive/Pictures/img_prova/surprise/surprise (94).jpg written!\n",
            "C:/Users/valen/OneDrive/Pictures/img_prova/surprise/surprise (95).jpg written!\n",
            "C:/Users/valen/OneDrive/Pictures/img_prova/surprise/surprise (96).jpg written!\n",
            "C:/Users/valen/OneDrive/Pictures/img_prova/surprise/surprise (97).jpg written!\n",
            "C:/Users/valen/OneDrive/Pictures/img_prova/surprise/surprise (98).jpg written!\n",
            "C:/Users/valen/OneDrive/Pictures/img_prova/surprise/surprise (99).jpg written!\n",
            "C:/Users/valen/OneDrive/Pictures/img_prova/surprise/surprise (100).jpg written!\n",
            "C:/Users/valen/OneDrive/Pictures/img_prova/surprise/surprise (101).jpg written!\n",
            "C:/Users/valen/OneDrive/Pictures/img_prova/surprise/surprise (102).jpg written!\n",
            "C:/Users/valen/OneDrive/Pictures/img_prova/surprise/surprise (103).jpg written!\n"
          ],
          "name": "stdout"
        },
        {
          "output_type": "stream",
          "text": [
            "C:/Users/valen/OneDrive/Pictures/img_prova/surprise/surprise (104).jpg written!\n",
            "C:/Users/valen/OneDrive/Pictures/img_prova/surprise/surprise (105).jpg written!\n",
            "C:/Users/valen/OneDrive/Pictures/img_prova/surprise/surprise (106).jpg written!\n",
            "C:/Users/valen/OneDrive/Pictures/img_prova/surprise/surprise (107).jpg written!\n",
            "C:/Users/valen/OneDrive/Pictures/img_prova/surprise/surprise (108).jpg written!\n",
            "C:/Users/valen/OneDrive/Pictures/img_prova/surprise/surprise (109).jpg written!\n",
            "Counter limit reached:110\n"
          ],
          "name": "stdout"
        }
      ]
    },
    {
      "cell_type": "code",
      "metadata": {
        "id": "YlM-PderC9Hh",
        "outputId": "6381a890-6c01-4c68-96ea-6d145c975fcf"
      },
      "source": [
        "directory2=(\"C:/Users/valen/OneDrive/Pictures/vale/surprise/\")\n",
        "from_directory=(\"C:/Users/valen/OneDrive/Pictures/img_prova/surprise/\")\n",
        "detection_face(directory1=from_directory, directory2=directory2)"
      ],
      "execution_count": null,
      "outputs": [
        {
          "output_type": "stream",
          "text": [
            "Created 52/110 images cropped\n"
          ],
          "name": "stdout"
        }
      ]
    },
    {
      "cell_type": "code",
      "metadata": {
        "id": "dD2uVo6RC9Hi",
        "outputId": "554a7bb0-7a7a-4202-a064-eb2297aa41e5"
      },
      "source": [
        "from_directory=(\"C:/Users/valen/OneDrive/Pictures/img_prova/angry/\")\n",
        "acquisition_cam(directory = from_directory, subject = \"angry\", init_number = 0, counter_limit = 110, time_sleep = 0.5, numbered = True)"
      ],
      "execution_count": null,
      "outputs": [
        {
          "output_type": "stream",
          "text": [
            "C:/Users/valen/OneDrive/Pictures/img_prova/angry/angry (0).jpg written!\n",
            "C:/Users/valen/OneDrive/Pictures/img_prova/angry/angry (1).jpg written!\n",
            "C:/Users/valen/OneDrive/Pictures/img_prova/angry/angry (2).jpg written!\n",
            "C:/Users/valen/OneDrive/Pictures/img_prova/angry/angry (3).jpg written!\n",
            "C:/Users/valen/OneDrive/Pictures/img_prova/angry/angry (4).jpg written!\n",
            "C:/Users/valen/OneDrive/Pictures/img_prova/angry/angry (5).jpg written!\n",
            "C:/Users/valen/OneDrive/Pictures/img_prova/angry/angry (6).jpg written!\n",
            "C:/Users/valen/OneDrive/Pictures/img_prova/angry/angry (7).jpg written!\n",
            "C:/Users/valen/OneDrive/Pictures/img_prova/angry/angry (8).jpg written!\n",
            "C:/Users/valen/OneDrive/Pictures/img_prova/angry/angry (9).jpg written!\n",
            "C:/Users/valen/OneDrive/Pictures/img_prova/angry/angry (10).jpg written!\n",
            "C:/Users/valen/OneDrive/Pictures/img_prova/angry/angry (11).jpg written!\n",
            "C:/Users/valen/OneDrive/Pictures/img_prova/angry/angry (12).jpg written!\n",
            "C:/Users/valen/OneDrive/Pictures/img_prova/angry/angry (13).jpg written!\n",
            "C:/Users/valen/OneDrive/Pictures/img_prova/angry/angry (14).jpg written!\n",
            "C:/Users/valen/OneDrive/Pictures/img_prova/angry/angry (15).jpg written!\n",
            "C:/Users/valen/OneDrive/Pictures/img_prova/angry/angry (16).jpg written!\n",
            "C:/Users/valen/OneDrive/Pictures/img_prova/angry/angry (17).jpg written!\n",
            "C:/Users/valen/OneDrive/Pictures/img_prova/angry/angry (18).jpg written!\n",
            "C:/Users/valen/OneDrive/Pictures/img_prova/angry/angry (19).jpg written!\n",
            "C:/Users/valen/OneDrive/Pictures/img_prova/angry/angry (20).jpg written!\n",
            "C:/Users/valen/OneDrive/Pictures/img_prova/angry/angry (21).jpg written!\n",
            "C:/Users/valen/OneDrive/Pictures/img_prova/angry/angry (22).jpg written!\n",
            "C:/Users/valen/OneDrive/Pictures/img_prova/angry/angry (23).jpg written!\n",
            "C:/Users/valen/OneDrive/Pictures/img_prova/angry/angry (24).jpg written!\n",
            "C:/Users/valen/OneDrive/Pictures/img_prova/angry/angry (25).jpg written!\n",
            "C:/Users/valen/OneDrive/Pictures/img_prova/angry/angry (26).jpg written!\n",
            "C:/Users/valen/OneDrive/Pictures/img_prova/angry/angry (27).jpg written!\n",
            "C:/Users/valen/OneDrive/Pictures/img_prova/angry/angry (28).jpg written!\n",
            "C:/Users/valen/OneDrive/Pictures/img_prova/angry/angry (29).jpg written!\n",
            "C:/Users/valen/OneDrive/Pictures/img_prova/angry/angry (30).jpg written!\n",
            "C:/Users/valen/OneDrive/Pictures/img_prova/angry/angry (31).jpg written!\n",
            "C:/Users/valen/OneDrive/Pictures/img_prova/angry/angry (32).jpg written!\n",
            "C:/Users/valen/OneDrive/Pictures/img_prova/angry/angry (33).jpg written!\n",
            "C:/Users/valen/OneDrive/Pictures/img_prova/angry/angry (34).jpg written!\n",
            "C:/Users/valen/OneDrive/Pictures/img_prova/angry/angry (35).jpg written!\n",
            "C:/Users/valen/OneDrive/Pictures/img_prova/angry/angry (36).jpg written!\n",
            "C:/Users/valen/OneDrive/Pictures/img_prova/angry/angry (37).jpg written!\n",
            "C:/Users/valen/OneDrive/Pictures/img_prova/angry/angry (38).jpg written!\n",
            "C:/Users/valen/OneDrive/Pictures/img_prova/angry/angry (39).jpg written!\n",
            "C:/Users/valen/OneDrive/Pictures/img_prova/angry/angry (40).jpg written!\n",
            "C:/Users/valen/OneDrive/Pictures/img_prova/angry/angry (41).jpg written!\n",
            "C:/Users/valen/OneDrive/Pictures/img_prova/angry/angry (42).jpg written!\n",
            "C:/Users/valen/OneDrive/Pictures/img_prova/angry/angry (43).jpg written!\n",
            "C:/Users/valen/OneDrive/Pictures/img_prova/angry/angry (44).jpg written!\n",
            "C:/Users/valen/OneDrive/Pictures/img_prova/angry/angry (45).jpg written!\n",
            "C:/Users/valen/OneDrive/Pictures/img_prova/angry/angry (46).jpg written!\n",
            "C:/Users/valen/OneDrive/Pictures/img_prova/angry/angry (47).jpg written!\n",
            "C:/Users/valen/OneDrive/Pictures/img_prova/angry/angry (48).jpg written!\n",
            "C:/Users/valen/OneDrive/Pictures/img_prova/angry/angry (49).jpg written!\n",
            "C:/Users/valen/OneDrive/Pictures/img_prova/angry/angry (50).jpg written!\n",
            "C:/Users/valen/OneDrive/Pictures/img_prova/angry/angry (51).jpg written!\n",
            "C:/Users/valen/OneDrive/Pictures/img_prova/angry/angry (52).jpg written!\n",
            "C:/Users/valen/OneDrive/Pictures/img_prova/angry/angry (53).jpg written!\n",
            "C:/Users/valen/OneDrive/Pictures/img_prova/angry/angry (54).jpg written!\n",
            "C:/Users/valen/OneDrive/Pictures/img_prova/angry/angry (55).jpg written!\n",
            "C:/Users/valen/OneDrive/Pictures/img_prova/angry/angry (56).jpg written!\n",
            "C:/Users/valen/OneDrive/Pictures/img_prova/angry/angry (57).jpg written!\n",
            "C:/Users/valen/OneDrive/Pictures/img_prova/angry/angry (58).jpg written!\n",
            "C:/Users/valen/OneDrive/Pictures/img_prova/angry/angry (59).jpg written!\n",
            "C:/Users/valen/OneDrive/Pictures/img_prova/angry/angry (60).jpg written!\n",
            "C:/Users/valen/OneDrive/Pictures/img_prova/angry/angry (61).jpg written!\n",
            "C:/Users/valen/OneDrive/Pictures/img_prova/angry/angry (62).jpg written!\n",
            "C:/Users/valen/OneDrive/Pictures/img_prova/angry/angry (63).jpg written!\n",
            "C:/Users/valen/OneDrive/Pictures/img_prova/angry/angry (64).jpg written!\n",
            "C:/Users/valen/OneDrive/Pictures/img_prova/angry/angry (65).jpg written!\n",
            "C:/Users/valen/OneDrive/Pictures/img_prova/angry/angry (66).jpg written!\n",
            "C:/Users/valen/OneDrive/Pictures/img_prova/angry/angry (67).jpg written!\n",
            "C:/Users/valen/OneDrive/Pictures/img_prova/angry/angry (68).jpg written!\n",
            "C:/Users/valen/OneDrive/Pictures/img_prova/angry/angry (69).jpg written!\n",
            "C:/Users/valen/OneDrive/Pictures/img_prova/angry/angry (70).jpg written!\n",
            "C:/Users/valen/OneDrive/Pictures/img_prova/angry/angry (71).jpg written!\n",
            "C:/Users/valen/OneDrive/Pictures/img_prova/angry/angry (72).jpg written!\n",
            "C:/Users/valen/OneDrive/Pictures/img_prova/angry/angry (73).jpg written!\n",
            "C:/Users/valen/OneDrive/Pictures/img_prova/angry/angry (74).jpg written!\n",
            "C:/Users/valen/OneDrive/Pictures/img_prova/angry/angry (75).jpg written!\n",
            "C:/Users/valen/OneDrive/Pictures/img_prova/angry/angry (76).jpg written!\n",
            "C:/Users/valen/OneDrive/Pictures/img_prova/angry/angry (77).jpg written!\n",
            "C:/Users/valen/OneDrive/Pictures/img_prova/angry/angry (78).jpg written!\n",
            "C:/Users/valen/OneDrive/Pictures/img_prova/angry/angry (79).jpg written!\n",
            "C:/Users/valen/OneDrive/Pictures/img_prova/angry/angry (80).jpg written!\n",
            "C:/Users/valen/OneDrive/Pictures/img_prova/angry/angry (81).jpg written!\n",
            "C:/Users/valen/OneDrive/Pictures/img_prova/angry/angry (82).jpg written!\n",
            "C:/Users/valen/OneDrive/Pictures/img_prova/angry/angry (83).jpg written!\n",
            "C:/Users/valen/OneDrive/Pictures/img_prova/angry/angry (84).jpg written!\n",
            "C:/Users/valen/OneDrive/Pictures/img_prova/angry/angry (85).jpg written!\n",
            "C:/Users/valen/OneDrive/Pictures/img_prova/angry/angry (86).jpg written!\n",
            "C:/Users/valen/OneDrive/Pictures/img_prova/angry/angry (87).jpg written!\n",
            "C:/Users/valen/OneDrive/Pictures/img_prova/angry/angry (88).jpg written!\n",
            "C:/Users/valen/OneDrive/Pictures/img_prova/angry/angry (89).jpg written!\n",
            "C:/Users/valen/OneDrive/Pictures/img_prova/angry/angry (90).jpg written!\n",
            "C:/Users/valen/OneDrive/Pictures/img_prova/angry/angry (91).jpg written!\n",
            "C:/Users/valen/OneDrive/Pictures/img_prova/angry/angry (92).jpg written!\n",
            "C:/Users/valen/OneDrive/Pictures/img_prova/angry/angry (93).jpg written!\n",
            "C:/Users/valen/OneDrive/Pictures/img_prova/angry/angry (94).jpg written!\n",
            "C:/Users/valen/OneDrive/Pictures/img_prova/angry/angry (95).jpg written!\n",
            "C:/Users/valen/OneDrive/Pictures/img_prova/angry/angry (96).jpg written!\n",
            "C:/Users/valen/OneDrive/Pictures/img_prova/angry/angry (97).jpg written!\n",
            "C:/Users/valen/OneDrive/Pictures/img_prova/angry/angry (98).jpg written!\n",
            "C:/Users/valen/OneDrive/Pictures/img_prova/angry/angry (99).jpg written!\n",
            "C:/Users/valen/OneDrive/Pictures/img_prova/angry/angry (100).jpg written!\n",
            "C:/Users/valen/OneDrive/Pictures/img_prova/angry/angry (101).jpg written!\n",
            "C:/Users/valen/OneDrive/Pictures/img_prova/angry/angry (102).jpg written!\n",
            "C:/Users/valen/OneDrive/Pictures/img_prova/angry/angry (103).jpg written!\n",
            "C:/Users/valen/OneDrive/Pictures/img_prova/angry/angry (104).jpg written!\n",
            "C:/Users/valen/OneDrive/Pictures/img_prova/angry/angry (105).jpg written!\n",
            "C:/Users/valen/OneDrive/Pictures/img_prova/angry/angry (106).jpg written!\n",
            "C:/Users/valen/OneDrive/Pictures/img_prova/angry/angry (107).jpg written!\n",
            "C:/Users/valen/OneDrive/Pictures/img_prova/angry/angry (108).jpg written!\n",
            "C:/Users/valen/OneDrive/Pictures/img_prova/angry/angry (109).jpg written!\n",
            "Counter limit reached:110\n"
          ],
          "name": "stdout"
        }
      ]
    },
    {
      "cell_type": "code",
      "metadata": {
        "id": "mHxTFMpXC9Hi",
        "outputId": "bdad3573-9c91-4604-ce5d-98f08865471e"
      },
      "source": [
        "directory2=(\"C:/Users/valen/OneDrive/Pictures/vale/angry/\")\n",
        "from_directory=(\"C:/Users/valen/OneDrive/Pictures/img_prova/angry/\")\n",
        "detection_face(directory1=from_directory, directory2=directory2)"
      ],
      "execution_count": null,
      "outputs": [
        {
          "output_type": "stream",
          "text": [
            "Created 76/110 images cropped\n"
          ],
          "name": "stdout"
        }
      ]
    },
    {
      "cell_type": "code",
      "metadata": {
        "id": "J71wgEPMC9Hj",
        "outputId": "108c3152-ffea-4d3e-a4f8-a3b11d38dc71"
      },
      "source": [
        "from_directory=(\"C:/Users/valen/OneDrive/Pictures/img_prova/disgust/\")\n",
        "acquisition_cam(directory = from_directory, subject = \"disgust\", init_number = 0, counter_limit = 110, time_sleep = 0.5, numbered = True)"
      ],
      "execution_count": null,
      "outputs": [
        {
          "output_type": "stream",
          "text": [
            "C:/Users/valen/OneDrive/Pictures/img_prova/disgust/disgust (0).jpg written!\n",
            "C:/Users/valen/OneDrive/Pictures/img_prova/disgust/disgust (1).jpg written!\n",
            "C:/Users/valen/OneDrive/Pictures/img_prova/disgust/disgust (2).jpg written!\n",
            "C:/Users/valen/OneDrive/Pictures/img_prova/disgust/disgust (3).jpg written!\n",
            "C:/Users/valen/OneDrive/Pictures/img_prova/disgust/disgust (4).jpg written!\n",
            "C:/Users/valen/OneDrive/Pictures/img_prova/disgust/disgust (5).jpg written!\n",
            "C:/Users/valen/OneDrive/Pictures/img_prova/disgust/disgust (6).jpg written!\n",
            "C:/Users/valen/OneDrive/Pictures/img_prova/disgust/disgust (7).jpg written!\n",
            "C:/Users/valen/OneDrive/Pictures/img_prova/disgust/disgust (8).jpg written!\n",
            "C:/Users/valen/OneDrive/Pictures/img_prova/disgust/disgust (9).jpg written!\n",
            "C:/Users/valen/OneDrive/Pictures/img_prova/disgust/disgust (10).jpg written!\n",
            "C:/Users/valen/OneDrive/Pictures/img_prova/disgust/disgust (11).jpg written!\n",
            "C:/Users/valen/OneDrive/Pictures/img_prova/disgust/disgust (12).jpg written!\n",
            "C:/Users/valen/OneDrive/Pictures/img_prova/disgust/disgust (13).jpg written!\n",
            "C:/Users/valen/OneDrive/Pictures/img_prova/disgust/disgust (14).jpg written!\n",
            "C:/Users/valen/OneDrive/Pictures/img_prova/disgust/disgust (15).jpg written!\n",
            "C:/Users/valen/OneDrive/Pictures/img_prova/disgust/disgust (16).jpg written!\n",
            "C:/Users/valen/OneDrive/Pictures/img_prova/disgust/disgust (17).jpg written!\n",
            "C:/Users/valen/OneDrive/Pictures/img_prova/disgust/disgust (18).jpg written!\n",
            "C:/Users/valen/OneDrive/Pictures/img_prova/disgust/disgust (19).jpg written!\n",
            "C:/Users/valen/OneDrive/Pictures/img_prova/disgust/disgust (20).jpg written!\n",
            "C:/Users/valen/OneDrive/Pictures/img_prova/disgust/disgust (21).jpg written!\n",
            "C:/Users/valen/OneDrive/Pictures/img_prova/disgust/disgust (22).jpg written!\n",
            "C:/Users/valen/OneDrive/Pictures/img_prova/disgust/disgust (23).jpg written!\n",
            "C:/Users/valen/OneDrive/Pictures/img_prova/disgust/disgust (24).jpg written!\n",
            "C:/Users/valen/OneDrive/Pictures/img_prova/disgust/disgust (25).jpg written!\n",
            "C:/Users/valen/OneDrive/Pictures/img_prova/disgust/disgust (26).jpg written!\n",
            "C:/Users/valen/OneDrive/Pictures/img_prova/disgust/disgust (27).jpg written!\n",
            "C:/Users/valen/OneDrive/Pictures/img_prova/disgust/disgust (28).jpg written!\n",
            "C:/Users/valen/OneDrive/Pictures/img_prova/disgust/disgust (29).jpg written!\n",
            "C:/Users/valen/OneDrive/Pictures/img_prova/disgust/disgust (30).jpg written!\n",
            "C:/Users/valen/OneDrive/Pictures/img_prova/disgust/disgust (31).jpg written!\n",
            "C:/Users/valen/OneDrive/Pictures/img_prova/disgust/disgust (32).jpg written!\n",
            "C:/Users/valen/OneDrive/Pictures/img_prova/disgust/disgust (33).jpg written!\n",
            "C:/Users/valen/OneDrive/Pictures/img_prova/disgust/disgust (34).jpg written!\n",
            "C:/Users/valen/OneDrive/Pictures/img_prova/disgust/disgust (35).jpg written!\n",
            "C:/Users/valen/OneDrive/Pictures/img_prova/disgust/disgust (36).jpg written!\n",
            "C:/Users/valen/OneDrive/Pictures/img_prova/disgust/disgust (37).jpg written!\n",
            "C:/Users/valen/OneDrive/Pictures/img_prova/disgust/disgust (38).jpg written!\n",
            "C:/Users/valen/OneDrive/Pictures/img_prova/disgust/disgust (39).jpg written!\n",
            "C:/Users/valen/OneDrive/Pictures/img_prova/disgust/disgust (40).jpg written!\n",
            "C:/Users/valen/OneDrive/Pictures/img_prova/disgust/disgust (41).jpg written!\n",
            "C:/Users/valen/OneDrive/Pictures/img_prova/disgust/disgust (42).jpg written!\n",
            "C:/Users/valen/OneDrive/Pictures/img_prova/disgust/disgust (43).jpg written!\n",
            "C:/Users/valen/OneDrive/Pictures/img_prova/disgust/disgust (44).jpg written!\n",
            "C:/Users/valen/OneDrive/Pictures/img_prova/disgust/disgust (45).jpg written!\n",
            "C:/Users/valen/OneDrive/Pictures/img_prova/disgust/disgust (46).jpg written!\n",
            "C:/Users/valen/OneDrive/Pictures/img_prova/disgust/disgust (47).jpg written!\n",
            "C:/Users/valen/OneDrive/Pictures/img_prova/disgust/disgust (48).jpg written!\n",
            "C:/Users/valen/OneDrive/Pictures/img_prova/disgust/disgust (49).jpg written!\n",
            "C:/Users/valen/OneDrive/Pictures/img_prova/disgust/disgust (50).jpg written!\n",
            "C:/Users/valen/OneDrive/Pictures/img_prova/disgust/disgust (51).jpg written!\n",
            "C:/Users/valen/OneDrive/Pictures/img_prova/disgust/disgust (52).jpg written!\n",
            "C:/Users/valen/OneDrive/Pictures/img_prova/disgust/disgust (53).jpg written!\n",
            "C:/Users/valen/OneDrive/Pictures/img_prova/disgust/disgust (54).jpg written!\n",
            "C:/Users/valen/OneDrive/Pictures/img_prova/disgust/disgust (55).jpg written!\n",
            "C:/Users/valen/OneDrive/Pictures/img_prova/disgust/disgust (56).jpg written!\n",
            "C:/Users/valen/OneDrive/Pictures/img_prova/disgust/disgust (57).jpg written!\n",
            "C:/Users/valen/OneDrive/Pictures/img_prova/disgust/disgust (58).jpg written!\n",
            "C:/Users/valen/OneDrive/Pictures/img_prova/disgust/disgust (59).jpg written!\n",
            "C:/Users/valen/OneDrive/Pictures/img_prova/disgust/disgust (60).jpg written!\n",
            "C:/Users/valen/OneDrive/Pictures/img_prova/disgust/disgust (61).jpg written!\n",
            "C:/Users/valen/OneDrive/Pictures/img_prova/disgust/disgust (62).jpg written!\n",
            "C:/Users/valen/OneDrive/Pictures/img_prova/disgust/disgust (63).jpg written!\n",
            "C:/Users/valen/OneDrive/Pictures/img_prova/disgust/disgust (64).jpg written!\n",
            "C:/Users/valen/OneDrive/Pictures/img_prova/disgust/disgust (65).jpg written!\n",
            "C:/Users/valen/OneDrive/Pictures/img_prova/disgust/disgust (66).jpg written!\n",
            "C:/Users/valen/OneDrive/Pictures/img_prova/disgust/disgust (67).jpg written!\n",
            "C:/Users/valen/OneDrive/Pictures/img_prova/disgust/disgust (68).jpg written!\n",
            "C:/Users/valen/OneDrive/Pictures/img_prova/disgust/disgust (69).jpg written!\n",
            "C:/Users/valen/OneDrive/Pictures/img_prova/disgust/disgust (70).jpg written!\n",
            "C:/Users/valen/OneDrive/Pictures/img_prova/disgust/disgust (71).jpg written!\n",
            "C:/Users/valen/OneDrive/Pictures/img_prova/disgust/disgust (72).jpg written!\n",
            "C:/Users/valen/OneDrive/Pictures/img_prova/disgust/disgust (73).jpg written!\n",
            "C:/Users/valen/OneDrive/Pictures/img_prova/disgust/disgust (74).jpg written!\n",
            "C:/Users/valen/OneDrive/Pictures/img_prova/disgust/disgust (75).jpg written!\n",
            "C:/Users/valen/OneDrive/Pictures/img_prova/disgust/disgust (76).jpg written!\n",
            "C:/Users/valen/OneDrive/Pictures/img_prova/disgust/disgust (77).jpg written!\n",
            "C:/Users/valen/OneDrive/Pictures/img_prova/disgust/disgust (78).jpg written!\n",
            "C:/Users/valen/OneDrive/Pictures/img_prova/disgust/disgust (79).jpg written!\n",
            "C:/Users/valen/OneDrive/Pictures/img_prova/disgust/disgust (80).jpg written!\n",
            "C:/Users/valen/OneDrive/Pictures/img_prova/disgust/disgust (81).jpg written!\n",
            "C:/Users/valen/OneDrive/Pictures/img_prova/disgust/disgust (82).jpg written!\n",
            "C:/Users/valen/OneDrive/Pictures/img_prova/disgust/disgust (83).jpg written!\n",
            "C:/Users/valen/OneDrive/Pictures/img_prova/disgust/disgust (84).jpg written!\n",
            "C:/Users/valen/OneDrive/Pictures/img_prova/disgust/disgust (85).jpg written!\n",
            "C:/Users/valen/OneDrive/Pictures/img_prova/disgust/disgust (86).jpg written!\n",
            "C:/Users/valen/OneDrive/Pictures/img_prova/disgust/disgust (87).jpg written!\n",
            "C:/Users/valen/OneDrive/Pictures/img_prova/disgust/disgust (88).jpg written!\n",
            "C:/Users/valen/OneDrive/Pictures/img_prova/disgust/disgust (89).jpg written!\n",
            "C:/Users/valen/OneDrive/Pictures/img_prova/disgust/disgust (90).jpg written!\n",
            "C:/Users/valen/OneDrive/Pictures/img_prova/disgust/disgust (91).jpg written!\n",
            "C:/Users/valen/OneDrive/Pictures/img_prova/disgust/disgust (92).jpg written!\n",
            "C:/Users/valen/OneDrive/Pictures/img_prova/disgust/disgust (93).jpg written!\n",
            "C:/Users/valen/OneDrive/Pictures/img_prova/disgust/disgust (94).jpg written!\n",
            "C:/Users/valen/OneDrive/Pictures/img_prova/disgust/disgust (95).jpg written!\n",
            "C:/Users/valen/OneDrive/Pictures/img_prova/disgust/disgust (96).jpg written!\n",
            "C:/Users/valen/OneDrive/Pictures/img_prova/disgust/disgust (97).jpg written!\n",
            "C:/Users/valen/OneDrive/Pictures/img_prova/disgust/disgust (98).jpg written!\n",
            "C:/Users/valen/OneDrive/Pictures/img_prova/disgust/disgust (99).jpg written!\n",
            "C:/Users/valen/OneDrive/Pictures/img_prova/disgust/disgust (100).jpg written!\n",
            "C:/Users/valen/OneDrive/Pictures/img_prova/disgust/disgust (101).jpg written!\n",
            "C:/Users/valen/OneDrive/Pictures/img_prova/disgust/disgust (102).jpg written!\n",
            "C:/Users/valen/OneDrive/Pictures/img_prova/disgust/disgust (103).jpg written!\n",
            "C:/Users/valen/OneDrive/Pictures/img_prova/disgust/disgust (104).jpg written!\n",
            "C:/Users/valen/OneDrive/Pictures/img_prova/disgust/disgust (105).jpg written!\n",
            "C:/Users/valen/OneDrive/Pictures/img_prova/disgust/disgust (106).jpg written!\n"
          ],
          "name": "stdout"
        },
        {
          "output_type": "stream",
          "text": [
            "C:/Users/valen/OneDrive/Pictures/img_prova/disgust/disgust (107).jpg written!\n",
            "C:/Users/valen/OneDrive/Pictures/img_prova/disgust/disgust (108).jpg written!\n",
            "C:/Users/valen/OneDrive/Pictures/img_prova/disgust/disgust (109).jpg written!\n",
            "Counter limit reached:110\n"
          ],
          "name": "stdout"
        }
      ]
    },
    {
      "cell_type": "code",
      "metadata": {
        "id": "fsA-i2-MC9Hj",
        "outputId": "a4890404-0c06-4062-a2c4-75d9ddeb5fba"
      },
      "source": [
        "directory2=(\"C:/Users/valen/OneDrive/Pictures/vale/disgust/\")\n",
        "from_directory=(\"C:/Users/valen/OneDrive/Pictures/img_prova/disgust/\")\n",
        "detection_face(directory1=from_directory, directory2=directory2)"
      ],
      "execution_count": null,
      "outputs": [
        {
          "output_type": "stream",
          "text": [
            "Created 103/110 images cropped\n"
          ],
          "name": "stdout"
        }
      ]
    },
    {
      "cell_type": "code",
      "metadata": {
        "id": "kl3sT9w-C9Hk",
        "outputId": "b3f5ca57-bd13-4c61-ef99-9d13fe220aff"
      },
      "source": [
        "from_directory=(\"C:/Users/valen/OneDrive/Pictures/img_prova/neutral/\")\n",
        "acquisition_cam(directory = from_directory, subject = \"natural\", init_number = 0, counter_limit = 110, time_sleep = 0.5, numbered = True)"
      ],
      "execution_count": null,
      "outputs": [
        {
          "output_type": "stream",
          "text": [
            "C:/Users/valen/OneDrive/Pictures/img_prova/neutral/natural (0).jpg written!\n",
            "C:/Users/valen/OneDrive/Pictures/img_prova/neutral/natural (1).jpg written!\n",
            "C:/Users/valen/OneDrive/Pictures/img_prova/neutral/natural (2).jpg written!\n",
            "C:/Users/valen/OneDrive/Pictures/img_prova/neutral/natural (3).jpg written!\n",
            "C:/Users/valen/OneDrive/Pictures/img_prova/neutral/natural (4).jpg written!\n",
            "C:/Users/valen/OneDrive/Pictures/img_prova/neutral/natural (5).jpg written!\n",
            "C:/Users/valen/OneDrive/Pictures/img_prova/neutral/natural (6).jpg written!\n",
            "C:/Users/valen/OneDrive/Pictures/img_prova/neutral/natural (7).jpg written!\n",
            "C:/Users/valen/OneDrive/Pictures/img_prova/neutral/natural (8).jpg written!\n",
            "C:/Users/valen/OneDrive/Pictures/img_prova/neutral/natural (9).jpg written!\n",
            "C:/Users/valen/OneDrive/Pictures/img_prova/neutral/natural (10).jpg written!\n",
            "C:/Users/valen/OneDrive/Pictures/img_prova/neutral/natural (11).jpg written!\n",
            "C:/Users/valen/OneDrive/Pictures/img_prova/neutral/natural (12).jpg written!\n",
            "C:/Users/valen/OneDrive/Pictures/img_prova/neutral/natural (13).jpg written!\n",
            "C:/Users/valen/OneDrive/Pictures/img_prova/neutral/natural (14).jpg written!\n",
            "C:/Users/valen/OneDrive/Pictures/img_prova/neutral/natural (15).jpg written!\n",
            "C:/Users/valen/OneDrive/Pictures/img_prova/neutral/natural (16).jpg written!\n",
            "C:/Users/valen/OneDrive/Pictures/img_prova/neutral/natural (17).jpg written!\n",
            "C:/Users/valen/OneDrive/Pictures/img_prova/neutral/natural (18).jpg written!\n",
            "C:/Users/valen/OneDrive/Pictures/img_prova/neutral/natural (19).jpg written!\n",
            "C:/Users/valen/OneDrive/Pictures/img_prova/neutral/natural (20).jpg written!\n",
            "C:/Users/valen/OneDrive/Pictures/img_prova/neutral/natural (21).jpg written!\n",
            "C:/Users/valen/OneDrive/Pictures/img_prova/neutral/natural (22).jpg written!\n",
            "C:/Users/valen/OneDrive/Pictures/img_prova/neutral/natural (23).jpg written!\n",
            "C:/Users/valen/OneDrive/Pictures/img_prova/neutral/natural (24).jpg written!\n",
            "C:/Users/valen/OneDrive/Pictures/img_prova/neutral/natural (25).jpg written!\n",
            "C:/Users/valen/OneDrive/Pictures/img_prova/neutral/natural (26).jpg written!\n",
            "C:/Users/valen/OneDrive/Pictures/img_prova/neutral/natural (27).jpg written!\n",
            "C:/Users/valen/OneDrive/Pictures/img_prova/neutral/natural (28).jpg written!\n",
            "C:/Users/valen/OneDrive/Pictures/img_prova/neutral/natural (29).jpg written!\n",
            "C:/Users/valen/OneDrive/Pictures/img_prova/neutral/natural (30).jpg written!\n",
            "C:/Users/valen/OneDrive/Pictures/img_prova/neutral/natural (31).jpg written!\n",
            "C:/Users/valen/OneDrive/Pictures/img_prova/neutral/natural (32).jpg written!\n",
            "C:/Users/valen/OneDrive/Pictures/img_prova/neutral/natural (33).jpg written!\n",
            "C:/Users/valen/OneDrive/Pictures/img_prova/neutral/natural (34).jpg written!\n",
            "C:/Users/valen/OneDrive/Pictures/img_prova/neutral/natural (35).jpg written!\n",
            "C:/Users/valen/OneDrive/Pictures/img_prova/neutral/natural (36).jpg written!\n",
            "C:/Users/valen/OneDrive/Pictures/img_prova/neutral/natural (37).jpg written!\n",
            "C:/Users/valen/OneDrive/Pictures/img_prova/neutral/natural (38).jpg written!\n",
            "C:/Users/valen/OneDrive/Pictures/img_prova/neutral/natural (39).jpg written!\n",
            "C:/Users/valen/OneDrive/Pictures/img_prova/neutral/natural (40).jpg written!\n",
            "C:/Users/valen/OneDrive/Pictures/img_prova/neutral/natural (41).jpg written!\n",
            "C:/Users/valen/OneDrive/Pictures/img_prova/neutral/natural (42).jpg written!\n",
            "C:/Users/valen/OneDrive/Pictures/img_prova/neutral/natural (43).jpg written!\n",
            "C:/Users/valen/OneDrive/Pictures/img_prova/neutral/natural (44).jpg written!\n",
            "C:/Users/valen/OneDrive/Pictures/img_prova/neutral/natural (45).jpg written!\n",
            "C:/Users/valen/OneDrive/Pictures/img_prova/neutral/natural (46).jpg written!\n",
            "C:/Users/valen/OneDrive/Pictures/img_prova/neutral/natural (47).jpg written!\n",
            "C:/Users/valen/OneDrive/Pictures/img_prova/neutral/natural (48).jpg written!\n",
            "C:/Users/valen/OneDrive/Pictures/img_prova/neutral/natural (49).jpg written!\n",
            "C:/Users/valen/OneDrive/Pictures/img_prova/neutral/natural (50).jpg written!\n",
            "C:/Users/valen/OneDrive/Pictures/img_prova/neutral/natural (51).jpg written!\n",
            "C:/Users/valen/OneDrive/Pictures/img_prova/neutral/natural (52).jpg written!\n",
            "C:/Users/valen/OneDrive/Pictures/img_prova/neutral/natural (53).jpg written!\n",
            "C:/Users/valen/OneDrive/Pictures/img_prova/neutral/natural (54).jpg written!\n",
            "C:/Users/valen/OneDrive/Pictures/img_prova/neutral/natural (55).jpg written!\n",
            "C:/Users/valen/OneDrive/Pictures/img_prova/neutral/natural (56).jpg written!\n",
            "C:/Users/valen/OneDrive/Pictures/img_prova/neutral/natural (57).jpg written!\n",
            "C:/Users/valen/OneDrive/Pictures/img_prova/neutral/natural (58).jpg written!\n",
            "C:/Users/valen/OneDrive/Pictures/img_prova/neutral/natural (59).jpg written!\n",
            "C:/Users/valen/OneDrive/Pictures/img_prova/neutral/natural (60).jpg written!\n",
            "C:/Users/valen/OneDrive/Pictures/img_prova/neutral/natural (61).jpg written!\n",
            "C:/Users/valen/OneDrive/Pictures/img_prova/neutral/natural (62).jpg written!\n",
            "C:/Users/valen/OneDrive/Pictures/img_prova/neutral/natural (63).jpg written!\n",
            "C:/Users/valen/OneDrive/Pictures/img_prova/neutral/natural (64).jpg written!\n",
            "C:/Users/valen/OneDrive/Pictures/img_prova/neutral/natural (65).jpg written!\n",
            "C:/Users/valen/OneDrive/Pictures/img_prova/neutral/natural (66).jpg written!\n",
            "C:/Users/valen/OneDrive/Pictures/img_prova/neutral/natural (67).jpg written!\n",
            "C:/Users/valen/OneDrive/Pictures/img_prova/neutral/natural (68).jpg written!\n",
            "C:/Users/valen/OneDrive/Pictures/img_prova/neutral/natural (69).jpg written!\n",
            "C:/Users/valen/OneDrive/Pictures/img_prova/neutral/natural (70).jpg written!\n",
            "C:/Users/valen/OneDrive/Pictures/img_prova/neutral/natural (71).jpg written!\n",
            "C:/Users/valen/OneDrive/Pictures/img_prova/neutral/natural (72).jpg written!\n",
            "C:/Users/valen/OneDrive/Pictures/img_prova/neutral/natural (73).jpg written!\n",
            "C:/Users/valen/OneDrive/Pictures/img_prova/neutral/natural (74).jpg written!\n",
            "C:/Users/valen/OneDrive/Pictures/img_prova/neutral/natural (75).jpg written!\n",
            "C:/Users/valen/OneDrive/Pictures/img_prova/neutral/natural (76).jpg written!\n",
            "C:/Users/valen/OneDrive/Pictures/img_prova/neutral/natural (77).jpg written!\n",
            "C:/Users/valen/OneDrive/Pictures/img_prova/neutral/natural (78).jpg written!\n",
            "C:/Users/valen/OneDrive/Pictures/img_prova/neutral/natural (79).jpg written!\n",
            "C:/Users/valen/OneDrive/Pictures/img_prova/neutral/natural (80).jpg written!\n",
            "C:/Users/valen/OneDrive/Pictures/img_prova/neutral/natural (81).jpg written!\n",
            "C:/Users/valen/OneDrive/Pictures/img_prova/neutral/natural (82).jpg written!\n",
            "C:/Users/valen/OneDrive/Pictures/img_prova/neutral/natural (83).jpg written!\n",
            "C:/Users/valen/OneDrive/Pictures/img_prova/neutral/natural (84).jpg written!\n",
            "C:/Users/valen/OneDrive/Pictures/img_prova/neutral/natural (85).jpg written!\n",
            "C:/Users/valen/OneDrive/Pictures/img_prova/neutral/natural (86).jpg written!\n",
            "C:/Users/valen/OneDrive/Pictures/img_prova/neutral/natural (87).jpg written!\n",
            "C:/Users/valen/OneDrive/Pictures/img_prova/neutral/natural (88).jpg written!\n",
            "C:/Users/valen/OneDrive/Pictures/img_prova/neutral/natural (89).jpg written!\n",
            "C:/Users/valen/OneDrive/Pictures/img_prova/neutral/natural (90).jpg written!\n",
            "C:/Users/valen/OneDrive/Pictures/img_prova/neutral/natural (91).jpg written!\n",
            "C:/Users/valen/OneDrive/Pictures/img_prova/neutral/natural (92).jpg written!\n",
            "C:/Users/valen/OneDrive/Pictures/img_prova/neutral/natural (93).jpg written!\n",
            "C:/Users/valen/OneDrive/Pictures/img_prova/neutral/natural (94).jpg written!\n",
            "C:/Users/valen/OneDrive/Pictures/img_prova/neutral/natural (95).jpg written!\n",
            "C:/Users/valen/OneDrive/Pictures/img_prova/neutral/natural (96).jpg written!\n",
            "C:/Users/valen/OneDrive/Pictures/img_prova/neutral/natural (97).jpg written!\n",
            "C:/Users/valen/OneDrive/Pictures/img_prova/neutral/natural (98).jpg written!\n",
            "C:/Users/valen/OneDrive/Pictures/img_prova/neutral/natural (99).jpg written!\n",
            "C:/Users/valen/OneDrive/Pictures/img_prova/neutral/natural (100).jpg written!\n",
            "C:/Users/valen/OneDrive/Pictures/img_prova/neutral/natural (101).jpg written!\n",
            "C:/Users/valen/OneDrive/Pictures/img_prova/neutral/natural (102).jpg written!\n",
            "C:/Users/valen/OneDrive/Pictures/img_prova/neutral/natural (103).jpg written!\n",
            "C:/Users/valen/OneDrive/Pictures/img_prova/neutral/natural (104).jpg written!\n",
            "C:/Users/valen/OneDrive/Pictures/img_prova/neutral/natural (105).jpg written!\n",
            "C:/Users/valen/OneDrive/Pictures/img_prova/neutral/natural (106).jpg written!\n"
          ],
          "name": "stdout"
        },
        {
          "output_type": "stream",
          "text": [
            "C:/Users/valen/OneDrive/Pictures/img_prova/neutral/natural (107).jpg written!\n",
            "C:/Users/valen/OneDrive/Pictures/img_prova/neutral/natural (108).jpg written!\n",
            "C:/Users/valen/OneDrive/Pictures/img_prova/neutral/natural (109).jpg written!\n",
            "Counter limit reached:110\n"
          ],
          "name": "stdout"
        }
      ]
    },
    {
      "cell_type": "code",
      "metadata": {
        "id": "wDziapuNC9Hl",
        "outputId": "63a2e801-8b07-47f7-8fe5-a0cae05bf67d"
      },
      "source": [
        "directory2=(\"C:/Users/valen/OneDrive/Pictures/vale/neutral/\")\n",
        "from_directory=(\"C:/Users/valen/OneDrive/Pictures/img_prova/neutral/\")\n",
        "detection_face(directory1=from_directory, directory2=directory2)"
      ],
      "execution_count": null,
      "outputs": [
        {
          "output_type": "stream",
          "text": [
            "Created 90/110 images cropped\n"
          ],
          "name": "stdout"
        }
      ]
    },
    {
      "cell_type": "code",
      "metadata": {
        "id": "55hzkioFC9Hl",
        "outputId": "5324deb5-464a-4236-da26-b654d6110d28"
      },
      "source": [
        "from_directory=(\"C:/Users/valen/OneDrive/Pictures/img_prova/fear/\")\n",
        "acquisition_cam(directory = from_directory, subject = \"fear\", init_number = 0, counter_limit = 110, time_sleep = 0.5, numbered = True)"
      ],
      "execution_count": null,
      "outputs": [
        {
          "output_type": "stream",
          "text": [
            "C:/Users/valen/OneDrive/Pictures/img_prova/fear/fear (0).jpg written!\n",
            "C:/Users/valen/OneDrive/Pictures/img_prova/fear/fear (1).jpg written!\n",
            "C:/Users/valen/OneDrive/Pictures/img_prova/fear/fear (2).jpg written!\n",
            "C:/Users/valen/OneDrive/Pictures/img_prova/fear/fear (3).jpg written!\n",
            "C:/Users/valen/OneDrive/Pictures/img_prova/fear/fear (4).jpg written!\n",
            "C:/Users/valen/OneDrive/Pictures/img_prova/fear/fear (5).jpg written!\n",
            "C:/Users/valen/OneDrive/Pictures/img_prova/fear/fear (6).jpg written!\n",
            "C:/Users/valen/OneDrive/Pictures/img_prova/fear/fear (7).jpg written!\n",
            "C:/Users/valen/OneDrive/Pictures/img_prova/fear/fear (8).jpg written!\n",
            "C:/Users/valen/OneDrive/Pictures/img_prova/fear/fear (9).jpg written!\n",
            "C:/Users/valen/OneDrive/Pictures/img_prova/fear/fear (10).jpg written!\n",
            "C:/Users/valen/OneDrive/Pictures/img_prova/fear/fear (11).jpg written!\n",
            "C:/Users/valen/OneDrive/Pictures/img_prova/fear/fear (12).jpg written!\n",
            "C:/Users/valen/OneDrive/Pictures/img_prova/fear/fear (13).jpg written!\n",
            "C:/Users/valen/OneDrive/Pictures/img_prova/fear/fear (14).jpg written!\n",
            "C:/Users/valen/OneDrive/Pictures/img_prova/fear/fear (15).jpg written!\n",
            "C:/Users/valen/OneDrive/Pictures/img_prova/fear/fear (16).jpg written!\n",
            "C:/Users/valen/OneDrive/Pictures/img_prova/fear/fear (17).jpg written!\n",
            "C:/Users/valen/OneDrive/Pictures/img_prova/fear/fear (18).jpg written!\n",
            "C:/Users/valen/OneDrive/Pictures/img_prova/fear/fear (19).jpg written!\n",
            "C:/Users/valen/OneDrive/Pictures/img_prova/fear/fear (20).jpg written!\n",
            "C:/Users/valen/OneDrive/Pictures/img_prova/fear/fear (21).jpg written!\n",
            "C:/Users/valen/OneDrive/Pictures/img_prova/fear/fear (22).jpg written!\n",
            "C:/Users/valen/OneDrive/Pictures/img_prova/fear/fear (23).jpg written!\n",
            "C:/Users/valen/OneDrive/Pictures/img_prova/fear/fear (24).jpg written!\n",
            "C:/Users/valen/OneDrive/Pictures/img_prova/fear/fear (25).jpg written!\n",
            "C:/Users/valen/OneDrive/Pictures/img_prova/fear/fear (26).jpg written!\n",
            "C:/Users/valen/OneDrive/Pictures/img_prova/fear/fear (27).jpg written!\n",
            "C:/Users/valen/OneDrive/Pictures/img_prova/fear/fear (28).jpg written!\n",
            "C:/Users/valen/OneDrive/Pictures/img_prova/fear/fear (29).jpg written!\n",
            "C:/Users/valen/OneDrive/Pictures/img_prova/fear/fear (30).jpg written!\n",
            "C:/Users/valen/OneDrive/Pictures/img_prova/fear/fear (31).jpg written!\n",
            "C:/Users/valen/OneDrive/Pictures/img_prova/fear/fear (32).jpg written!\n",
            "C:/Users/valen/OneDrive/Pictures/img_prova/fear/fear (33).jpg written!\n",
            "C:/Users/valen/OneDrive/Pictures/img_prova/fear/fear (34).jpg written!\n",
            "C:/Users/valen/OneDrive/Pictures/img_prova/fear/fear (35).jpg written!\n",
            "C:/Users/valen/OneDrive/Pictures/img_prova/fear/fear (36).jpg written!\n",
            "C:/Users/valen/OneDrive/Pictures/img_prova/fear/fear (37).jpg written!\n",
            "C:/Users/valen/OneDrive/Pictures/img_prova/fear/fear (38).jpg written!\n",
            "C:/Users/valen/OneDrive/Pictures/img_prova/fear/fear (39).jpg written!\n",
            "C:/Users/valen/OneDrive/Pictures/img_prova/fear/fear (40).jpg written!\n",
            "C:/Users/valen/OneDrive/Pictures/img_prova/fear/fear (41).jpg written!\n",
            "C:/Users/valen/OneDrive/Pictures/img_prova/fear/fear (42).jpg written!\n",
            "C:/Users/valen/OneDrive/Pictures/img_prova/fear/fear (43).jpg written!\n",
            "C:/Users/valen/OneDrive/Pictures/img_prova/fear/fear (44).jpg written!\n",
            "C:/Users/valen/OneDrive/Pictures/img_prova/fear/fear (45).jpg written!\n",
            "C:/Users/valen/OneDrive/Pictures/img_prova/fear/fear (46).jpg written!\n",
            "C:/Users/valen/OneDrive/Pictures/img_prova/fear/fear (47).jpg written!\n",
            "C:/Users/valen/OneDrive/Pictures/img_prova/fear/fear (48).jpg written!\n",
            "C:/Users/valen/OneDrive/Pictures/img_prova/fear/fear (49).jpg written!\n",
            "C:/Users/valen/OneDrive/Pictures/img_prova/fear/fear (50).jpg written!\n",
            "C:/Users/valen/OneDrive/Pictures/img_prova/fear/fear (51).jpg written!\n",
            "C:/Users/valen/OneDrive/Pictures/img_prova/fear/fear (52).jpg written!\n",
            "C:/Users/valen/OneDrive/Pictures/img_prova/fear/fear (53).jpg written!\n",
            "C:/Users/valen/OneDrive/Pictures/img_prova/fear/fear (54).jpg written!\n",
            "C:/Users/valen/OneDrive/Pictures/img_prova/fear/fear (55).jpg written!\n",
            "C:/Users/valen/OneDrive/Pictures/img_prova/fear/fear (56).jpg written!\n",
            "C:/Users/valen/OneDrive/Pictures/img_prova/fear/fear (57).jpg written!\n",
            "C:/Users/valen/OneDrive/Pictures/img_prova/fear/fear (58).jpg written!\n",
            "C:/Users/valen/OneDrive/Pictures/img_prova/fear/fear (59).jpg written!\n",
            "C:/Users/valen/OneDrive/Pictures/img_prova/fear/fear (60).jpg written!\n",
            "C:/Users/valen/OneDrive/Pictures/img_prova/fear/fear (61).jpg written!\n",
            "C:/Users/valen/OneDrive/Pictures/img_prova/fear/fear (62).jpg written!\n",
            "C:/Users/valen/OneDrive/Pictures/img_prova/fear/fear (63).jpg written!\n",
            "C:/Users/valen/OneDrive/Pictures/img_prova/fear/fear (64).jpg written!\n",
            "C:/Users/valen/OneDrive/Pictures/img_prova/fear/fear (65).jpg written!\n",
            "C:/Users/valen/OneDrive/Pictures/img_prova/fear/fear (66).jpg written!\n",
            "C:/Users/valen/OneDrive/Pictures/img_prova/fear/fear (67).jpg written!\n",
            "C:/Users/valen/OneDrive/Pictures/img_prova/fear/fear (68).jpg written!\n",
            "C:/Users/valen/OneDrive/Pictures/img_prova/fear/fear (69).jpg written!\n",
            "C:/Users/valen/OneDrive/Pictures/img_prova/fear/fear (70).jpg written!\n",
            "C:/Users/valen/OneDrive/Pictures/img_prova/fear/fear (71).jpg written!\n",
            "C:/Users/valen/OneDrive/Pictures/img_prova/fear/fear (72).jpg written!\n",
            "C:/Users/valen/OneDrive/Pictures/img_prova/fear/fear (73).jpg written!\n",
            "C:/Users/valen/OneDrive/Pictures/img_prova/fear/fear (74).jpg written!\n",
            "C:/Users/valen/OneDrive/Pictures/img_prova/fear/fear (75).jpg written!\n",
            "C:/Users/valen/OneDrive/Pictures/img_prova/fear/fear (76).jpg written!\n",
            "C:/Users/valen/OneDrive/Pictures/img_prova/fear/fear (77).jpg written!\n",
            "C:/Users/valen/OneDrive/Pictures/img_prova/fear/fear (78).jpg written!\n",
            "C:/Users/valen/OneDrive/Pictures/img_prova/fear/fear (79).jpg written!\n",
            "C:/Users/valen/OneDrive/Pictures/img_prova/fear/fear (80).jpg written!\n",
            "C:/Users/valen/OneDrive/Pictures/img_prova/fear/fear (81).jpg written!\n",
            "C:/Users/valen/OneDrive/Pictures/img_prova/fear/fear (82).jpg written!\n",
            "C:/Users/valen/OneDrive/Pictures/img_prova/fear/fear (83).jpg written!\n",
            "C:/Users/valen/OneDrive/Pictures/img_prova/fear/fear (84).jpg written!\n",
            "C:/Users/valen/OneDrive/Pictures/img_prova/fear/fear (85).jpg written!\n",
            "C:/Users/valen/OneDrive/Pictures/img_prova/fear/fear (86).jpg written!\n",
            "C:/Users/valen/OneDrive/Pictures/img_prova/fear/fear (87).jpg written!\n",
            "C:/Users/valen/OneDrive/Pictures/img_prova/fear/fear (88).jpg written!\n",
            "C:/Users/valen/OneDrive/Pictures/img_prova/fear/fear (89).jpg written!\n",
            "C:/Users/valen/OneDrive/Pictures/img_prova/fear/fear (90).jpg written!\n",
            "C:/Users/valen/OneDrive/Pictures/img_prova/fear/fear (91).jpg written!\n",
            "C:/Users/valen/OneDrive/Pictures/img_prova/fear/fear (92).jpg written!\n",
            "C:/Users/valen/OneDrive/Pictures/img_prova/fear/fear (93).jpg written!\n",
            "C:/Users/valen/OneDrive/Pictures/img_prova/fear/fear (94).jpg written!\n",
            "C:/Users/valen/OneDrive/Pictures/img_prova/fear/fear (95).jpg written!\n",
            "C:/Users/valen/OneDrive/Pictures/img_prova/fear/fear (96).jpg written!\n",
            "C:/Users/valen/OneDrive/Pictures/img_prova/fear/fear (97).jpg written!\n",
            "C:/Users/valen/OneDrive/Pictures/img_prova/fear/fear (98).jpg written!\n",
            "C:/Users/valen/OneDrive/Pictures/img_prova/fear/fear (99).jpg written!\n",
            "C:/Users/valen/OneDrive/Pictures/img_prova/fear/fear (100).jpg written!\n",
            "C:/Users/valen/OneDrive/Pictures/img_prova/fear/fear (101).jpg written!\n",
            "C:/Users/valen/OneDrive/Pictures/img_prova/fear/fear (102).jpg written!\n",
            "C:/Users/valen/OneDrive/Pictures/img_prova/fear/fear (103).jpg written!\n",
            "C:/Users/valen/OneDrive/Pictures/img_prova/fear/fear (104).jpg written!\n",
            "C:/Users/valen/OneDrive/Pictures/img_prova/fear/fear (105).jpg written!\n",
            "C:/Users/valen/OneDrive/Pictures/img_prova/fear/fear (106).jpg written!\n",
            "C:/Users/valen/OneDrive/Pictures/img_prova/fear/fear (107).jpg written!\n",
            "C:/Users/valen/OneDrive/Pictures/img_prova/fear/fear (108).jpg written!\n",
            "C:/Users/valen/OneDrive/Pictures/img_prova/fear/fear (109).jpg written!\n",
            "Counter limit reached:110\n"
          ],
          "name": "stdout"
        }
      ]
    },
    {
      "cell_type": "code",
      "metadata": {
        "id": "yWkUGaLwC9Hm",
        "outputId": "3b7a2a76-467f-4fc1-aa9c-740ad109d09b"
      },
      "source": [
        "directory2=(\"C:/Users/valen/OneDrive/Pictures/vale/fear/\")\n",
        "from_directory=(\"C:/Users/valen/OneDrive/Pictures/img_prova/fear/\")\n",
        "detection_face(directory1=from_directory, directory2=directory2)"
      ],
      "execution_count": null,
      "outputs": [
        {
          "output_type": "stream",
          "text": [
            "Created 82/110 images cropped\n"
          ],
          "name": "stdout"
        }
      ]
    },
    {
      "cell_type": "markdown",
      "metadata": {
        "id": "lDaFK_aHC9Hm"
      },
      "source": [
        "**FACES**"
      ]
    },
    {
      "cell_type": "code",
      "metadata": {
        "id": "ZIHLI3BNC9Hn",
        "outputId": "570197b6-9eb4-4033-a07d-830426d3598b"
      },
      "source": [
        "directory2=(\"C:/Users/valen/OneDrive/Pictures/faces_reshape/angry/\")\n",
        "from_directory=(\"C:/Users/valen/OneDrive/Pictures/faces/angry/\")\n",
        "detection_face(directory1=from_directory, directory2=directory2)"
      ],
      "execution_count": null,
      "outputs": [
        {
          "output_type": "stream",
          "text": [
            "Created 4/12 images cropped\n"
          ],
          "name": "stdout"
        }
      ]
    },
    {
      "cell_type": "code",
      "metadata": {
        "id": "S2Gaw6ffC9Hn",
        "outputId": "3753c80c-4794-42cc-e44e-a84583de2c3e"
      },
      "source": [
        "directory2=(\"C:/Users/valen/OneDrive/Pictures/faces_reshape/disgust/\")\n",
        "from_directory=(\"C:/Users/valen/OneDrive/Pictures/faces/disgust/\")\n",
        "detection_face(directory1=from_directory, directory2=directory2)"
      ],
      "execution_count": null,
      "outputs": [
        {
          "output_type": "stream",
          "text": [
            "Created 5/12 images cropped\n"
          ],
          "name": "stdout"
        }
      ]
    },
    {
      "cell_type": "code",
      "metadata": {
        "id": "B4tfxTwdC9Ho",
        "outputId": "cd95ca63-ea10-442c-f6e6-fedde3375589"
      },
      "source": [
        "directory2=(\"C:/Users/valen/OneDrive/Pictures/faces_reshape/sad/\")\n",
        "from_directory=(\"C:/Users/valen/OneDrive/Pictures/faces/sad/\")\n",
        "detection_face(directory1=from_directory, directory2=directory2)"
      ],
      "execution_count": null,
      "outputs": [
        {
          "output_type": "stream",
          "text": [
            "Created 6/12 images cropped\n"
          ],
          "name": "stdout"
        }
      ]
    },
    {
      "cell_type": "code",
      "metadata": {
        "id": "UwZTdPKKC9Ho",
        "outputId": "069a7c94-f9e3-4294-a904-4e568800a391"
      },
      "source": [
        "directory2=(\"C:/Users/valen/OneDrive/Pictures/faces_reshape/happy/\")\n",
        "from_directory=(\"C:/Users/valen/OneDrive/Pictures/faces/happy/\")\n",
        "detection_face(directory1=from_directory, directory2=directory2)"
      ],
      "execution_count": null,
      "outputs": [
        {
          "output_type": "stream",
          "text": [
            "Created 3/12 images cropped\n"
          ],
          "name": "stdout"
        }
      ]
    },
    {
      "cell_type": "code",
      "metadata": {
        "id": "O1pczHfCC9Hp",
        "outputId": "7c67409f-e0b2-4fcd-ada9-fadc7bffe8d2"
      },
      "source": [
        "directory2=(\"C:/Users/valen/OneDrive/Pictures/faces_reshape/fear/\")\n",
        "from_directory=(\"C:/Users/valen/OneDrive/Pictures/faces/fear/\")\n",
        "detection_face(directory1=from_directory, directory2=directory2)"
      ],
      "execution_count": null,
      "outputs": [
        {
          "output_type": "stream",
          "text": [
            "Created 9/12 images cropped\n"
          ],
          "name": "stdout"
        }
      ]
    },
    {
      "cell_type": "code",
      "metadata": {
        "id": "6-j7yh1tC9Hp"
      },
      "source": [
        "directory2=(\"C:/Users/valen/OneDrive/Pictures/faces_reshape/neutral/\")\n",
        "from_directory=(\"C:/Users/valen/OneDrive/Pictures/faces/neutral/\")\n",
        "detection_face(directory1=from_directory, directory2=directory2)"
      ],
      "execution_count": null,
      "outputs": []
    },
    {
      "cell_type": "markdown",
      "metadata": {
        "id": "vPVnnYQmC9Hq"
      },
      "source": [
        "**VISGRAM**"
      ]
    },
    {
      "cell_type": "code",
      "metadata": {
        "id": "SrG59myCC9Hq",
        "outputId": "a5f4cc60-3279-4395-c3d0-b96c1a47f1c8"
      },
      "source": [
        "directory2=(\"C:/Users/valen/OneDrive/Pictures/visgram/happy/\")\n",
        "from_directory=(\"C:/Users/valen/OneDrive/Pictures/visum/happy/\")\n",
        "detection_face(directory1=from_directory, directory2=directory2)"
      ],
      "execution_count": null,
      "outputs": [
        {
          "output_type": "stream",
          "text": [
            "Created 32/32 images cropped\n"
          ],
          "name": "stdout"
        }
      ]
    },
    {
      "cell_type": "code",
      "metadata": {
        "id": "1jASVz9xC9Hq",
        "outputId": "5e9c7ca1-54c6-4f78-d4c5-f12e9f0d9c16"
      },
      "source": [
        "directory2=(\"C:/Users/valen/OneDrive/Pictures/visgram/angry/\")\n",
        "from_directory=(\"C:/Users/valen/OneDrive/Pictures/visum/angry/\")\n",
        "detection_face(directory1=from_directory, directory2=directory2)"
      ],
      "execution_count": null,
      "outputs": [
        {
          "output_type": "stream",
          "text": [
            "Created 36/36 images cropped\n"
          ],
          "name": "stdout"
        }
      ]
    },
    {
      "cell_type": "code",
      "metadata": {
        "id": "Y6PIcjF7C9Hr",
        "outputId": "9f9a66d1-1819-4e20-ff63-d6896de1df5e"
      },
      "source": [
        "directory2=(\"C:/Users/valen/OneDrive/Pictures/visgram/neutral/\")\n",
        "from_directory=(\"C:/Users/valen/OneDrive/Pictures/visum/neutral/\")\n",
        "detection_face(directory1=from_directory, directory2=directory2)"
      ],
      "execution_count": null,
      "outputs": [
        {
          "output_type": "stream",
          "text": [
            "Created 30/30 images cropped\n"
          ],
          "name": "stdout"
        }
      ]
    },
    {
      "cell_type": "code",
      "metadata": {
        "id": "9Dc0aBtmC9Hr",
        "outputId": "195650db-4a26-4800-bc23-fb307a15b8de"
      },
      "source": [
        "directory2=(\"C:/Users/valen/OneDrive/Pictures/visgram/disgust/\")\n",
        "from_directory=(\"C:/Users/valen/OneDrive/Pictures/visum/disgust/\")\n",
        "detection_face(directory1=from_directory, directory2=directory2)"
      ],
      "execution_count": null,
      "outputs": [
        {
          "output_type": "stream",
          "text": [
            "Created 34/34 images cropped\n"
          ],
          "name": "stdout"
        }
      ]
    },
    {
      "cell_type": "code",
      "metadata": {
        "id": "LlhJVNjnC9Hs",
        "outputId": "702d1b90-1c96-4a4c-edc8-5881d08e1e00"
      },
      "source": [
        "directory2=(\"C:/Users/valen/OneDrive/Pictures/visgram/sad/\")\n",
        "from_directory=(\"C:/Users/valen/OneDrive/Pictures/visum/sad/\")\n",
        "detection_face(directory1=from_directory, directory2=directory2)"
      ],
      "execution_count": null,
      "outputs": [
        {
          "output_type": "stream",
          "text": [
            "Created 34/34 images cropped\n"
          ],
          "name": "stdout"
        }
      ]
    },
    {
      "cell_type": "code",
      "metadata": {
        "id": "eOIcgvSfC9Hs",
        "outputId": "16e21a2e-9899-4a8c-9e16-57d462feb199"
      },
      "source": [
        "directory2=(\"C:/Users/valen/OneDrive/Pictures/visgram/surprise/\")\n",
        "from_directory=(\"C:/Users/valen/OneDrive/Pictures/visum/surprise/\")\n",
        "detection_face(directory1=from_directory, directory2=directory2)"
      ],
      "execution_count": null,
      "outputs": [
        {
          "output_type": "stream",
          "text": [
            "Created 34/34 images cropped\n"
          ],
          "name": "stdout"
        }
      ]
    },
    {
      "cell_type": "code",
      "metadata": {
        "id": "L61T4p-4C9Ht",
        "outputId": "f499382c-a956-4e33-f59f-0bfa649bd1a5"
      },
      "source": [
        "directory2=(\"C:/Users/valen/OneDrive/Pictures/visgram/fear/\")\n",
        "from_directory=(\"C:/Users/valen/OneDrive/Pictures/visum/fear/\")\n",
        "detection_face(directory1=from_directory, directory2=directory2)"
      ],
      "execution_count": null,
      "outputs": [
        {
          "output_type": "stream",
          "text": [
            "Created 33/33 images cropped\n"
          ],
          "name": "stdout"
        }
      ]
    },
    {
      "cell_type": "markdown",
      "metadata": {
        "id": "ZCT9YvnpC9Ht"
      },
      "source": [
        "**JAFFE**"
      ]
    },
    {
      "cell_type": "code",
      "metadata": {
        "id": "RCKeRYYKC9Hu",
        "outputId": "4574bf5b-0588-482e-8071-8ba05ec5e93a"
      },
      "source": [
        "directory2=(\"C:/Users/valen/OneDrive/Pictures/jaffe/happy/\")\n",
        "from_directory=(\"C:/Users/valen/OneDrive/Pictures/jaffedb/happy/\")\n",
        "detection_face(directory1=from_directory, directory2=directory2)"
      ],
      "execution_count": null,
      "outputs": [
        {
          "output_type": "stream",
          "text": [
            "Created 31/31 images cropped\n"
          ],
          "name": "stdout"
        }
      ]
    },
    {
      "cell_type": "code",
      "metadata": {
        "id": "cQY7iM1DC9Hu",
        "outputId": "a877793b-49b9-4114-e48a-d595a7ad32fa"
      },
      "source": [
        "directory2=(\"C:/Users/valen/OneDrive/Pictures/jaffe/angry/\")\n",
        "from_directory=(\"C:/Users/valen/OneDrive/Pictures/jaffedb/angry/\")\n",
        "detection_face(directory1=from_directory, directory2=directory2)"
      ],
      "execution_count": null,
      "outputs": [
        {
          "output_type": "stream",
          "text": [
            "Created 30/30 images cropped\n"
          ],
          "name": "stdout"
        }
      ]
    },
    {
      "cell_type": "code",
      "metadata": {
        "id": "zVudkD6aC9Hv",
        "outputId": "dc99d62b-a005-4793-f581-c80eae667fbe"
      },
      "source": [
        "directory2=(\"C:/Users/valen/OneDrive/Pictures/jaffe/neutral/\")\n",
        "from_directory=(\"C:/Users/valen/OneDrive/Pictures/jaffedb/neutral/\")\n",
        "detection_face(directory1=from_directory, directory2=directory2)"
      ],
      "execution_count": null,
      "outputs": [
        {
          "output_type": "stream",
          "text": [
            "Created 30/30 images cropped\n"
          ],
          "name": "stdout"
        }
      ]
    },
    {
      "cell_type": "code",
      "metadata": {
        "id": "HxncKuIXC9Hv",
        "outputId": "6171218f-a33c-46b1-9160-4d1215ebdd6c"
      },
      "source": [
        "directory2=(\"C:/Users/valen/OneDrive/Pictures/jaffe/disgust/\")\n",
        "from_directory=(\"C:/Users/valen/OneDrive/Pictures/jaffedb/disgust/\")\n",
        "detection_face(directory1=from_directory, directory2=directory2)"
      ],
      "execution_count": null,
      "outputs": [
        {
          "output_type": "stream",
          "text": [
            "Created 28/29 images cropped\n"
          ],
          "name": "stdout"
        }
      ]
    },
    {
      "cell_type": "code",
      "metadata": {
        "id": "qoYz-pl5C9Hw",
        "outputId": "87af1160-aa2e-4431-8c34-c569cf4a6ff0"
      },
      "source": [
        "directory2=(\"C:/Users/valen/OneDrive/Pictures/jaffe/sad/\")\n",
        "from_directory=(\"C:/Users/valen/OneDrive/Pictures/jaffedb/sad/\")\n",
        "detection_face(directory1=from_directory, directory2=directory2)"
      ],
      "execution_count": null,
      "outputs": [
        {
          "output_type": "stream",
          "text": [
            "Created 31/31 images cropped\n"
          ],
          "name": "stdout"
        }
      ]
    },
    {
      "cell_type": "code",
      "metadata": {
        "id": "cguY4e5iC9Hw",
        "outputId": "180ff6c6-c9c5-411e-d960-df1c6ff58082"
      },
      "source": [
        "directory2=(\"C:/Users/valen/OneDrive/Pictures/jaffe/surprise/\")\n",
        "from_directory=(\"C:/Users/valen/OneDrive/Pictures/jaffedb/surprise/\")\n",
        "detection_face(directory1=from_directory, directory2=directory2)"
      ],
      "execution_count": null,
      "outputs": [
        {
          "output_type": "stream",
          "text": [
            "Created 30/30 images cropped\n"
          ],
          "name": "stdout"
        }
      ]
    },
    {
      "cell_type": "code",
      "metadata": {
        "id": "5GifD8hjC9Hx",
        "outputId": "27a0ae15-7e7a-4b1d-e300-eda8a18cabc6"
      },
      "source": [
        "directory2=(\"C:/Users/valen/OneDrive/Pictures/jaffe/fear/\")\n",
        "from_directory=(\"C:/Users/valen/OneDrive/Pictures/jaffedb/fear/\")\n",
        "detection_face(directory1=from_directory, directory2=directory2)"
      ],
      "execution_count": null,
      "outputs": [
        {
          "output_type": "stream",
          "text": [
            "Created 32/32 images cropped\n"
          ],
          "name": "stdout"
        }
      ]
    },
    {
      "cell_type": "code",
      "metadata": {
        "id": "qdbzQuAqC9Hx"
      },
      "source": [
        ""
      ],
      "execution_count": null,
      "outputs": []
    }
  ]
}