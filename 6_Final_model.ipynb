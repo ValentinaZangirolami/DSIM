{
 "cells": [
  {
   "cell_type": "markdown",
   "metadata": {
    "id": "2HXaprVAQEzI"
   },
   "source": [
    "**PART 6 - DSIM project**\n",
    "\n",
    "**Authors:** Francesca De Cola, Valentina Moretto, Valentina Zangirolami\n",
    "\n",
    "In this notebook, we test different structure of ensemble model."
   ]
  },
  {
   "cell_type": "markdown",
   "metadata": {
    "id": "Yx_b78_hQEzS"
   },
   "source": [
    "**Load packages**"
   ]
  },
  {
   "cell_type": "code",
   "execution_count": null,
   "metadata": {
    "id": "nDhDa2zeQEzV",
    "outputId": "403d043e-63e3-4988-89c5-0e65de40ef82"
   },
   "outputs": [
    {
     "name": "stderr",
     "output_type": "stream",
     "text": [
      "Using TensorFlow backend.\n",
      "C:\\Users\\valen\\Anaconda3\\lib\\site-packages\\tensorflow\\python\\framework\\dtypes.py:516: FutureWarning: Passing (type, 1) or '1type' as a synonym of type is deprecated; in a future version of numpy, it will be understood as (type, (1,)) / '(1,)type'.\n",
      "  _np_qint8 = np.dtype([(\"qint8\", np.int8, 1)])\n",
      "C:\\Users\\valen\\Anaconda3\\lib\\site-packages\\tensorflow\\python\\framework\\dtypes.py:517: FutureWarning: Passing (type, 1) or '1type' as a synonym of type is deprecated; in a future version of numpy, it will be understood as (type, (1,)) / '(1,)type'.\n",
      "  _np_quint8 = np.dtype([(\"quint8\", np.uint8, 1)])\n",
      "C:\\Users\\valen\\Anaconda3\\lib\\site-packages\\tensorflow\\python\\framework\\dtypes.py:518: FutureWarning: Passing (type, 1) or '1type' as a synonym of type is deprecated; in a future version of numpy, it will be understood as (type, (1,)) / '(1,)type'.\n",
      "  _np_qint16 = np.dtype([(\"qint16\", np.int16, 1)])\n",
      "C:\\Users\\valen\\Anaconda3\\lib\\site-packages\\tensorflow\\python\\framework\\dtypes.py:519: FutureWarning: Passing (type, 1) or '1type' as a synonym of type is deprecated; in a future version of numpy, it will be understood as (type, (1,)) / '(1,)type'.\n",
      "  _np_quint16 = np.dtype([(\"quint16\", np.uint16, 1)])\n",
      "C:\\Users\\valen\\Anaconda3\\lib\\site-packages\\tensorflow\\python\\framework\\dtypes.py:520: FutureWarning: Passing (type, 1) or '1type' as a synonym of type is deprecated; in a future version of numpy, it will be understood as (type, (1,)) / '(1,)type'.\n",
      "  _np_qint32 = np.dtype([(\"qint32\", np.int32, 1)])\n",
      "C:\\Users\\valen\\Anaconda3\\lib\\site-packages\\tensorflow\\python\\framework\\dtypes.py:525: FutureWarning: Passing (type, 1) or '1type' as a synonym of type is deprecated; in a future version of numpy, it will be understood as (type, (1,)) / '(1,)type'.\n",
      "  np_resource = np.dtype([(\"resource\", np.ubyte, 1)])\n",
      "C:\\Users\\valen\\Anaconda3\\lib\\site-packages\\tensorboard\\compat\\tensorflow_stub\\dtypes.py:541: FutureWarning: Passing (type, 1) or '1type' as a synonym of type is deprecated; in a future version of numpy, it will be understood as (type, (1,)) / '(1,)type'.\n",
      "  _np_qint8 = np.dtype([(\"qint8\", np.int8, 1)])\n",
      "C:\\Users\\valen\\Anaconda3\\lib\\site-packages\\tensorboard\\compat\\tensorflow_stub\\dtypes.py:542: FutureWarning: Passing (type, 1) or '1type' as a synonym of type is deprecated; in a future version of numpy, it will be understood as (type, (1,)) / '(1,)type'.\n",
      "  _np_quint8 = np.dtype([(\"quint8\", np.uint8, 1)])\n",
      "C:\\Users\\valen\\Anaconda3\\lib\\site-packages\\tensorboard\\compat\\tensorflow_stub\\dtypes.py:543: FutureWarning: Passing (type, 1) or '1type' as a synonym of type is deprecated; in a future version of numpy, it will be understood as (type, (1,)) / '(1,)type'.\n",
      "  _np_qint16 = np.dtype([(\"qint16\", np.int16, 1)])\n",
      "C:\\Users\\valen\\Anaconda3\\lib\\site-packages\\tensorboard\\compat\\tensorflow_stub\\dtypes.py:544: FutureWarning: Passing (type, 1) or '1type' as a synonym of type is deprecated; in a future version of numpy, it will be understood as (type, (1,)) / '(1,)type'.\n",
      "  _np_quint16 = np.dtype([(\"quint16\", np.uint16, 1)])\n",
      "C:\\Users\\valen\\Anaconda3\\lib\\site-packages\\tensorboard\\compat\\tensorflow_stub\\dtypes.py:545: FutureWarning: Passing (type, 1) or '1type' as a synonym of type is deprecated; in a future version of numpy, it will be understood as (type, (1,)) / '(1,)type'.\n",
      "  _np_qint32 = np.dtype([(\"qint32\", np.int32, 1)])\n",
      "C:\\Users\\valen\\Anaconda3\\lib\\site-packages\\tensorboard\\compat\\tensorflow_stub\\dtypes.py:550: FutureWarning: Passing (type, 1) or '1type' as a synonym of type is deprecated; in a future version of numpy, it will be understood as (type, (1,)) / '(1,)type'.\n",
      "  np_resource = np.dtype([(\"resource\", np.ubyte, 1)])\n"
     ]
    }
   ],
   "source": [
    "import numpy as np\n",
    "import glob\n",
    "from PIL import Image\n",
    "import cv2\n",
    "import pandas as pd\n",
    "import seaborn as sns\n",
    "import os\n",
    "import matplotlib.pyplot as plt\n",
    "import cv2 as cv\n",
    "import keras\n",
    "\n",
    "\n",
    "from keras_vggface.vggface import VGGFace\n",
    "from keras_vggface.utils import preprocess_input\n",
    "from keras_vggface import utils\n",
    "\n",
    "from sklearn.model_selection import train_test_split\n",
    "from sklearn.preprocessing import LabelEncoder\n",
    "from sklearn.metrics import classification_report, confusion_matrix\n",
    "\n",
    "from keras.models import Model, load_model\n",
    "from keras.utils import to_categorical\n",
    "from keras.preprocessing import image\n",
    "\n",
    "import tensorflow as tf\n",
    "import pickle\n",
    "import random "
   ]
  },
  {
   "cell_type": "markdown",
   "metadata": {
    "id": "d-clzSIyQEzc"
   },
   "source": [
    "**Seed for reproducibility**"
   ]
  },
  {
   "cell_type": "code",
   "execution_count": null,
   "metadata": {
    "id": "ZcwCtT2sQEze"
   },
   "outputs": [],
   "source": [
    "SEED = 42\n",
    "np.random.seed(SEED)\n",
    "random.seed(SEED)\n",
    "tf.compat.v1.set_random_seed(SEED)"
   ]
  },
  {
   "cell_type": "markdown",
   "metadata": {
    "id": "5nUWBQnxQEzg"
   },
   "source": [
    "**Load dataset of images**\n",
    "\n",
    "(We create this npz file in 1_creation_dataset.ipynb)"
   ]
  },
  {
   "cell_type": "code",
   "execution_count": null,
   "metadata": {
    "id": "44WN3odUQEzi"
   },
   "outputs": [],
   "source": [
    "data=np.load(\"C:/Users/valen/Desktop/magistrale/DSIM/dataset_imgs.npz\")\n",
    "label=data['Y']\n",
    "img=data['X']"
   ]
  },
  {
   "cell_type": "markdown",
   "metadata": {
    "id": "7LEqnIDMQEzk"
   },
   "source": [
    "**Preprocessing labels and images**\n",
    "\n",
    "(Same at previous notebook, Fine_tuning_4 and CNN_5)"
   ]
  },
  {
   "cell_type": "code",
   "execution_count": null,
   "metadata": {
    "id": "xBakDceKQEzm"
   },
   "outputs": [],
   "source": [
    "le = LabelEncoder()\n",
    "label=le.fit_transform(label)\n",
    "img = img.astype('float32')\n",
    "img = preprocess_input(img, version = 2)"
   ]
  },
  {
   "cell_type": "markdown",
   "metadata": {
    "id": "d5FPmUHsQEzp"
   },
   "source": [
    "**Train-Validation-Test partition**"
   ]
  },
  {
   "cell_type": "markdown",
   "metadata": {
    "id": "VVHoVQ89QEzr"
   },
   "source": [
    "We use the same partion of previous notebook, we set the same seed to obtain the same test set for compare results."
   ]
  },
  {
   "cell_type": "code",
   "execution_count": null,
   "metadata": {
    "id": "ZhJCgi77QEzt",
    "outputId": "fec5eaf5-96f6-477b-9cf7-9dfb06c271bd"
   },
   "outputs": [
    {
     "data": {
      "text/plain": [
       "((1452, 224, 224, 3), (363, 224, 224, 3), (454, 224, 224, 3))"
      ]
     },
     "execution_count": 5,
     "metadata": {
      "tags": []
     },
     "output_type": "execute_result"
    }
   ],
   "source": [
    "x_train, x_test, y_train, y_test = train_test_split(img, label, test_size = .2, random_state = SEED, stratify = label)\n",
    "x_train, x_val, y_train, y_val = train_test_split(x_train, y_train, test_size = .2, random_state = SEED, stratify = y_train)\n",
    "x_train.shape, x_val.shape, x_test.shape"
   ]
  },
  {
   "cell_type": "markdown",
   "metadata": {
    "id": "jrCesP42QEzv"
   },
   "source": [
    "We define *y_eff* to save test labels for classification_report (and confusion matrix). After, we complete the preprocessing phase for labels with to_categorical function."
   ]
  },
  {
   "cell_type": "code",
   "execution_count": null,
   "metadata": {
    "id": "9BvLbcXBQEzw"
   },
   "outputs": [],
   "source": [
    "y_eff=y_test\n",
    "y_train= to_categorical(y_train, num_classes=7)\n",
    "y_val= to_categorical(y_val, num_classes=7)\n",
    "y_test= to_categorical(y_test, num_classes=7)"
   ]
  },
  {
   "cell_type": "markdown",
   "metadata": {
    "id": "IlSWj9E1QEzz"
   },
   "source": [
    "**Ensemble Model**"
   ]
  },
  {
   "cell_type": "markdown",
   "metadata": {
    "id": "jvrsS8mdQEzz"
   },
   "source": [
    "Initially, we load four models:\n",
    "* model_ft1 and model_ft2: refers to a model in which we apply fine tuning techniques. They represents the two best model of the scripts Fine_tuning_4.ipynb\n",
    "* model_cnn1: refers to our CNN with the best cut of vggface (layer: add_12). It is the last model of the scripts CNN_5\n",
    "* base_model: it is the pretrained neural network VGGFace. It is necessary for model_cnn1, because we use this to extract features of images before model_cnn1."
   ]
  },
  {
   "cell_type": "code",
   "execution_count": null,
   "metadata": {
    "id": "uw93LzY5QEz1",
    "outputId": "54754bbb-ff5a-4dce-8c3d-12e2f254d928"
   },
   "outputs": [
    {
     "name": "stdout",
     "output_type": "stream",
     "text": [
      "WARNING:tensorflow:From C:\\Users\\valen\\AppData\\Roaming\\Python\\Python37\\site-packages\\keras\\backend\\tensorflow_backend.py:517: The name tf.placeholder is deprecated. Please use tf.compat.v1.placeholder instead.\n",
      "\n",
      "WARNING:tensorflow:From C:\\Users\\valen\\AppData\\Roaming\\Python\\Python37\\site-packages\\keras\\backend\\tensorflow_backend.py:4138: The name tf.random_uniform is deprecated. Please use tf.random.uniform instead.\n",
      "\n",
      "WARNING:tensorflow:From C:\\Users\\valen\\AppData\\Roaming\\Python\\Python37\\site-packages\\keras\\backend\\tensorflow_backend.py:3976: The name tf.nn.max_pool is deprecated. Please use tf.nn.max_pool2d instead.\n",
      "\n",
      "WARNING:tensorflow:From C:\\Users\\valen\\AppData\\Roaming\\Python\\Python37\\site-packages\\keras\\backend\\tensorflow_backend.py:131: The name tf.get_default_graph is deprecated. Please use tf.compat.v1.get_default_graph instead.\n",
      "\n",
      "WARNING:tensorflow:From C:\\Users\\valen\\AppData\\Roaming\\Python\\Python37\\site-packages\\keras\\backend\\tensorflow_backend.py:133: The name tf.placeholder_with_default is deprecated. Please use tf.compat.v1.placeholder_with_default instead.\n",
      "\n",
      "WARNING:tensorflow:From C:\\Users\\valen\\AppData\\Roaming\\Python\\Python37\\site-packages\\keras\\backend\\tensorflow_backend.py:3445: calling dropout (from tensorflow.python.ops.nn_ops) with keep_prob is deprecated and will be removed in a future version.\n",
      "Instructions for updating:\n",
      "Please use `rate` instead of `keep_prob`. Rate should be set to `rate = 1 - keep_prob`.\n",
      "WARNING:tensorflow:From C:\\Users\\valen\\AppData\\Roaming\\Python\\Python37\\site-packages\\keras\\backend\\tensorflow_backend.py:174: The name tf.get_default_session is deprecated. Please use tf.compat.v1.get_default_session instead.\n",
      "\n",
      "WARNING:tensorflow:From C:\\Users\\valen\\AppData\\Roaming\\Python\\Python37\\site-packages\\keras\\optimizers.py:790: The name tf.train.Optimizer is deprecated. Please use tf.compat.v1.train.Optimizer instead.\n",
      "\n",
      "WARNING:tensorflow:From C:\\Users\\valen\\Anaconda3\\lib\\site-packages\\tensorflow\\python\\ops\\math_grad.py:1250: add_dispatch_support.<locals>.wrapper (from tensorflow.python.ops.array_ops) is deprecated and will be removed in a future version.\n",
      "Instructions for updating:\n",
      "Use tf.where in 2.0, which has the same broadcast rule as np.where\n",
      "WARNING:tensorflow:From C:\\Users\\valen\\AppData\\Roaming\\Python\\Python37\\site-packages\\keras\\backend\\tensorflow_backend.py:1834: The name tf.nn.fused_batch_norm is deprecated. Please use tf.compat.v1.nn.fused_batch_norm instead.\n",
      "\n",
      "WARNING:tensorflow:From C:\\Users\\valen\\AppData\\Roaming\\Python\\Python37\\site-packages\\keras\\backend\\tensorflow_backend.py:3980: The name tf.nn.avg_pool is deprecated. Please use tf.nn.avg_pool2d instead.\n",
      "\n"
     ]
    }
   ],
   "source": [
    "model1=tf.keras.models.load_model('C:/Users/valen/Desktop/magistrale/DSIM/aml/weights-tmp4.best.hdf5')\n",
    "model2=tf.keras.models.load_model('C:/Users/valen/Desktop/magistrale/DSIM/aml/weights-tmp3.best.hdf5')\n",
    "model_cnn1=load_model('C:/Users/valen/Desktop/magistrale/DSIM/aml_cnn/cnn_best.h5')\n",
    "base_model = VGGFace(include_top = False, input_shape = (224, 224, 3), model='senet50')"
   ]
  },
  {
   "cell_type": "code",
   "execution_count": null,
   "metadata": {
    "id": "uDO_IqEaQEz3"
   },
   "outputs": [],
   "source": [
    "#feature extraction\n",
    "model = Model(inputs=base_model.input, outputs=base_model.get_layer('add_12').output)\n",
    "extract_features = model.predict(x_test)\n",
    "#prediction for each model\n",
    "pred_cnn = model_cnn1.predict(extract_features)\n",
    "pred1= model1.predict(x_test)\n",
    "pred2= model2.predict(x_test)"
   ]
  },
  {
   "cell_type": "markdown",
   "metadata": {
    "id": "-1CLvH0cQEz4"
   },
   "source": [
    "We define two initial structure of ensamble:\n",
    "1. First structure, save in final_pred_1, consider a mean with same weight for each prediction\n",
    "2. In final_pred_2, We consider a weighted mean. We define weigths that take into account performance of each models. *model1* and *model_cnn* are the best models that have registred 91% of accuracy in the test phase, for this reasion we assign an 'high' value in ensemble. In different way, *model2* have 89% of accuracy on the test set."
   ]
  },
  {
   "cell_type": "code",
   "execution_count": null,
   "metadata": {
    "id": "K3khscw_QEz5"
   },
   "outputs": [],
   "source": [
    "final_pred_1= 0.33*(pred1+pred2 + pred_cnn)\n",
    "final_pred_2= 0.2*pred2 + 0.3*pred1 + 0.5*pred_cnn"
   ]
  },
  {
   "cell_type": "markdown",
   "metadata": {
    "id": "sfcQSVIKQEz6"
   },
   "source": [
    "**Classification report/Confusion Matrix Ensemble 1**"
   ]
  },
  {
   "cell_type": "code",
   "execution_count": null,
   "metadata": {
    "id": "hO1Q3UXyQEz6",
    "outputId": "ee2dd464-304b-4a5c-854f-c31742d552f2"
   },
   "outputs": [
    {
     "name": "stdout",
     "output_type": "stream",
     "text": [
      "Classification report:\n",
      "              precision    recall  f1-score   support\n",
      "\n",
      "           0       0.81      0.94      0.87        64\n",
      "           1       0.91      0.83      0.87        60\n",
      "           2       0.89      0.90      0.90        63\n",
      "           3       1.00      0.98      0.99        64\n",
      "           4       0.90      0.93      0.91        69\n",
      "           5       0.97      0.81      0.88        73\n",
      "           6       0.89      0.97      0.93        61\n",
      "\n",
      "    accuracy                           0.91       454\n",
      "   macro avg       0.91      0.91      0.91       454\n",
      "weighted avg       0.91      0.91      0.91       454\n",
      "\n",
      "Confusion matrix:\n",
      "[[60  3  0  0  0  1  0]\n",
      " [10 50  0  0  0  0  0]\n",
      " [ 0  0 57  0  1  0  5]\n",
      " [ 0  1  0 63  0  0  0]\n",
      " [ 0  0  3  0 64  1  1]\n",
      " [ 3  1  4  0  5 59  1]\n",
      " [ 1  0  0  0  1  0 59]]\n"
     ]
    },
    {
     "data": {
      "text/plain": [
       "<matplotlib.image.AxesImage at 0x1f72cfe01d0>"
      ]
     },
     "execution_count": 10,
     "metadata": {
      "tags": []
     },
     "output_type": "execute_result"
    },
    {
     "data": {
      "image/png": "[encoded data removed]",
      "text/plain": [
       "<Figure size 432x288 with 1 Axes>"
      ]
     },
     "metadata": {
      "needs_background": "light",
      "tags": []
     },
     "output_type": "display_data"
    }
   ],
   "source": [
    "y_pred_1=np.argmax(final_pred_1, axis=1)\n",
    "\n",
    "print('Classification report:')\n",
    "print(classification_report(y_eff, y_pred_1))\n",
    "\n",
    "print('Confusion matrix:')\n",
    "cm=confusion_matrix(y_eff, y_pred_1)\n",
    "print(cm)\n",
    "plt.imshow(cm, cmap=plt.cm.Blues)"
   ]
  },
  {
   "cell_type": "markdown",
   "metadata": {
    "id": "58nunYRkQEz8"
   },
   "source": [
    "Performance are very confortable, Accuracy and other indicator are very high. We note, only, that classes 0,2 and 5 registered less performance than other classes. In fact, if we observe a confusion matrix we note that in corrispondence of these classes we have more 'false negative'."
   ]
  },
  {
   "cell_type": "markdown",
   "metadata": {
    "id": "ULApuI0PQEz9"
   },
   "source": [
    "**Classification report/Confusion Matrix Ensemble 2**"
   ]
  },
  {
   "cell_type": "code",
   "execution_count": null,
   "metadata": {
    "id": "Hhu1cQoVQEz9",
    "outputId": "3c2f9e42-76ed-4942-a026-c6b6041f3e40"
   },
   "outputs": [
    {
     "name": "stdout",
     "output_type": "stream",
     "text": [
      "Classification report:\n",
      "              precision    recall  f1-score   support\n",
      "\n",
      "           0       0.84      0.91      0.87        64\n",
      "           1       0.90      0.87      0.88        60\n",
      "           2       0.92      0.90      0.91        63\n",
      "           3       1.00      0.98      0.99        64\n",
      "           4       0.90      0.94      0.92        69\n",
      "           5       0.95      0.84      0.89        73\n",
      "           6       0.89      0.97      0.93        61\n",
      "\n",
      "    accuracy                           0.91       454\n",
      "   macro avg       0.92      0.92      0.91       454\n",
      "weighted avg       0.92      0.91      0.91       454\n",
      "\n",
      "Confusion matrix:\n",
      "[[58  4  0  0  0  2  0]\n",
      " [ 8 52  0  0  0  0  0]\n",
      " [ 0  0 57  0  1  0  5]\n",
      " [ 0  1  0 63  0  0  0]\n",
      " [ 0  0  2  0 65  1  1]\n",
      " [ 2  1  3  0  5 61  1]\n",
      " [ 1  0  0  0  1  0 59]]\n"
     ]
    },
    {
     "data": {
      "text/plain": [
       "<matplotlib.image.AxesImage at 0x1f72d062898>"
      ]
     },
     "execution_count": 11,
     "metadata": {
      "tags": []
     },
     "output_type": "execute_result"
    },
    {
     "data": {
      "image/png": "[encoded data removed]",
      "text/plain": [
       "<Figure size 432x288 with 1 Axes>"
      ]
     },
     "metadata": {
      "needs_background": "light",
      "tags": []
     },
     "output_type": "display_data"
    }
   ],
   "source": [
    "y_pred_2=np.argmax(final_pred_2, axis=1)\n",
    "\n",
    "print('Classification report:')\n",
    "print(classification_report(y_eff, y_pred_2))\n",
    "\n",
    "print('Confusion matrix:')\n",
    "cm=confusion_matrix(y_eff, y_pred_2)\n",
    "print(cm)\n",
    "plt.imshow(cm, cmap=plt.cm.Blues)"
   ]
  },
  {
   "cell_type": "markdown",
   "metadata": {
    "id": "eyYdvj-zQEz_"
   },
   "source": [
    "The difference between the first ensemble model is really minimal. We obtain the same value of accuracy, but it is possible to notice that other metrics (recall, precision and f1-score) are more balanced. We think that this model is better than the first, it is possible to note that the problems highlighted above remain but seem to be less relevant."
   ]
  },
  {
   "cell_type": "markdown",
   "metadata": {
    "id": "e_s0eBU5QE0A"
   },
   "source": [
    "**Classification report/Confusion Matrix Ensemble 3**"
   ]
  },
  {
   "cell_type": "markdown",
   "metadata": {
    "id": "LKO-rmm7QE0B"
   },
   "source": [
    "We define another structure of ensemble in which we give much more importance to *model1* and *model_cnn*."
   ]
  },
  {
   "cell_type": "code",
   "execution_count": null,
   "metadata": {
    "id": "7tXoojhRQE0C",
    "outputId": "2d19b8da-f932-4d71-ac44-a6f70698bf7e"
   },
   "outputs": [
    {
     "name": "stdout",
     "output_type": "stream",
     "text": [
      "Classification report:\n",
      "              precision    recall  f1-score   support\n",
      "\n",
      "           0       0.86      0.92      0.89        64\n",
      "           1       0.91      0.87      0.89        60\n",
      "           2       0.95      0.90      0.93        63\n",
      "           3       1.00      0.98      0.99        64\n",
      "           4       0.90      0.94      0.92        69\n",
      "           5       0.94      0.86      0.90        73\n",
      "           6       0.89      0.97      0.93        61\n",
      "\n",
      "    accuracy                           0.92       454\n",
      "   macro avg       0.92      0.92      0.92       454\n",
      "weighted avg       0.92      0.92      0.92       454\n",
      "\n",
      "Confusion matrix:\n",
      "[[59  4  0  0  0  1  0]\n",
      " [ 7 52  0  0  0  1  0]\n",
      " [ 0  0 57  0  1  0  5]\n",
      " [ 0  1  0 63  0  0  0]\n",
      " [ 0  0  1  0 65  2  1]\n",
      " [ 2  0  2  0  5 63  1]\n",
      " [ 1  0  0  0  1  0 59]]\n"
     ]
    },
    {
     "data": {
      "text/plain": [
       "<matplotlib.image.AxesImage at 0x1f72d0b8fd0>"
      ]
     },
     "execution_count": 12,
     "metadata": {
      "tags": []
     },
     "output_type": "execute_result"
    },
    {
     "data": {
      "image/png": "[encoded data removed]",
      "text/plain": [
       "<Figure size 432x288 with 1 Axes>"
      ]
     },
     "metadata": {
      "needs_background": "light",
      "tags": []
     },
     "output_type": "display_data"
    }
   ],
   "source": [
    "final_pred_3 = 0.1*pred2 + 0.4*pred1 + 0.5*pred_cnn\n",
    "y_pred_3=np.argmax(final_pred_3, axis=1)\n",
    "\n",
    "print('Classification report:')\n",
    "print(classification_report(y_eff, y_pred_3))\n",
    "\n",
    "print('Confusion matrix:')\n",
    "cm=confusion_matrix(y_eff, y_pred_3)\n",
    "print(cm)\n",
    "plt.imshow(cm, cmap=plt.cm.Blues)"
   ]
  },
  {
   "cell_type": "markdown",
   "metadata": {
    "id": "1ZNiqoi0QE0E"
   },
   "source": [
    "Accuracy value is more high. It is possible to observe that the problem is less relevant. We consider this model, our final model. In the following notebook, we consider this model for the demo."
   ]
  }
 ],
 "metadata": {
  "colab": {
   "collapsed_sections": [],
   "name": "Final_model_6.ipynb",
   "provenance": []
  },
  "kernelspec": {
   "display_name": "Python 3",
   "language": "python",
   "name": "python3"
  },
  "language_info": {
   "codemirror_mode": {
    "name": "ipython",
    "version": 3
   },
   "file_extension": ".py",
   "mimetype": "text/x-python",
   "name": "python",
   "nbconvert_exporter": "python",
   "pygments_lexer": "ipython3",
   "version": "3.7.0"
  }
 },
 "nbformat": 4,
 "nbformat_minor": 1
}
