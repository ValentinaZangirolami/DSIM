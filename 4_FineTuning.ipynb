{
 "cells": [
  {
   "cell_type": "markdown",
   "metadata": {
    "id": "4FCh8DELyIAO"
   },
   "source": [
    "**PART 4 - DSIM project**\n",
    "\n",
    "Francesca De Cola, Valentina Moretto, Valentina Zangirolami\n",
    "\n",
    "In this notebook, we focus on neural network. In particular, we have used fine tuning techniques."
   ]
  },
  {
   "cell_type": "markdown",
   "metadata": {
    "id": "YPxVnuVRyIAS"
   },
   "source": [
    "**Load packages**"
   ]
  },
  {
   "cell_type": "code",
   "execution_count": null,
   "metadata": {
    "id": "lhUC8M3VyIAT",
    "outputId": "d3c134b0-3431-41ad-cb52-31a12beb34e4"
   },
   "outputs": [
    {
     "name": "stderr",
     "output_type": "stream",
     "text": [
      "Using TensorFlow backend.\n",
      "C:\\Users\\valen\\Anaconda3\\lib\\site-packages\\tensorflow\\python\\framework\\dtypes.py:516: FutureWarning: Passing (type, 1) or '1type' as a synonym of type is deprecated; in a future version of numpy, it will be understood as (type, (1,)) / '(1,)type'.\n",
      "  _np_qint8 = np.dtype([(\"qint8\", np.int8, 1)])\n",
      "C:\\Users\\valen\\Anaconda3\\lib\\site-packages\\tensorflow\\python\\framework\\dtypes.py:517: FutureWarning: Passing (type, 1) or '1type' as a synonym of type is deprecated; in a future version of numpy, it will be understood as (type, (1,)) / '(1,)type'.\n",
      "  _np_quint8 = np.dtype([(\"quint8\", np.uint8, 1)])\n",
      "C:\\Users\\valen\\Anaconda3\\lib\\site-packages\\tensorflow\\python\\framework\\dtypes.py:518: FutureWarning: Passing (type, 1) or '1type' as a synonym of type is deprecated; in a future version of numpy, it will be understood as (type, (1,)) / '(1,)type'.\n",
      "  _np_qint16 = np.dtype([(\"qint16\", np.int16, 1)])\n",
      "C:\\Users\\valen\\Anaconda3\\lib\\site-packages\\tensorflow\\python\\framework\\dtypes.py:519: FutureWarning: Passing (type, 1) or '1type' as a synonym of type is deprecated; in a future version of numpy, it will be understood as (type, (1,)) / '(1,)type'.\n",
      "  _np_quint16 = np.dtype([(\"quint16\", np.uint16, 1)])\n",
      "C:\\Users\\valen\\Anaconda3\\lib\\site-packages\\tensorflow\\python\\framework\\dtypes.py:520: FutureWarning: Passing (type, 1) or '1type' as a synonym of type is deprecated; in a future version of numpy, it will be understood as (type, (1,)) / '(1,)type'.\n",
      "  _np_qint32 = np.dtype([(\"qint32\", np.int32, 1)])\n",
      "C:\\Users\\valen\\Anaconda3\\lib\\site-packages\\tensorflow\\python\\framework\\dtypes.py:525: FutureWarning: Passing (type, 1) or '1type' as a synonym of type is deprecated; in a future version of numpy, it will be understood as (type, (1,)) / '(1,)type'.\n",
      "  np_resource = np.dtype([(\"resource\", np.ubyte, 1)])\n",
      "C:\\Users\\valen\\Anaconda3\\lib\\site-packages\\tensorboard\\compat\\tensorflow_stub\\dtypes.py:541: FutureWarning: Passing (type, 1) or '1type' as a synonym of type is deprecated; in a future version of numpy, it will be understood as (type, (1,)) / '(1,)type'.\n",
      "  _np_qint8 = np.dtype([(\"qint8\", np.int8, 1)])\n",
      "C:\\Users\\valen\\Anaconda3\\lib\\site-packages\\tensorboard\\compat\\tensorflow_stub\\dtypes.py:542: FutureWarning: Passing (type, 1) or '1type' as a synonym of type is deprecated; in a future version of numpy, it will be understood as (type, (1,)) / '(1,)type'.\n",
      "  _np_quint8 = np.dtype([(\"quint8\", np.uint8, 1)])\n",
      "C:\\Users\\valen\\Anaconda3\\lib\\site-packages\\tensorboard\\compat\\tensorflow_stub\\dtypes.py:543: FutureWarning: Passing (type, 1) or '1type' as a synonym of type is deprecated; in a future version of numpy, it will be understood as (type, (1,)) / '(1,)type'.\n",
      "  _np_qint16 = np.dtype([(\"qint16\", np.int16, 1)])\n",
      "C:\\Users\\valen\\Anaconda3\\lib\\site-packages\\tensorboard\\compat\\tensorflow_stub\\dtypes.py:544: FutureWarning: Passing (type, 1) or '1type' as a synonym of type is deprecated; in a future version of numpy, it will be understood as (type, (1,)) / '(1,)type'.\n",
      "  _np_quint16 = np.dtype([(\"quint16\", np.uint16, 1)])\n",
      "C:\\Users\\valen\\Anaconda3\\lib\\site-packages\\tensorboard\\compat\\tensorflow_stub\\dtypes.py:545: FutureWarning: Passing (type, 1) or '1type' as a synonym of type is deprecated; in a future version of numpy, it will be understood as (type, (1,)) / '(1,)type'.\n",
      "  _np_qint32 = np.dtype([(\"qint32\", np.int32, 1)])\n",
      "C:\\Users\\valen\\Anaconda3\\lib\\site-packages\\tensorboard\\compat\\tensorflow_stub\\dtypes.py:550: FutureWarning: Passing (type, 1) or '1type' as a synonym of type is deprecated; in a future version of numpy, it will be understood as (type, (1,)) / '(1,)type'.\n",
      "  np_resource = np.dtype([(\"resource\", np.ubyte, 1)])\n"
     ]
    }
   ],
   "source": [
    "import numpy as np\n",
    "import glob\n",
    "from PIL import Image\n",
    "import numpy as np\n",
    "import cv2\n",
    "import pandas as pd\n",
    "import seaborn as sns\n",
    "import os\n",
    "import matplotlib.pyplot as plt\n",
    "import cv2 as cv\n",
    "\n",
    "from sklearn.utils import class_weight\n",
    "from keras_vggface.vggface import VGGFace\n",
    "from keras_vggface.utils import preprocess_input\n",
    "from sklearn.preprocessing import LabelEncoder\n",
    "from keras_vggface import utils\n",
    "from keras.preprocessing import image\n",
    "from sklearn.model_selection import train_test_split, StratifiedKFold\n",
    "\n",
    "from keras.utils import to_categorical\n",
    "from keras.layers import Dense, Dropout, Flatten\n",
    "from keras.models import Model, Sequential, load_model\n",
    "from keras.applications.mobilenet_v2 import MobileNetV2, preprocess_input\n",
    "from keras.callbacks import EarlyStopping, ReduceLROnPlateau\n",
    "from keras.callbacks import ModelCheckpoint\n",
    "import keras\n",
    "\n",
    "import tensorflow as tf\n",
    "import random\n",
    "import pickle\n",
    "from keras import regularizers\n",
    "from sklearn.metrics import classification_report, confusion_matrix\n",
    "import random as rnd"
   ]
  },
  {
   "cell_type": "markdown",
   "metadata": {
    "id": "ezVHEXZ2yIAW"
   },
   "source": [
    "**Seed for reproducibility**"
   ]
  },
  {
   "cell_type": "code",
   "execution_count": null,
   "metadata": {
    "id": "gU2LaE5FyIAX"
   },
   "outputs": [],
   "source": [
    "SEED = 42\n",
    "np.random.seed(SEED)\n",
    "random.seed(SEED)\n",
    "tf.compat.v1.set_random_seed(SEED)"
   ]
  },
  {
   "cell_type": "markdown",
   "metadata": {
    "id": "-cb05p7CyIAX"
   },
   "source": [
    "**Load dataset of images**\n",
    "\n",
    "(We create this npz file in 1_creation_dataset.ipynb)"
   ]
  },
  {
   "cell_type": "code",
   "execution_count": null,
   "metadata": {
    "id": "nn_OLD1dyIAY"
   },
   "outputs": [],
   "source": [
    "data=np.load(\"C:/Users/valen/Desktop/magistrale/DSIM/dataset_imgs.npz\")\n",
    "label=data['Y']\n",
    "img=data['X']"
   ]
  },
  {
   "cell_type": "code",
   "execution_count": null,
   "metadata": {
    "id": "tcfmnO5IyIAZ"
   },
   "outputs": [],
   "source": [
    "le = LabelEncoder()\n",
    "label=le.fit_transform(label)"
   ]
  },
  {
   "cell_type": "markdown",
   "metadata": {
    "id": "XNEZY5ixyIAa"
   },
   "source": [
    "This last passage is necessary to transform label to (0,6) classes. "
   ]
  },
  {
   "cell_type": "markdown",
   "metadata": {
    "id": "WFf5SuWVyIAa"
   },
   "source": [
    "**Train-Validation-Test**"
   ]
  },
  {
   "cell_type": "markdown",
   "metadata": {
    "id": "u8Hffu1ByIAb"
   },
   "source": [
    "In this section, we divide dataset in train - validation - test for evaluate neural network."
   ]
  },
  {
   "cell_type": "code",
   "execution_count": null,
   "metadata": {
    "id": "c0NkWbh-yIAb"
   },
   "outputs": [],
   "source": [
    "x_train, x_test, y_train, y_test = train_test_split(img, label, test_size = .2, random_state = SEED, stratify = label)\n",
    "x_train, x_val, y_train, y_val = train_test_split(x_train, y_train, test_size = .2, random_state = SEED, stratify = y_train)"
   ]
  },
  {
   "cell_type": "code",
   "execution_count": null,
   "metadata": {
    "id": "7gLkgbZIyIAc"
   },
   "outputs": [],
   "source": [
    "y_test_eff=y_test\n",
    "y_train=to_categorical(y_train, num_classes=7)\n",
    "y_val=to_categorical(y_val, num_classes=7)\n",
    "y_test=to_categorical(y_test, num_classes=7)"
   ]
  },
  {
   "cell_type": "markdown",
   "metadata": {
    "id": "JCYFqqqXyIAc"
   },
   "source": [
    "Shape for each partition:"
   ]
  },
  {
   "cell_type": "code",
   "execution_count": null,
   "metadata": {
    "id": "088CPl80yIAd",
    "outputId": "0c792571-ebfc-4fcd-86c4-439acc2f516f"
   },
   "outputs": [
    {
     "data": {
      "text/plain": [
       "((1452, 224, 224, 3), (363, 224, 224, 3), (454, 224, 224, 3))"
      ]
     },
     "execution_count": 7,
     "metadata": {
      "tags": []
     },
     "output_type": "execute_result"
    }
   ],
   "source": [
    "x_train.shape, x_val.shape, x_test.shape"
   ]
  },
  {
   "cell_type": "markdown",
   "metadata": {
    "id": "cO07wEHLyIAd"
   },
   "source": [
    "**Data augmentation**"
   ]
  },
  {
   "cell_type": "markdown",
   "metadata": {
    "id": "Wi_KWFBEyIAe"
   },
   "source": [
    "Data augmentation is a technique used to augmented the data and to increment the variation of them. In this case, this method is more useful because the size of training set is very poor. \n",
    "\n",
    "This choice allows us to generalization results (avoid overfitting) and to obtain more consistent result (based on more data).\n",
    "\n",
    "The specification of data augmentation are:\n",
    "\n",
    "* rotation of image with a grade of degree for random rotation equal to 25\n",
    "* variation of brightness into a range (0.5, 1.5), this specification allows to lighten and darken images\n",
    "* shift of images respect on width and height with a fraction equal to 0.3\n",
    "* horizontal flip\n",
    "* Random zoom into a range (0.8, 1.2)\n",
    "\n",
    "We used to preprocess images the function of preprocessing of vggface, this operation can increase performance because our images are treated such as images of vggface and help pretrained neural network to manage new images.\n",
    "\n",
    "Data augmentation is applied only on training set, validation and test set contain only the function to preprocess images."
   ]
  },
  {
   "cell_type": "code",
   "execution_count": null,
   "metadata": {
    "id": "-DIvFL1jyIAf"
   },
   "outputs": [],
   "source": [
    "def train_loader(preproc_function, img, label):\n",
    "    train_gen=tf.keras.preprocessing.image.ImageDataGenerator(preprocessing_function= preproc_function,\n",
    "                                                                rotation_range=25,\n",
    "                                                                brightness_range=(0.5,1.5),\n",
    "                                                                width_shift_range=.3,\n",
    "                                                                height_shift_range=.3,\n",
    "                                                                horizontal_flip=True,\n",
    "                                                                zoom_range=.2)\n",
    "    train_generator=train_gen.flow(x=img, y=label, batch_size=32, seed=SEED)\n",
    "    return train_generator\n",
    "def test_loader(preproc_function, img, label):\n",
    "    test_gen=tf.keras.preprocessing.image.ImageDataGenerator(preprocessing_function= preproc_function)\n",
    "    test_generator=test_gen.flow(x=img, y=label, batch_size=32,  seed=SEED)\n",
    "    return test_generator"
   ]
  },
  {
   "cell_type": "code",
   "execution_count": null,
   "metadata": {
    "id": "qpFO2sHdyIAf"
   },
   "outputs": [],
   "source": [
    "train_generator=train_loader(utils.preprocess_input, x_train, y_train)\n",
    "val_generator=test_loader(utils.preprocess_input, x_val, y_val)\n",
    "test_generator=test_loader(utils.preprocess_input, x_test, y_test)"
   ]
  },
  {
   "cell_type": "markdown",
   "metadata": {
    "id": "Q9R62vujyIAg"
   },
   "source": [
    "Follow step is useful only for predict phase. "
   ]
  },
  {
   "cell_type": "code",
   "execution_count": null,
   "metadata": {
    "id": "AdXVLsnhyIAh"
   },
   "outputs": [],
   "source": [
    "x_test=x_test.astype('float64')\n",
    "x_test = utils.preprocess_input(x_test,version=2)"
   ]
  },
  {
   "cell_type": "markdown",
   "metadata": {
    "id": "yh5dxZkQyIAh"
   },
   "source": [
    "**VGGFACE - FINE TUNING**"
   ]
  },
  {
   "cell_type": "markdown",
   "metadata": {
    "id": "wOkJkTCUyIAh"
   },
   "source": [
    "At first, we create a function *create_base_model* to load VGGFace model and include the operation to render trainable layers from a certain point on."
   ]
  },
  {
   "cell_type": "code",
   "execution_count": null,
   "metadata": {
    "id": "uRNcAsJwyIAi"
   },
   "outputs": [],
   "source": [
    "def create_base_model(name_layer_stop):\n",
    "    base_model = VGGFace(include_top = False, input_shape = (224, 224, 3), model='senet50')\n",
    "\n",
    "    for layer in base_model.layers:\n",
    "        if layer.name == name_layer_stop:\n",
    "            break\n",
    "        else:\n",
    "            layer.trainable = False\n",
    "  \n",
    "    return base_model"
   ]
  },
  {
   "cell_type": "markdown",
   "metadata": {
    "id": "Kg9VQ-RRyIAi"
   },
   "source": [
    "We define the structure fully-connected to added at vggface, with a combination of layers dense and dropout. We choice to unfreeze weights of pretrained network at layer *conv5_1_1x1_reduce* (the structure of vggface is visible in the Classifier.ipynb), that can be allows to use weighs pretrained with the task use to train vggface.\n",
    "\n",
    "Dropout layer allows to avoid overfitting because inhibits randomly input units with a frequency equal to the number specify (in this first case is equal to 0.5).\n",
    "\n",
    "We use adam optimezer with a low value of learning rate (guarantee more stable estimates) and specify accuracy metric to evaluate model.\n",
    "\n",
    "Also, we define three types of callbacks:\n",
    "* ModelCheckpoint, that allows to save the best weights in correspondence to minimum value of validation loss\n",
    "* EarlyStopping, that allows to avoid overfitting and to achieve convergence of alghoritm. It used to stop the train phase when validation loss increas for 6 epochs\n",
    "* ReduceLROnPlateau, it is used to scalar a value of learning rate (in this case: $new\\_lr=0.5*lr$) when validation loss increases for 3 epochs\n",
    "\n",
    "We specify steps_per_epoch, validation_steps and steps (on evaluation phase) with $steps= \\frac{number\\_of\\_images}{batch\\_size}$ (batch_size=32 and number of images refers to number of images for each partition)"
   ]
  },
  {
   "cell_type": "code",
   "execution_count": null,
   "metadata": {
    "id": "0B7v7PekyIAj",
    "outputId": "2ed8f848-bd83-47a3-84c7-71c30ea9cc62"
   },
   "outputs": [
    {
     "name": "stdout",
     "output_type": "stream",
     "text": [
      "WARNING:tensorflow:From C:\\Users\\valen\\AppData\\Roaming\\Python\\Python37\\site-packages\\keras\\backend\\tensorflow_backend.py:74: The name tf.get_default_graph is deprecated. Please use tf.compat.v1.get_default_graph instead.\n",
      "\n",
      "WARNING:tensorflow:From C:\\Users\\valen\\AppData\\Roaming\\Python\\Python37\\site-packages\\keras\\backend\\tensorflow_backend.py:517: The name tf.placeholder is deprecated. Please use tf.compat.v1.placeholder instead.\n",
      "\n",
      "WARNING:tensorflow:From C:\\Users\\valen\\AppData\\Roaming\\Python\\Python37\\site-packages\\keras\\backend\\tensorflow_backend.py:4138: The name tf.random_uniform is deprecated. Please use tf.random.uniform instead.\n",
      "\n",
      "WARNING:tensorflow:From C:\\Users\\valen\\AppData\\Roaming\\Python\\Python37\\site-packages\\keras\\backend\\tensorflow_backend.py:174: The name tf.get_default_session is deprecated. Please use tf.compat.v1.get_default_session instead.\n",
      "\n",
      "WARNING:tensorflow:From C:\\Users\\valen\\AppData\\Roaming\\Python\\Python37\\site-packages\\keras\\backend\\tensorflow_backend.py:181: The name tf.ConfigProto is deprecated. Please use tf.compat.v1.ConfigProto instead.\n",
      "\n",
      "WARNING:tensorflow:From C:\\Users\\valen\\AppData\\Roaming\\Python\\Python37\\site-packages\\keras\\backend\\tensorflow_backend.py:1834: The name tf.nn.fused_batch_norm is deprecated. Please use tf.compat.v1.nn.fused_batch_norm instead.\n",
      "\n",
      "WARNING:tensorflow:From C:\\Users\\valen\\AppData\\Roaming\\Python\\Python37\\site-packages\\keras\\backend\\tensorflow_backend.py:3976: The name tf.nn.max_pool is deprecated. Please use tf.nn.max_pool2d instead.\n",
      "\n",
      "WARNING:tensorflow:From C:\\Users\\valen\\AppData\\Roaming\\Python\\Python37\\site-packages\\keras\\backend\\tensorflow_backend.py:3980: The name tf.nn.avg_pool is deprecated. Please use tf.nn.avg_pool2d instead.\n",
      "\n",
      "WARNING:tensorflow:From C:\\Users\\valen\\AppData\\Roaming\\Python\\Python37\\site-packages\\keras\\backend\\tensorflow_backend.py:3445: calling dropout (from tensorflow.python.ops.nn_ops) with keep_prob is deprecated and will be removed in a future version.\n",
      "Instructions for updating:\n",
      "Please use `rate` instead of `keep_prob`. Rate should be set to `rate = 1 - keep_prob`.\n",
      "WARNING:tensorflow:From C:\\Users\\valen\\AppData\\Roaming\\Python\\Python37\\site-packages\\keras\\optimizers.py:790: The name tf.train.Optimizer is deprecated. Please use tf.compat.v1.train.Optimizer instead.\n",
      "\n",
      "WARNING:tensorflow:From C:\\Users\\valen\\Anaconda3\\lib\\site-packages\\tensorflow\\python\\ops\\math_grad.py:1250: add_dispatch_support.<locals>.wrapper (from tensorflow.python.ops.array_ops) is deprecated and will be removed in a future version.\n",
      "Instructions for updating:\n",
      "Use tf.where in 2.0, which has the same broadcast rule as np.where\n",
      "Epoch 1/100\n",
      "45/45 [==============================] - 99s 2s/step - loss: 3.2362 - acc: 0.2007 - val_loss: 2.6631 - val_acc: 0.3352\n",
      "Epoch 2/100\n",
      "45/45 [==============================] - 93s 2s/step - loss: 1.9907 - acc: 0.2058 - val_loss: 1.4969 - val_acc: 0.4169\n",
      "Epoch 3/100\n",
      "45/45 [==============================] - 93s 2s/step - loss: 1.7895 - acc: 0.3012 - val_loss: 1.4861 - val_acc: 0.4109\n",
      "Epoch 4/100\n",
      "45/45 [==============================] - 93s 2s/step - loss: 1.5481 - acc: 0.4049 - val_loss: 0.9557 - val_acc: 0.7492\n",
      "Epoch 5/100\n",
      "45/45 [==============================] - 93s 2s/step - loss: 1.3197 - acc: 0.5307 - val_loss: 0.7111 - val_acc: 0.7946\n",
      "Epoch 6/100\n",
      "45/45 [==============================] - 93s 2s/step - loss: 1.0858 - acc: 0.6178 - val_loss: 0.4051 - val_acc: 0.8943\n",
      "Epoch 7/100\n",
      "45/45 [==============================] - 93s 2s/step - loss: 1.0615 - acc: 0.6562 - val_loss: 0.7002 - val_acc: 0.7644\n",
      "Epoch 8/100\n",
      "45/45 [==============================] - 93s 2s/step - loss: 0.9993 - acc: 0.6704 - val_loss: 0.3279 - val_acc: 0.8943\n",
      "Epoch 9/100\n",
      "45/45 [==============================] - 93s 2s/step - loss: 0.9013 - acc: 0.7422 - val_loss: 0.3563 - val_acc: 0.8822\n",
      "Epoch 10/100\n",
      "45/45 [==============================] - 93s 2s/step - loss: 0.7974 - acc: 0.7505 - val_loss: 0.5578 - val_acc: 0.8429\n",
      "Epoch 11/100\n",
      "45/45 [==============================] - 93s 2s/step - loss: 0.7662 - acc: 0.7607 - val_loss: 0.6188 - val_acc: 0.8369\n",
      "\n",
      "Epoch 00011: ReduceLROnPlateau reducing learning rate to 4.999999873689376e-05.\n",
      "Epoch 12/100\n",
      "45/45 [==============================] - 93s 2s/step - loss: 0.7110 - acc: 0.7890 - val_loss: 0.3225 - val_acc: 0.9124\n",
      "Epoch 13/100\n",
      "45/45 [==============================] - 94s 2s/step - loss: 0.6148 - acc: 0.8089 - val_loss: 0.3435 - val_acc: 0.9119\n",
      "Epoch 14/100\n",
      "45/45 [==============================] - 93s 2s/step - loss: 0.5623 - acc: 0.8268 - val_loss: 0.3352 - val_acc: 0.9094\n",
      "Epoch 15/100\n",
      "45/45 [==============================] - 94s 2s/step - loss: 0.6114 - acc: 0.8178 - val_loss: 0.3568 - val_acc: 0.9154\n",
      "\n",
      "Epoch 00015: ReduceLROnPlateau reducing learning rate to 2.499999936844688e-05.\n",
      "Epoch 16/100\n",
      "45/45 [==============================] - 94s 2s/step - loss: 0.5068 - acc: 0.8495 - val_loss: 0.1522 - val_acc: 0.9456\n",
      "Epoch 17/100\n",
      "45/45 [==============================] - 94s 2s/step - loss: 0.5205 - acc: 0.8553 - val_loss: 0.2527 - val_acc: 0.9335\n",
      "Epoch 18/100\n",
      "45/45 [==============================] - 93s 2s/step - loss: 0.4605 - acc: 0.8570 - val_loss: 0.2187 - val_acc: 0.9426\n",
      "Epoch 19/100\n",
      "45/45 [==============================] - 94s 2s/step - loss: 0.4190 - acc: 0.8730 - val_loss: 0.2784 - val_acc: 0.9215\n",
      "\n",
      "Epoch 00019: ReduceLROnPlateau reducing learning rate to 1.249999968422344e-05.\n",
      "Epoch 20/100\n",
      "45/45 [==============================] - 93s 2s/step - loss: 0.4568 - acc: 0.8709 - val_loss: 0.2270 - val_acc: 0.9396\n",
      "Epoch 21/100\n",
      "45/45 [==============================] - 94s 2s/step - loss: 0.4177 - acc: 0.8787 - val_loss: 0.1882 - val_acc: 0.9426\n",
      "Epoch 22/100\n",
      "45/45 [==============================] - 94s 2s/step - loss: 0.3788 - acc: 0.8961 - val_loss: 0.1545 - val_acc: 0.9577\n",
      "\n",
      "Epoch 00022: ReduceLROnPlateau reducing learning rate to 1e-05.\n",
      "Epoch 00022: early stopping\n"
     ]
    }
   ],
   "source": [
    "base_model = create_base_model(name_layer_stop = 'conv5_1_1x1_reduce')\n",
    "model = Sequential()\n",
    "model.add(base_model)\n",
    "model.add(Flatten())\n",
    "model.add(Dense(512, activation = 'relu'))\n",
    "model.add(Dropout(.5))\n",
    "model.add(Dense(256, activation = 'relu'))\n",
    "model.add(Dropout(.5))\n",
    "model.add(Dense(128, activation = 'relu'))\n",
    "model.add(Dropout(.5))\n",
    "model.add(Dense(7, activation = 'softmax'))\n",
    "\n",
    "model.compile(optimizer=keras.optimizers.Adam(lr=0.0001), loss='categorical_crossentropy', metrics = ['acc'])\n",
    "   \n",
    "\n",
    "filepath = \"C:/Users/valen/Desktop/magistrale/DSIM/aml/weights-tmp1.best.hdf5\"\n",
    "checkpoint = ModelCheckpoint(filepath, monitor='val_loss', verbose=0, save_best_only=True, mode='min')\n",
    "early= EarlyStopping(monitor='val_loss', patience= 6, mode='min', verbose=1)\n",
    "lr_decay=ReduceLROnPlateau(monitor='val_loss', patience=3, verbose=1, factor=0.5, min_lr=1e-5)\n",
    "\n",
    "history_vggface = model.fit_generator(train_generator, epochs = 100, validation_data = val_generator,\n",
    "                              verbose = 1, callbacks = [checkpoint, early, lr_decay], steps_per_epoch=45, validation_steps=11)"
   ]
  },
  {
   "cell_type": "markdown",
   "metadata": {
    "id": "a_6lhw8yyIAk"
   },
   "source": [
    "After train-validation phase, we test this network on test data to test performance."
   ]
  },
  {
   "cell_type": "code",
   "execution_count": null,
   "metadata": {
    "id": "0vlQcTumyIAk",
    "outputId": "476464b2-e6c7-4232-d0fd-d4e3dc8ee639"
   },
   "outputs": [
    {
     "name": "stdout",
     "output_type": "stream",
     "text": [
      "14/14 [==============================] - 20s 1s/step\n",
      "Test accuracy: 88.393 %\n",
      "Test loss: 0.4521\n"
     ]
    }
   ],
   "source": [
    "model.load_weights(filepath)\n",
    "score = model.evaluate_generator(test_generator, verbose=1, steps=14)\n",
    "accuracy = 100*score[1]\n",
    "loss = score[0]\n",
    "print(\"Test accuracy: {} %\".format(round(accuracy, 3)))\n",
    "print(\"Test loss: {}\".format(round(loss, 4)))"
   ]
  },
  {
   "cell_type": "markdown",
   "metadata": {
    "id": "rIa0iuDgyIAl"
   },
   "source": [
    "Result are very confortable, we try to improve performance increasing complexity but adding, also, weight and bias regularization. Weight regularization can help to balance the trade off bias-variance when model's complexity increase."
   ]
  },
  {
   "cell_type": "code",
   "execution_count": null,
   "metadata": {
    "id": "PSUe36yZyIAl",
    "outputId": "3ccc7631-146b-49b5-bc46-645d8abdbac6"
   },
   "outputs": [
    {
     "name": "stdout",
     "output_type": "stream",
     "text": [
      "Classification report:\n",
      "              precision    recall  f1-score   support\n",
      "\n",
      "           0       0.83      0.92      0.87        64\n",
      "           1       0.92      0.75      0.83        60\n",
      "           2       0.93      0.83      0.87        63\n",
      "           3       0.98      0.95      0.97        64\n",
      "           4       0.94      0.91      0.93        69\n",
      "           5       0.88      0.89      0.88        73\n",
      "           6       0.76      0.93      0.84        61\n",
      "\n",
      "    accuracy                           0.89       454\n",
      "   macro avg       0.89      0.88      0.88       454\n",
      "weighted avg       0.89      0.89      0.89       454\n",
      "\n",
      "Confusion matrix:\n",
      "[[59  3  0  0  0  2  0]\n",
      " [10 45  0  1  0  3  1]\n",
      " [ 0  0 52  0  0  2  9]\n",
      " [ 1  0  0 61  0  0  2]\n",
      " [ 0  0  0  0 63  1  5]\n",
      " [ 1  1  2  0  3 65  1]\n",
      " [ 0  0  2  0  1  1 57]]\n"
     ]
    },
    {
     "data": {
      "text/plain": [
       "<matplotlib.image.AxesImage at 0x21340ff4a58>"
      ]
     },
     "execution_count": 14,
     "metadata": {
      "tags": []
     },
     "output_type": "execute_result"
    },
    {
     "data": {
      "image/png": "[encoded data removed]",
      "text/plain": [
       "<Figure size 432x288 with 1 Axes>"
      ]
     },
     "metadata": {
      "needs_background": "light",
      "tags": []
     },
     "output_type": "display_data"
    }
   ],
   "source": [
    "y_pred=model.predict(x_test)\n",
    "y_pred= np.argmax(y_pred, axis=1)\n",
    "\n",
    "print('Classification report:')\n",
    "print(classification_report(y_test_eff, y_pred))\n",
    "\n",
    "print('Confusion matrix:')\n",
    "cm=confusion_matrix(y_test_eff, y_pred)\n",
    "print(cm)\n",
    "plt.imshow(cm, cmap=plt.cm.Blues)"
   ]
  },
  {
   "cell_type": "markdown",
   "metadata": {
    "id": "yT6VMrn1yIAm"
   },
   "source": [
    "We define a function *model_plot* to plot loss (training set and validation set) and accuracy(training set and validation set)."
   ]
  },
  {
   "cell_type": "code",
   "execution_count": null,
   "metadata": {
    "id": "eUvhMtjoyIAm"
   },
   "outputs": [],
   "source": [
    "def model_plot(model): \n",
    "    plt.figure(figsize=(15,7))\n",
    "    ax1=plt.subplot(121)\n",
    "    plt.xlabel('Epochs')\n",
    "    plt.ylabel('Loss')\n",
    "    ax1.plot(model.history['loss'])\n",
    "    ax1.plot(model.history['val_loss'])\n",
    "    ax1.legend(['Training','Validation'])\n",
    "    \n",
    "    ax2=plt.subplot(122)\n",
    "    plt.xlabel('Epochs')\n",
    "    plt.ylabel('Accuracy')\n",
    "    ax2.plot(model.history['acc'])\n",
    "    ax2.plot(model.history['val_acc'])\n",
    "    ax2.legend(['Training','Validation'], loc='lower right')\n",
    "    plt.show()"
   ]
  },
  {
   "cell_type": "code",
   "execution_count": null,
   "metadata": {
    "id": "YTYsAN6ryIAn",
    "outputId": "aa1361cb-a5ea-4447-e1d4-fb1fb6f1747f"
   },
   "outputs": [
    {
     "data": {
      "image/png": "[encoded data removed]",
      "text/plain": [
       "<Figure size 1080x504 with 2 Axes>"
      ]
     },
     "metadata": {
      "needs_background": "light",
      "tags": []
     },
     "output_type": "display_data"
    }
   ],
   "source": [
    "model_plot(history_vggface)"
   ]
  },
  {
   "cell_type": "markdown",
   "metadata": {
    "id": "g9H_UVLgyIAn"
   },
   "source": [
    "In this two graph we note that loss and accuracy value are more stable in train phase, but in validation set are less stable. This effect diminishes as the epochs increase. Overall accuracy is 89%, but the value of f1 score are not very high for all classes excluding the third and fourth classes.\n",
    "\n",
    "In the follow neural network, we added a bias regularizer that it is used to reduce bias of estimates."
   ]
  },
  {
   "cell_type": "code",
   "execution_count": null,
   "metadata": {
    "id": "dKiTaV1CyIAo",
    "outputId": "6684cb3c-c48b-4250-e1de-ee38247ebe12"
   },
   "outputs": [
    {
     "name": "stdout",
     "output_type": "stream",
     "text": [
      "Epoch 1/100\n",
      "45/45 [==============================] - 98s 2s/step - loss: 3.4507 - acc: 0.1653 - val_loss: 2.6674 - val_acc: 0.1813\n",
      "Epoch 2/100\n",
      "45/45 [==============================] - 95s 2s/step - loss: 2.0362 - acc: 0.1734 - val_loss: 1.7723 - val_acc: 0.4375\n",
      "Epoch 3/100\n",
      "45/45 [==============================] - 96s 2s/step - loss: 1.8302 - acc: 0.2842 - val_loss: 1.5385 - val_acc: 0.5045\n",
      "Epoch 4/100\n",
      "45/45 [==============================] - 95s 2s/step - loss: 1.6565 - acc: 0.3603 - val_loss: 1.1981 - val_acc: 0.7190\n",
      "Epoch 5/100\n",
      "45/45 [==============================] - 94s 2s/step - loss: 1.5223 - acc: 0.4213 - val_loss: 0.9845 - val_acc: 0.7372\n",
      "Epoch 6/100\n",
      "45/45 [==============================] - 94s 2s/step - loss: 1.4561 - acc: 0.4630 - val_loss: 0.8185 - val_acc: 0.8187\n",
      "Epoch 7/100\n",
      "45/45 [==============================] - 94s 2s/step - loss: 1.2057 - acc: 0.5875 - val_loss: 0.7537 - val_acc: 0.7885\n",
      "Epoch 8/100\n",
      "45/45 [==============================] - 94s 2s/step - loss: 1.0907 - acc: 0.6324 - val_loss: 0.6263 - val_acc: 0.8278\n",
      "Epoch 9/100\n",
      "45/45 [==============================] - 94s 2s/step - loss: 0.9254 - acc: 0.7095 - val_loss: 0.4847 - val_acc: 0.8882\n",
      "Epoch 10/100\n",
      "45/45 [==============================] - 94s 2s/step - loss: 1.0314 - acc: 0.6785 - val_loss: 0.6939 - val_acc: 0.7795\n",
      "Epoch 11/100\n",
      "45/45 [==============================] - 94s 2s/step - loss: 0.8297 - acc: 0.7407 - val_loss: 1.0489 - val_acc: 0.7795\n",
      "Epoch 12/100\n",
      "45/45 [==============================] - 94s 2s/step - loss: 0.7729 - acc: 0.7644 - val_loss: 0.3744 - val_acc: 0.8882\n",
      "Epoch 13/100\n",
      "45/45 [==============================] - 94s 2s/step - loss: 0.6948 - acc: 0.7975 - val_loss: 0.3833 - val_acc: 0.9003\n",
      "Epoch 14/100\n",
      "45/45 [==============================] - 95s 2s/step - loss: 0.7742 - acc: 0.7750 - val_loss: 0.6460 - val_acc: 0.8097\n",
      "Epoch 15/100\n",
      "45/45 [==============================] - 94s 2s/step - loss: 0.6464 - acc: 0.8137 - val_loss: 0.4042 - val_acc: 0.8852\n",
      "\n",
      "Epoch 00015: ReduceLROnPlateau reducing learning rate to 4.999999873689376e-05.\n",
      "Epoch 16/100\n",
      "45/45 [==============================] - 95s 2s/step - loss: 0.6051 - acc: 0.8288 - val_loss: 0.3197 - val_acc: 0.9215\n",
      "Epoch 17/100\n",
      "45/45 [==============================] - 96s 2s/step - loss: 0.5011 - acc: 0.8512 - val_loss: 0.3819 - val_acc: 0.8852\n",
      "Epoch 18/100\n",
      "45/45 [==============================] - 96s 2s/step - loss: 0.4534 - acc: 0.8591 - val_loss: 0.2378 - val_acc: 0.9275\n",
      "Epoch 19/100\n",
      "45/45 [==============================] - 95s 2s/step - loss: 0.5201 - acc: 0.8634 - val_loss: 0.3585 - val_acc: 0.9033\n",
      "Epoch 20/100\n",
      "45/45 [==============================] - 95s 2s/step - loss: 0.4411 - acc: 0.8704 - val_loss: 0.4030 - val_acc: 0.8943\n",
      "Epoch 21/100\n",
      "45/45 [==============================] - 96s 2s/step - loss: 0.4279 - acc: 0.8750 - val_loss: 0.3388 - val_acc: 0.9063\n",
      "\n",
      "Epoch 00021: ReduceLROnPlateau reducing learning rate to 2.499999936844688e-05.\n",
      "Epoch 22/100\n",
      "45/45 [==============================] - 96s 2s/step - loss: 0.4075 - acc: 0.8889 - val_loss: 0.3175 - val_acc: 0.9215\n",
      "Epoch 23/100\n",
      "45/45 [==============================] - 96s 2s/step - loss: 0.4209 - acc: 0.8930 - val_loss: 0.2605 - val_acc: 0.9275\n",
      "Epoch 24/100\n",
      "45/45 [==============================] - 95s 2s/step - loss: 0.3496 - acc: 0.9074 - val_loss: 0.3524 - val_acc: 0.9124\n",
      "\n",
      "Epoch 00024: ReduceLROnPlateau reducing learning rate to 1.249999968422344e-05.\n",
      "Epoch 00024: early stopping\n"
     ]
    }
   ],
   "source": [
    "base_model = create_base_model(name_layer_stop = 'conv5_1_1x1_reduce')\n",
    "model2 = Sequential()\n",
    "model2.add(base_model)\n",
    "model2.add(Flatten())\n",
    "model2.add(Dense(512, activation = 'relu', bias_regularizer=regularizers.l1(0.01)))\n",
    "model2.add(Dropout(.5))\n",
    "model2.add(Dense(256, activation = 'relu',bias_regularizer=regularizers.l1(0.01)))\n",
    "model2.add(Dropout(.5))\n",
    "model2.add(Dense(128, activation = 'relu',bias_regularizer=regularizers.l1(0.01)))\n",
    "model2.add(Dropout(.5))\n",
    "model2.add(Dense(7, activation = 'softmax'))\n",
    "\n",
    "model2.compile(optimizer=keras.optimizers.Adam(lr=0.0001), loss='categorical_crossentropy', metrics = ['acc'])\n",
    "   \n",
    "\n",
    "filepath = \"C:/Users/valen/Desktop/magistrale/DSIM/aml/weights-tmp2.best.hdf5\"\n",
    "checkpoint = ModelCheckpoint(filepath, monitor='val_loss', verbose=0, save_best_only=True, mode='min')\n",
    "early= EarlyStopping(monitor='val_loss', patience= 6, mode='min', verbose=1)\n",
    "lr_decay=ReduceLROnPlateau(monitor='val_loss', patience=3, verbose=1, factor=0.5, min_lr=1e-5)\n",
    "\n",
    "history_vggface2 = model2.fit_generator(train_generator, epochs = 100, validation_data = val_generator,\n",
    "                              verbose = 1, callbacks = [checkpoint, early, lr_decay], steps_per_epoch=45, validation_steps=11)"
   ]
  },
  {
   "cell_type": "code",
   "execution_count": null,
   "metadata": {
    "id": "OC11kLXNyIAp",
    "outputId": "59cded6e-1971-4dd6-d3b5-6fbd928eadb9"
   },
   "outputs": [
    {
     "name": "stdout",
     "output_type": "stream",
     "text": [
      "14/14 [==============================] - 19s 1s/step\n",
      "Test accuracy: 88.152 %\n",
      "Test loss: 0.4523\n"
     ]
    }
   ],
   "source": [
    "model2.load_weights(filepath)\n",
    "score = model2.evaluate_generator(test_generator, verbose=1, steps=14)\n",
    "accuracy = 100*score[1]\n",
    "loss = score[0]\n",
    "print(\"Test accuracy: {} %\".format(round(accuracy, 3)))\n",
    "print(\"Test loss: {}\".format(round(loss, 4)))"
   ]
  },
  {
   "cell_type": "code",
   "execution_count": null,
   "metadata": {
    "id": "jC_TZvHKyIAp",
    "outputId": "d3dcc3c2-2762-49f7-ca85-8294ba2b2649"
   },
   "outputs": [
    {
     "name": "stdout",
     "output_type": "stream",
     "text": [
      "Classification report:\n",
      "              precision    recall  f1-score   support\n",
      "\n",
      "           0       0.85      0.94      0.89        64\n",
      "           1       0.85      0.88      0.87        60\n",
      "           2       0.86      0.79      0.83        63\n",
      "           3       0.97      0.97      0.97        64\n",
      "           4       0.95      0.88      0.92        69\n",
      "           5       0.92      0.81      0.86        73\n",
      "           6       0.79      0.92      0.85        61\n",
      "\n",
      "    accuracy                           0.88       454\n",
      "   macro avg       0.88      0.88      0.88       454\n",
      "weighted avg       0.89      0.88      0.88       454\n",
      "\n",
      "Confusion matrix:\n",
      "[[60  3  0  0  0  1  0]\n",
      " [ 7 53  0  0  0  0  0]\n",
      " [ 0  1 50  0  1  2  9]\n",
      " [ 0  1  0 62  0  0  1]\n",
      " [ 1  0  2  0 61  2  3]\n",
      " [ 3  3  5  0  1 59  2]\n",
      " [ 0  1  1  2  1  0 56]]\n"
     ]
    },
    {
     "data": {
      "text/plain": [
       "<matplotlib.image.AxesImage at 0x21385790a90>"
      ]
     },
     "execution_count": 19,
     "metadata": {
      "tags": []
     },
     "output_type": "execute_result"
    },
    {
     "data": {
      "image/png": "[encoded data removed]",
      "text/plain": [
       "<Figure size 432x288 with 1 Axes>"
      ]
     },
     "metadata": {
      "needs_background": "light",
      "tags": []
     },
     "output_type": "display_data"
    }
   ],
   "source": [
    "y_pred2=model2.predict(x_test)\n",
    "y_pred2= np.argmax(y_pred2, axis=1)\n",
    "\n",
    "print('Classification report:')\n",
    "print(classification_report(y_test_eff, y_pred2))\n",
    "\n",
    "print('Confusion matrix:')\n",
    "cm=confusion_matrix(y_test_eff, y_pred2)\n",
    "print(cm)\n",
    "plt.imshow(cm, cmap=plt.cm.Blues)"
   ]
  },
  {
   "cell_type": "code",
   "execution_count": null,
   "metadata": {
    "id": "aPDoXxQtyIAq",
    "outputId": "25be82d8-57d8-4f31-be69-4fb43649df1f"
   },
   "outputs": [
    {
     "data": {
      "image/png": "[encoded data removed]",
      "text/plain": [
       "<Figure size 1080x504 with 2 Axes>"
      ]
     },
     "metadata": {
      "needs_background": "light",
      "tags": []
     },
     "output_type": "display_data"
    }
   ],
   "source": [
    "model_plot(history_vggface2)"
   ]
  },
  {
   "cell_type": "markdown",
   "metadata": {
    "id": "Nm1Z80dgyIAq"
   },
   "source": [
    "With the introduction of bias regularization, performance and stability decrease but it is possible to see that the difference of performance on training set and validation set are more similar that the previous case. We try to maintain this setting with and increase to complexity of the neural network with a larger number of nodes of second layer fully-connected."
   ]
  },
  {
   "cell_type": "code",
   "execution_count": null,
   "metadata": {
    "id": "7Roc77DqyIAr",
    "outputId": "1678d445-3af3-4681-e4b1-6f213dc4b851"
   },
   "outputs": [
    {
     "name": "stdout",
     "output_type": "stream",
     "text": [
      "Epoch 1/100\n",
      "45/45 [==============================] - 102s 2s/step - loss: 3.2404 - acc: 0.1667 - val_loss: 2.4206 - val_acc: 0.1790\n",
      "Epoch 2/100\n",
      "45/45 [==============================] - 97s 2s/step - loss: 2.2249 - acc: 0.1481 - val_loss: 1.9135 - val_acc: 0.2900\n",
      "Epoch 3/100\n",
      "45/45 [==============================] - 97s 2s/step - loss: 1.9672 - acc: 0.1947 - val_loss: 1.8851 - val_acc: 0.3293\n",
      "Epoch 4/100\n",
      "45/45 [==============================] - 97s 2s/step - loss: 1.8385 - acc: 0.2734 - val_loss: 1.6507 - val_acc: 0.5680\n",
      "Epoch 5/100\n",
      "45/45 [==============================] - 97s 2s/step - loss: 1.6184 - acc: 0.3755 - val_loss: 1.2841 - val_acc: 0.5891\n",
      "Epoch 6/100\n",
      "45/45 [==============================] - 97s 2s/step - loss: 1.3741 - acc: 0.4854 - val_loss: 0.9500 - val_acc: 0.7341\n",
      "Epoch 7/100\n",
      "45/45 [==============================] - 97s 2s/step - loss: 1.1918 - acc: 0.5774 - val_loss: 0.4477 - val_acc: 0.9033\n",
      "Epoch 8/100\n",
      "45/45 [==============================] - 97s 2s/step - loss: 1.0038 - acc: 0.6757 - val_loss: 0.5382 - val_acc: 0.8459\n",
      "Epoch 9/100\n",
      "45/45 [==============================] - 97s 2s/step - loss: 0.8969 - acc: 0.7062 - val_loss: 0.3449 - val_acc: 0.8943\n",
      "Epoch 10/100\n",
      "45/45 [==============================] - 97s 2s/step - loss: 0.7917 - acc: 0.7551 - val_loss: 0.5482 - val_acc: 0.8640\n",
      "Epoch 11/100\n",
      "45/45 [==============================] - 97s 2s/step - loss: 0.8759 - acc: 0.7414 - val_loss: 0.3628 - val_acc: 0.8882\n",
      "Epoch 12/100\n",
      "45/45 [==============================] - 97s 2s/step - loss: 0.6955 - acc: 0.7871 - val_loss: 1.1902 - val_acc: 0.7251\n",
      "\n",
      "Epoch 00012: ReduceLROnPlateau reducing learning rate to 4.999999873689376e-05.\n",
      "Epoch 13/100\n",
      "45/45 [==============================] - 99s 2s/step - loss: 0.6355 - acc: 0.8014 - val_loss: 0.3129 - val_acc: 0.9176\n",
      "Epoch 14/100\n",
      "45/45 [==============================] - 98s 2s/step - loss: 0.5702 - acc: 0.8477 - val_loss: 0.5038 - val_acc: 0.8640\n",
      "Epoch 15/100\n",
      "45/45 [==============================] - 98s 2s/step - loss: 0.5062 - acc: 0.8454 - val_loss: 0.2696 - val_acc: 0.9063\n",
      "Epoch 16/100\n",
      "45/45 [==============================] - 98s 2s/step - loss: 0.4862 - acc: 0.8576 - val_loss: 0.3672 - val_acc: 0.9184\n",
      "Epoch 17/100\n",
      "45/45 [==============================] - 98s 2s/step - loss: 0.4953 - acc: 0.8648 - val_loss: 0.2109 - val_acc: 0.9335\n",
      "Epoch 18/100\n",
      "45/45 [==============================] - 98s 2s/step - loss: 0.4807 - acc: 0.8567 - val_loss: 0.3695 - val_acc: 0.8852\n",
      "Epoch 19/100\n",
      "45/45 [==============================] - 98s 2s/step - loss: 0.4536 - acc: 0.8750 - val_loss: 0.3080 - val_acc: 0.9305\n",
      "Epoch 20/100\n",
      "45/45 [==============================] - 97s 2s/step - loss: 0.4194 - acc: 0.8887 - val_loss: 0.2453 - val_acc: 0.9366\n",
      "\n",
      "Epoch 00020: ReduceLROnPlateau reducing learning rate to 2.499999936844688e-05.\n",
      "Epoch 21/100\n",
      "45/45 [==============================] - 98s 2s/step - loss: 0.4021 - acc: 0.8804 - val_loss: 0.1754 - val_acc: 0.9456\n",
      "Epoch 22/100\n",
      "45/45 [==============================] - 98s 2s/step - loss: 0.3487 - acc: 0.8915 - val_loss: 0.1896 - val_acc: 0.9547\n",
      "Epoch 23/100\n",
      "45/45 [==============================] - 99s 2s/step - loss: 0.3618 - acc: 0.8958 - val_loss: 0.2206 - val_acc: 0.9426\n",
      "Epoch 24/100\n",
      "45/45 [==============================] - 98s 2s/step - loss: 0.3213 - acc: 0.9155 - val_loss: 0.1764 - val_acc: 0.9456\n",
      "\n",
      "Epoch 00024: ReduceLROnPlateau reducing learning rate to 1.249999968422344e-05.\n",
      "Epoch 25/100\n",
      "45/45 [==============================] - 99s 2s/step - loss: 0.2970 - acc: 0.9250 - val_loss: 0.1795 - val_acc: 0.9489\n",
      "Epoch 26/100\n",
      "45/45 [==============================] - 98s 2s/step - loss: 0.3236 - acc: 0.9127 - val_loss: 0.1969 - val_acc: 0.9456\n",
      "Epoch 27/100\n",
      "45/45 [==============================] - 98s 2s/step - loss: 0.2502 - acc: 0.9285 - val_loss: 0.1269 - val_acc: 0.9668\n",
      "Epoch 28/100\n",
      "45/45 [==============================] - 98s 2s/step - loss: 0.2938 - acc: 0.9187 - val_loss: 0.2824 - val_acc: 0.9215\n",
      "Epoch 29/100\n",
      "45/45 [==============================] - 98s 2s/step - loss: 0.3212 - acc: 0.9174 - val_loss: 0.1679 - val_acc: 0.9366\n",
      "Epoch 30/100\n",
      "45/45 [==============================] - 97s 2s/step - loss: 0.2468 - acc: 0.9201 - val_loss: 0.1959 - val_acc: 0.9577\n",
      "\n",
      "Epoch 00030: ReduceLROnPlateau reducing learning rate to 1e-05.\n",
      "Epoch 31/100\n",
      "45/45 [==============================] - 98s 2s/step - loss: 0.2609 - acc: 0.9236 - val_loss: 0.2391 - val_acc: 0.9094\n",
      "Epoch 32/100\n",
      "45/45 [==============================] - 98s 2s/step - loss: 0.2606 - acc: 0.9315 - val_loss: 0.1693 - val_acc: 0.9547\n",
      "Epoch 33/100\n",
      "45/45 [==============================] - 98s 2s/step - loss: 0.2841 - acc: 0.9197 - val_loss: 0.2010 - val_acc: 0.9426\n",
      "Epoch 00033: early stopping\n"
     ]
    }
   ],
   "source": [
    "base_model = create_base_model(name_layer_stop = 'conv5_1_1x1_reduce')\n",
    "model3 = Sequential()\n",
    "model3.add(base_model)\n",
    "model3.add(Flatten())\n",
    "model3.add(Dense(512, activation = 'relu', bias_regularizer=regularizers.l1(0.01)))\n",
    "model3.add(Dropout(.5))\n",
    "model3.add(Dense(512, activation = 'relu',bias_regularizer=regularizers.l1(0.01)))\n",
    "model3.add(Dropout(.5))\n",
    "model3.add(Dense(128, activation = 'relu',bias_regularizer=regularizers.l1(0.01)))\n",
    "model3.add(Dropout(.5))\n",
    "model3.add(Dense(7, activation = 'softmax'))\n",
    "\n",
    "model3.compile(optimizer=keras.optimizers.Adam(lr=0.0001), loss='categorical_crossentropy', metrics = ['acc'])\n",
    "   \n",
    "\n",
    "filepath = \"C:/Users/valen/Desktop/magistrale/DSIM/aml/weights-tmp3.best.hdf5\"\n",
    "checkpoint = ModelCheckpoint(filepath, monitor='val_loss', verbose=0, save_best_only=True, mode='min')\n",
    "early= EarlyStopping(monitor='val_loss', patience= 6, mode='min', verbose=1)\n",
    "lr_decay=ReduceLROnPlateau(monitor='val_loss', patience=3, verbose=1, factor=0.5, min_lr=1e-5)\n",
    "\n",
    "history_vggface3 = model3.fit_generator(train_generator, epochs = 100, validation_data = val_generator,\n",
    "                              verbose = 1, callbacks = [checkpoint, early, lr_decay], steps_per_epoch=45, validation_steps=11)"
   ]
  },
  {
   "cell_type": "code",
   "execution_count": null,
   "metadata": {
    "id": "cvQQBRPryIAr",
    "outputId": "2111625a-68e1-490e-ca38-fb819892634e"
   },
   "outputs": [
    {
     "name": "stdout",
     "output_type": "stream",
     "text": [
      "14/14 [==============================] - 19s 1s/step\n",
      "Test accuracy: 89.573 %\n",
      "Test loss: 0.3439\n"
     ]
    }
   ],
   "source": [
    "model3.load_weights(filepath)\n",
    "score = model3.evaluate_generator(test_generator, verbose=1, steps=14)\n",
    "accuracy = 100*score[1]\n",
    "loss = score[0]\n",
    "print(\"Test accuracy: {} %\".format(round(accuracy, 3)))\n",
    "print(\"Test loss: {}\".format(round(loss, 4)))"
   ]
  },
  {
   "cell_type": "code",
   "execution_count": null,
   "metadata": {
    "id": "3gVFSg9UyIAs",
    "outputId": "e8aa1c23-41d4-4623-e0be-e0e4876852c8"
   },
   "outputs": [
    {
     "name": "stdout",
     "output_type": "stream",
     "text": [
      "Classification report:\n",
      "              precision    recall  f1-score   support\n",
      "\n",
      "           0       0.79      0.91      0.85        64\n",
      "           1       0.91      0.83      0.87        60\n",
      "           2       0.88      0.89      0.88        63\n",
      "           3       1.00      0.98      0.99        64\n",
      "           4       0.89      0.93      0.91        69\n",
      "           5       0.91      0.79      0.85        73\n",
      "           6       0.90      0.93      0.92        61\n",
      "\n",
      "    accuracy                           0.89       454\n",
      "   macro avg       0.90      0.90      0.89       454\n",
      "weighted avg       0.90      0.89      0.89       454\n",
      "\n",
      "Confusion matrix:\n",
      "[[58  3  0  0  0  3  0]\n",
      " [10 50  0  0  0  0  0]\n",
      " [ 1  0 56  0  1  0  5]\n",
      " [ 0  0  0 63  0  1  0]\n",
      " [ 0  0  3  0 64  2  0]\n",
      " [ 4  2  3  0  5 58  1]\n",
      " [ 0  0  2  0  2  0 57]]\n"
     ]
    },
    {
     "data": {
      "text/plain": [
       "<matplotlib.image.AxesImage at 0x213bbb31208>"
      ]
     },
     "execution_count": 23,
     "metadata": {
      "tags": []
     },
     "output_type": "execute_result"
    },
    {
     "data": {
      "image/png": "[encoded data removed]",
      "text/plain": [
       "<Figure size 432x288 with 1 Axes>"
      ]
     },
     "metadata": {
      "needs_background": "light",
      "tags": []
     },
     "output_type": "display_data"
    }
   ],
   "source": [
    "y_pred3=model3.predict(x_test)\n",
    "y_pred3= np.argmax(y_pred3, axis=1)\n",
    "\n",
    "print('Classification report:')\n",
    "print(classification_report(y_test_eff, y_pred3))\n",
    "\n",
    "print('Confusion matrix:')\n",
    "cm=confusion_matrix(y_test_eff, y_pred3)\n",
    "print(cm)\n",
    "plt.imshow(cm, cmap=plt.cm.Blues)"
   ]
  },
  {
   "cell_type": "markdown",
   "metadata": {
    "id": "k7024j_byIAs"
   },
   "source": [
    "The difference between the first and the second model are very low, but with increase of complexity increase accuracy."
   ]
  },
  {
   "cell_type": "code",
   "execution_count": null,
   "metadata": {
    "id": "8DJ-5fNnyIAt",
    "outputId": "07ce01a5-9fbe-49bd-8ec1-6117d45a9173"
   },
   "outputs": [
    {
     "data": {
      "image/png": "[encoded data removed]",
      "text/plain": [
       "<Figure size 1080x504 with 2 Axes>"
      ]
     },
     "metadata": {
      "needs_background": "light",
      "tags": []
     },
     "output_type": "display_data"
    }
   ],
   "source": [
    "model_plot(history_vggface3)"
   ]
  },
  {
   "cell_type": "markdown",
   "metadata": {
    "id": "a_yzEcmyyIAt"
   },
   "source": [
    "We obtain same performance of the first case and maintain the advatanges of the second case (less overfitting). The only problem that remains is the less stability. For this reason, we added a weight regularization.\n",
    "\n",
    "We choice L1 weight regularization that can add the cost (associated with having large weights) to the loss function and it is proportional to the absolute value of the weight coefficients.\n",
    "In this case, we choice a parameter of L1 regularization equal to 0.01 that means every coefficients in the weight matrix of the layer will add $0.01 * weight$ to the total loss of the network:\n",
    "\n",
    "$loss= 0.01 * reduce\\_sum(|x|)$"
   ]
  },
  {
   "cell_type": "code",
   "execution_count": null,
   "metadata": {
    "id": "f0-L4i9FyIAu",
    "outputId": "6805b824-9295-4f77-a674-c88636d86864"
   },
   "outputs": [
    {
     "name": "stdout",
     "output_type": "stream",
     "text": [
      "Epoch 1/100\n",
      "45/45 [==============================] - 109s 2s/step - loss: 393.0166 - acc: 0.1646 - val_loss: 375.0984 - val_acc: 0.2205\n",
      "Epoch 2/100\n",
      "45/45 [==============================] - 101s 2s/step - loss: 357.0052 - acc: 0.1891 - val_loss: 337.2206 - val_acc: 0.3897\n",
      "Epoch 3/100\n",
      "45/45 [==============================] - 102s 2s/step - loss: 318.5620 - acc: 0.2704 - val_loss: 298.6381 - val_acc: 0.4830\n",
      "Epoch 4/100\n",
      "45/45 [==============================] - 101s 2s/step - loss: 280.3530 - acc: 0.3884 - val_loss: 260.9344 - val_acc: 0.7221\n",
      "Epoch 5/100\n",
      "45/45 [==============================] - 101s 2s/step - loss: 243.5781 - acc: 0.5435 - val_loss: 225.5263 - val_acc: 0.6707\n",
      "Epoch 6/100\n",
      "45/45 [==============================] - 101s 2s/step - loss: 209.2573 - acc: 0.6362 - val_loss: 192.3928 - val_acc: 0.7221\n",
      "Epoch 7/100\n",
      "45/45 [==============================] - 101s 2s/step - loss: 177.5388 - acc: 0.7384 - val_loss: 162.5208 - val_acc: 0.7039\n",
      "Epoch 8/100\n",
      "45/45 [==============================] - 101s 2s/step - loss: 148.8725 - acc: 0.7703 - val_loss: 135.0218 - val_acc: 0.8822\n",
      "Epoch 9/100\n",
      "45/45 [==============================] - 101s 2s/step - loss: 123.3613 - acc: 0.7826 - val_loss: 111.3627 - val_acc: 0.8036\n",
      "Epoch 10/100\n",
      "45/45 [==============================] - 101s 2s/step - loss: 101.0571 - acc: 0.8268 - val_loss: 90.5607 - val_acc: 0.8943\n",
      "Epoch 11/100\n",
      "45/45 [==============================] - 101s 2s/step - loss: 82.2165 - acc: 0.8260 - val_loss: 73.6073 - val_acc: 0.8852\n",
      "Epoch 12/100\n",
      "45/45 [==============================] - 101s 2s/step - loss: 66.7877 - acc: 0.8530 - val_loss: 59.8721 - val_acc: 0.9003\n",
      "Epoch 13/100\n",
      "45/45 [==============================] - 101s 2s/step - loss: 54.6004 - acc: 0.8485 - val_loss: 48.9231 - val_acc: 0.9366\n",
      "Epoch 14/100\n",
      "45/45 [==============================] - 101s 2s/step - loss: 44.8710 - acc: 0.8706 - val_loss: 40.3928 - val_acc: 0.9305\n",
      "Epoch 15/100\n",
      "45/45 [==============================] - 102s 2s/step - loss: 37.1544 - acc: 0.8630 - val_loss: 33.4490 - val_acc: 0.9006\n",
      "Epoch 16/100\n",
      "45/45 [==============================] - 101s 2s/step - loss: 30.8748 - acc: 0.8616 - val_loss: 27.7263 - val_acc: 0.9275\n",
      "Epoch 17/100\n",
      "45/45 [==============================] - 101s 2s/step - loss: 25.7012 - acc: 0.8655 - val_loss: 23.1718 - val_acc: 0.9094\n",
      "Epoch 18/100\n",
      "45/45 [==============================] - 101s 2s/step - loss: 21.4455 - acc: 0.8784 - val_loss: 19.2348 - val_acc: 0.9003\n",
      "Epoch 19/100\n",
      "45/45 [==============================] - 101s 2s/step - loss: 17.9515 - acc: 0.8824 - val_loss: 16.0503 - val_acc: 0.9245\n",
      "Epoch 20/100\n",
      "45/45 [==============================] - 101s 2s/step - loss: 15.0506 - acc: 0.8845 - val_loss: 13.5124 - val_acc: 0.8943\n",
      "Epoch 21/100\n",
      "45/45 [==============================] - 101s 2s/step - loss: 12.6373 - acc: 0.8720 - val_loss: 11.3314 - val_acc: 0.8912\n",
      "Epoch 22/100\n",
      "45/45 [==============================] - 101s 2s/step - loss: 10.6772 - acc: 0.8882 - val_loss: 9.4305 - val_acc: 0.9396\n",
      "Epoch 23/100\n",
      "45/45 [==============================] - 101s 2s/step - loss: 9.0453 - acc: 0.9009 - val_loss: 8.0501 - val_acc: 0.9003\n",
      "Epoch 24/100\n",
      "45/45 [==============================] - 101s 2s/step - loss: 7.7413 - acc: 0.8660 - val_loss: 6.8500 - val_acc: 0.9003\n",
      "Epoch 25/100\n",
      "45/45 [==============================] - 101s 2s/step - loss: 6.6108 - acc: 0.8845 - val_loss: 5.8635 - val_acc: 0.9033\n",
      "Epoch 26/100\n",
      "45/45 [==============================] - 101s 2s/step - loss: 5.7479 - acc: 0.8753 - val_loss: 4.9978 - val_acc: 0.9275\n",
      "Epoch 27/100\n",
      "45/45 [==============================] - 102s 2s/step - loss: 5.0036 - acc: 0.8848 - val_loss: 4.3492 - val_acc: 0.9318\n",
      "Epoch 28/100\n",
      "45/45 [==============================] - 101s 2s/step - loss: 4.4292 - acc: 0.8563 - val_loss: 3.9261 - val_acc: 0.8701\n",
      "Epoch 29/100\n",
      "45/45 [==============================] - 101s 2s/step - loss: 3.9834 - acc: 0.8546 - val_loss: 3.3932 - val_acc: 0.9094\n",
      "Epoch 30/100\n",
      "45/45 [==============================] - 101s 2s/step - loss: 3.5622 - acc: 0.8817 - val_loss: 3.1042 - val_acc: 0.8973\n",
      "Epoch 31/100\n",
      "45/45 [==============================] - 101s 2s/step - loss: 3.2880 - acc: 0.8614 - val_loss: 2.7653 - val_acc: 0.9305\n",
      "Epoch 32/100\n",
      "45/45 [==============================] - 101s 2s/step - loss: 2.9883 - acc: 0.8755 - val_loss: 2.5797 - val_acc: 0.8852\n",
      "Epoch 33/100\n",
      "45/45 [==============================] - 101s 2s/step - loss: 2.7803 - acc: 0.8725 - val_loss: 2.3097 - val_acc: 0.9245\n",
      "Epoch 34/100\n",
      "45/45 [==============================] - 101s 2s/step - loss: 2.6419 - acc: 0.8552 - val_loss: 2.3240 - val_acc: 0.8973\n",
      "Epoch 35/100\n",
      "45/45 [==============================] - 101s 2s/step - loss: 2.4679 - acc: 0.8799 - val_loss: 2.1076 - val_acc: 0.9184\n",
      "Epoch 36/100\n",
      "45/45 [==============================] - 101s 2s/step - loss: 2.4174 - acc: 0.8562 - val_loss: 2.0658 - val_acc: 0.8731\n",
      "Epoch 37/100\n",
      "45/45 [==============================] - 101s 2s/step - loss: 2.3139 - acc: 0.8478 - val_loss: 2.0362 - val_acc: 0.8610\n",
      "Epoch 38/100\n",
      "45/45 [==============================] - 101s 2s/step - loss: 2.2150 - acc: 0.8743 - val_loss: 1.9292 - val_acc: 0.8580\n",
      "Epoch 39/100\n",
      "45/45 [==============================] - 102s 2s/step - loss: 2.0846 - acc: 0.8905 - val_loss: 1.7416 - val_acc: 0.9318\n",
      "Epoch 40/100\n",
      "45/45 [==============================] - 101s 2s/step - loss: 2.0853 - acc: 0.8605 - val_loss: 1.8605 - val_acc: 0.8580\n",
      "Epoch 41/100\n",
      "45/45 [==============================] - 101s 2s/step - loss: 2.0453 - acc: 0.8517 - val_loss: 1.6732 - val_acc: 0.9003\n",
      "Epoch 42/100\n",
      "45/45 [==============================] - 101s 2s/step - loss: 1.9768 - acc: 0.8637 - val_loss: 1.5833 - val_acc: 0.9305\n",
      "Epoch 43/100\n",
      "45/45 [==============================] - 101s 2s/step - loss: 1.9163 - acc: 0.8789 - val_loss: 1.7261 - val_acc: 0.8761\n",
      "Epoch 44/100\n",
      "45/45 [==============================] - 102s 2s/step - loss: 1.9057 - acc: 0.8787 - val_loss: 1.6465 - val_acc: 0.8943\n",
      "Epoch 45/100\n",
      "45/45 [==============================] - 101s 2s/step - loss: 1.8797 - acc: 0.8648 - val_loss: 1.4957 - val_acc: 0.9184\n",
      "Epoch 46/100\n",
      "45/45 [==============================] - 101s 2s/step - loss: 1.8543 - acc: 0.8784 - val_loss: 1.5588 - val_acc: 0.8912\n",
      "Epoch 47/100\n",
      "45/45 [==============================] - 102s 2s/step - loss: 1.7875 - acc: 0.8722 - val_loss: 1.4917 - val_acc: 0.9215\n",
      "Epoch 48/100\n",
      "45/45 [==============================] - 101s 2s/step - loss: 1.7508 - acc: 0.8831 - val_loss: 1.5783 - val_acc: 0.8822\n",
      "Epoch 49/100\n",
      "45/45 [==============================] - 101s 2s/step - loss: 1.7407 - acc: 0.8815 - val_loss: 1.3749 - val_acc: 0.9517\n",
      "Epoch 50/100\n",
      "45/45 [==============================] - 101s 2s/step - loss: 1.7704 - acc: 0.8834 - val_loss: 1.5017 - val_acc: 0.9094\n",
      "Epoch 51/100\n",
      "45/45 [==============================] - 102s 2s/step - loss: 1.7763 - acc: 0.8815 - val_loss: 1.4181 - val_acc: 0.9261\n",
      "Epoch 52/100\n",
      "45/45 [==============================] - 101s 2s/step - loss: 1.7420 - acc: 0.8759 - val_loss: 1.4685 - val_acc: 0.9184\n",
      "\n",
      "Epoch 00052: ReduceLROnPlateau reducing learning rate to 4.999999873689376e-05.\n",
      "Epoch 53/100\n",
      "45/45 [==============================] - 103s 2s/step - loss: 1.6212 - acc: 0.8916 - val_loss: 1.3321 - val_acc: 0.9215\n",
      "Epoch 54/100\n",
      "45/45 [==============================] - 103s 2s/step - loss: 1.5906 - acc: 0.8947 - val_loss: 1.2489 - val_acc: 0.9426\n",
      "Epoch 55/100\n",
      "45/45 [==============================] - 102s 2s/step - loss: 1.6079 - acc: 0.8933 - val_loss: 1.2974 - val_acc: 0.9275\n",
      "Epoch 56/100\n",
      "45/45 [==============================] - 102s 2s/step - loss: 1.5725 - acc: 0.9060 - val_loss: 1.3154 - val_acc: 0.9154\n",
      "Epoch 57/100\n",
      "45/45 [==============================] - 103s 2s/step - loss: 1.5919 - acc: 0.8963 - val_loss: 1.3664 - val_acc: 0.9003\n",
      "\n",
      "Epoch 00057: ReduceLROnPlateau reducing learning rate to 2.499999936844688e-05.\n",
      "Epoch 58/100\n",
      "45/45 [==============================] - 103s 2s/step - loss: 1.5220 - acc: 0.9033 - val_loss: 1.2312 - val_acc: 0.9275\n",
      "Epoch 59/100\n",
      "45/45 [==============================] - 103s 2s/step - loss: 1.4632 - acc: 0.9120 - val_loss: 1.2061 - val_acc: 0.9607\n",
      "Epoch 60/100\n",
      "45/45 [==============================] - 103s 2s/step - loss: 1.4852 - acc: 0.9130 - val_loss: 1.2490 - val_acc: 0.9335\n"
     ]
    },
    {
     "name": "stdout",
     "output_type": "stream",
     "text": [
      "Epoch 61/100\n",
      "45/45 [==============================] - 102s 2s/step - loss: 1.4848 - acc: 0.9063 - val_loss: 1.2060 - val_acc: 0.9486\n",
      "Epoch 62/100\n",
      "45/45 [==============================] - 103s 2s/step - loss: 1.5718 - acc: 0.8855 - val_loss: 1.2241 - val_acc: 0.9366\n",
      "Epoch 63/100\n",
      "45/45 [==============================] - 103s 2s/step - loss: 1.4964 - acc: 0.9155 - val_loss: 1.2349 - val_acc: 0.9261\n",
      "Epoch 64/100\n",
      "45/45 [==============================] - 102s 2s/step - loss: 1.4987 - acc: 0.9088 - val_loss: 1.2076 - val_acc: 0.9396\n",
      "\n",
      "Epoch 00064: ReduceLROnPlateau reducing learning rate to 1.249999968422344e-05.\n",
      "Epoch 65/100\n",
      "45/45 [==============================] - 103s 2s/step - loss: 1.4473 - acc: 0.9218 - val_loss: 1.2212 - val_acc: 0.9305\n",
      "Epoch 66/100\n",
      "45/45 [==============================] - 103s 2s/step - loss: 1.4198 - acc: 0.9294 - val_loss: 1.1588 - val_acc: 0.9426\n",
      "Epoch 67/100\n",
      "45/45 [==============================] - 102s 2s/step - loss: 1.4422 - acc: 0.9167 - val_loss: 1.1685 - val_acc: 0.9668\n",
      "Epoch 68/100\n",
      "45/45 [==============================] - 103s 2s/step - loss: 1.4151 - acc: 0.9181 - val_loss: 1.2467 - val_acc: 0.9215\n",
      "Epoch 69/100\n",
      "45/45 [==============================] - 103s 2s/step - loss: 1.3819 - acc: 0.9408 - val_loss: 1.1558 - val_acc: 0.9486\n",
      "Epoch 70/100\n",
      "45/45 [==============================] - 102s 2s/step - loss: 1.4008 - acc: 0.9250 - val_loss: 1.1392 - val_acc: 0.9637\n",
      "Epoch 71/100\n",
      "45/45 [==============================] - 103s 2s/step - loss: 1.4218 - acc: 0.9257 - val_loss: 1.1730 - val_acc: 0.9456\n",
      "Epoch 72/100\n",
      "45/45 [==============================] - 102s 2s/step - loss: 1.4162 - acc: 0.9218 - val_loss: 1.2100 - val_acc: 0.9456\n",
      "Epoch 73/100\n",
      "45/45 [==============================] - 102s 2s/step - loss: 1.3939 - acc: 0.9315 - val_loss: 1.1286 - val_acc: 0.9698\n",
      "Epoch 74/100\n",
      "45/45 [==============================] - 103s 2s/step - loss: 1.4266 - acc: 0.9155 - val_loss: 1.1893 - val_acc: 0.9396\n",
      "Epoch 75/100\n",
      "45/45 [==============================] - 103s 2s/step - loss: 1.4469 - acc: 0.9234 - val_loss: 1.1785 - val_acc: 0.9517\n",
      "Epoch 76/100\n",
      "45/45 [==============================] - 103s 2s/step - loss: 1.4068 - acc: 0.9250 - val_loss: 1.1493 - val_acc: 0.9607\n",
      "\n",
      "Epoch 00076: ReduceLROnPlateau reducing learning rate to 1e-05.\n",
      "Epoch 77/100\n",
      "45/45 [==============================] - 103s 2s/step - loss: 1.4153 - acc: 0.9232 - val_loss: 1.1626 - val_acc: 0.9517\n",
      "Epoch 78/100\n",
      "45/45 [==============================] - 102s 2s/step - loss: 1.3774 - acc: 0.9232 - val_loss: 1.1786 - val_acc: 0.9366\n",
      "Epoch 79/100\n",
      "45/45 [==============================] - 103s 2s/step - loss: 1.3860 - acc: 0.9278 - val_loss: 1.1861 - val_acc: 0.9486\n",
      "Epoch 00079: early stopping\n"
     ]
    }
   ],
   "source": [
    "base_model = create_base_model(name_layer_stop = 'conv5_1_1x1_reduce')\n",
    "model4 = Sequential()\n",
    "model4.add(base_model)\n",
    "model4.add(Flatten())\n",
    "model4.add(Dense(512, activation = 'relu', bias_regularizer=regularizers.l1(0.01), kernel_regularizer=regularizers.l1(0.01)))\n",
    "model4.add(Dropout(.5))\n",
    "model4.add(Dense(512, activation = 'relu',bias_regularizer=regularizers.l1(0.01), kernel_regularizer=regularizers.l1(0.01)))\n",
    "model4.add(Dropout(.5))\n",
    "model4.add(Dense(216, activation = 'relu',bias_regularizer=regularizers.l1(0.01), kernel_regularizer=regularizers.l1(0.01)))\n",
    "model4.add(Dropout(.5))\n",
    "model4.add(Dense(7, activation = 'softmax'))\n",
    "\n",
    "model4.compile(optimizer=keras.optimizers.Adam(lr=0.0001), loss='categorical_crossentropy', metrics = ['acc'])\n",
    "   \n",
    "\n",
    "filepath = \"C:/Users/valen/Desktop/magistrale/DSIM/aml/weights-tmp4.best.hdf5\"\n",
    "checkpoint = ModelCheckpoint(filepath, monitor='val_loss', verbose=0, save_best_only=True, mode='min')\n",
    "early= EarlyStopping(monitor='val_loss', patience= 6, mode='min', verbose=1)\n",
    "lr_decay=ReduceLROnPlateau(monitor='val_loss', patience=3, verbose=1, factor=0.5, min_lr=1e-5)\n",
    "\n",
    "history_vggface4 = model4.fit_generator(train_generator, epochs = 100, validation_data = val_generator,\n",
    "                              verbose = 1, callbacks = [checkpoint, early, lr_decay], steps_per_epoch=45, validation_steps=11)"
   ]
  },
  {
   "cell_type": "code",
   "execution_count": null,
   "metadata": {
    "id": "BAGczO9CyIAu",
    "outputId": "e6046073-11ad-426b-b8fa-5177604c066d"
   },
   "outputs": [
    {
     "name": "stdout",
     "output_type": "stream",
     "text": [
      "14/14 [==============================] - 20s 1s/step\n",
      "Test accuracy: 90.848 %\n",
      "Test loss: 1.3003\n"
     ]
    }
   ],
   "source": [
    "model4.load_weights(filepath)\n",
    "score = model4.evaluate_generator(test_generator, verbose=1, steps=14)\n",
    "accuracy = 100*score[1]\n",
    "loss = score[0]\n",
    "print(\"Test accuracy: {} %\".format(round(accuracy, 3)))\n",
    "print(\"Test loss: {}\".format(round(loss, 4)))"
   ]
  },
  {
   "cell_type": "code",
   "execution_count": null,
   "metadata": {
    "id": "jKHB-PsXyIAv",
    "outputId": "48a43637-756c-4adb-a329-7504cb6a3951"
   },
   "outputs": [
    {
     "name": "stdout",
     "output_type": "stream",
     "text": [
      "Classification report:\n",
      "              precision    recall  f1-score   support\n",
      "\n",
      "           0       0.82      0.95      0.88        64\n",
      "           1       0.94      0.78      0.85        60\n",
      "           2       0.92      0.89      0.90        63\n",
      "           3       1.00      1.00      1.00        64\n",
      "           4       0.92      0.94      0.93        69\n",
      "           5       0.91      0.85      0.88        73\n",
      "           6       0.89      0.97      0.93        61\n",
      "\n",
      "    accuracy                           0.91       454\n",
      "   macro avg       0.91      0.91      0.91       454\n",
      "weighted avg       0.91      0.91      0.91       454\n",
      "\n",
      "Confusion matrix:\n",
      "[[61  2  0  0  0  1  0]\n",
      " [ 9 47  1  0  0  3  0]\n",
      " [ 1  0 56  0  1  1  4]\n",
      " [ 0  0  0 64  0  0  0]\n",
      " [ 0  0  1  0 65  1  2]\n",
      " [ 2  1  3  0  4 62  1]\n",
      " [ 1  0  0  0  1  0 59]]\n"
     ]
    },
    {
     "data": {
      "text/plain": [
       "<matplotlib.image.AxesImage at 0x213c14fcba8>"
      ]
     },
     "execution_count": 27,
     "metadata": {
      "tags": []
     },
     "output_type": "execute_result"
    },
    {
     "data": {
      "image/png": "[encoded data removed]",
      "text/plain": [
       "<Figure size 432x288 with 1 Axes>"
      ]
     },
     "metadata": {
      "needs_background": "light",
      "tags": []
     },
     "output_type": "display_data"
    }
   ],
   "source": [
    "y_pred4=model4.predict(x_test)\n",
    "y_pred4= np.argmax(y_pred4, axis=1)\n",
    "\n",
    "print('Classification report:')\n",
    "print(classification_report(y_test_eff, y_pred4))\n",
    "\n",
    "print('Confusion matrix:')\n",
    "cm=confusion_matrix(y_test_eff, y_pred4)\n",
    "print(cm)\n",
    "plt.imshow(cm, cmap=plt.cm.Blues)"
   ]
  },
  {
   "cell_type": "code",
   "execution_count": null,
   "metadata": {
    "id": "pv4f3fEtyIAv",
    "outputId": "66797284-e58c-4c8f-f5f4-2818d0a11d78"
   },
   "outputs": [
    {
     "data": {
      "image/png": "[encoded data removed]",
      "text/plain": [
       "<Figure size 1080x504 with 2 Axes>"
      ]
     },
     "metadata": {
      "needs_background": "light",
      "tags": []
     },
     "output_type": "display_data"
    }
   ],
   "source": [
    "model_plot(history_vggface4)"
   ]
  },
  {
   "cell_type": "markdown",
   "metadata": {
    "id": "g6f18VmEyIAw"
   },
   "source": [
    "The value of accuracy increase. On the other side, we note that values of loss function are very stable (even too much) and values of accuracy are more instable than other case. "
   ]
  }
 ],
 "metadata": {
  "colab": {
   "collapsed_sections": [],
   "name": "FineTuning-4.ipynb",
   "provenance": []
  },
  "kernelspec": {
   "display_name": "Python 3",
   "language": "python",
   "name": "python3"
  },
  "language_info": {
   "codemirror_mode": {
    "name": "ipython",
    "version": 3
   },
   "file_extension": ".py",
   "mimetype": "text/x-python",
   "name": "python",
   "nbconvert_exporter": "python",
   "pygments_lexer": "ipython3",
   "version": "3.7.0"
  }
 },
 "nbformat": 4,
 "nbformat_minor": 1
}
