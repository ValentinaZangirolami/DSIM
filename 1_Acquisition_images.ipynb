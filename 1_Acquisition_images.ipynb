{
 "cells": [
  {
   "cell_type": "markdown",
   "metadata": {
    "id": "-TfF9uL3g0KC"
   },
   "source": [
    "**PART 1 - Acquisition image and cropping**\n",
    "\n",
    "Francesca De Cola (Data Science), Valentina Moretto (Data Science), Valentina Zangirolami (CLAMSES)"
   ]
  },
  {
   "cell_type": "markdown",
   "metadata": {
    "id": "aPQmeg--g0KT"
   },
   "source": [
    "**Import packages**"
   ]
  },
  {
   "cell_type": "code",
   "execution_count": null,
   "metadata": {
    "id": "GgMYdq9lg0KZ",
    "outputId": "c0a13c41-7b71-4326-eeab-ef60672ff81a"
   },
   "outputs": [
    {
     "name": "stdout",
     "output_type": "stream",
     "text": [
      "Requirement already satisfied: matplotlib in c:\\programdata\\anaconda3\\lib\\site-packages (3.3.4)\n",
      "Requirement already satisfied: pyparsing!=2.0.4,!=2.1.2,!=2.1.6,>=2.0.3 in c:\\programdata\\anaconda3\\lib\\site-packages (from matplotlib) (2.4.7)\n",
      "Requirement already satisfied: python-dateutil>=2.1 in c:\\programdata\\anaconda3\\lib\\site-packages (from matplotlib) (2.8.1)\n",
      "Requirement already satisfied: pillow>=6.2.0 in c:\\programdata\\anaconda3\\lib\\site-packages (from matplotlib) (8.2.0)\n",
      "Requirement already satisfied: cycler>=0.10 in c:\\programdata\\anaconda3\\lib\\site-packages (from matplotlib) (0.10.0)\n",
      "Requirement already satisfied: numpy>=1.15 in c:\\programdata\\anaconda3\\lib\\site-packages (from matplotlib) (1.20.1)\n",
      "Requirement already satisfied: kiwisolver>=1.0.1 in c:\\programdata\\anaconda3\\lib\\site-packages (from matplotlib) (1.3.1)\n",
      "Requirement already satisfied: six in c:\\programdata\\anaconda3\\lib\\site-packages (from cycler>=0.10->matplotlib) (1.15.0)\n",
      "Collecting opencv-python\n",
      "  Downloading opencv_python-4.5.2.52-cp38-cp38-win_amd64.whl (34.7 MB)\n",
      "Requirement already satisfied: numpy>=1.17.3 in c:\\programdata\\anaconda3\\lib\\site-packages (from opencv-python) (1.20.1)\n",
      "Installing collected packages: opencv-python\n",
      "Successfully installed opencv-python-4.5.2.52\n"
     ]
    }
   ],
   "source": [
    "import sys\n",
    "#!{sys.executable} -m pip install matplotlib\n",
    "#!{sys.executable} -m pip install opencv-python"
   ]
  },
  {
   "cell_type": "code",
   "execution_count": null,
   "metadata": {
    "id": "YMStcB-Mg0Ki",
    "outputId": "15d15277-8f22-4228-a882-6c352e23ff17"
   },
   "outputs": [
    {
     "name": "stdout",
     "output_type": "stream",
     "text": [
      "Requirement already satisfied: numpy==1.19.3 in c:\\users\\valen\\appdata\\roaming\\python\\python38\\site-packages (1.19.3)\n"
     ]
    }
   ],
   "source": [
    "import sys\n",
    "#!{sys.executable} -m pip install --user numpy==1.19.3"
   ]
  },
  {
   "cell_type": "code",
   "execution_count": null,
   "metadata": {
    "id": "Za4t2X-6g0Km"
   },
   "outputs": [],
   "source": [
    "import numpy as np\n",
    "import cv2 as cv\n",
    "from cv2 import VideoCapture as cap\n",
    "import matplotlib.pyplot as plt\n",
    "from skimage import io\n",
    "import os\n",
    "import math\n",
    "import time"
   ]
  },
  {
   "cell_type": "markdown",
   "metadata": {
    "id": "q081hPDKg0Kp"
   },
   "source": [
    "We define a function *detection_face* for cropping images with size (224, 224).\n",
    "\n",
    "We used a model *CascadeClassifier* (packages opencv) for detect face for efficiently eliminating image outlines focus our image only on faces."
   ]
  },
  {
   "cell_type": "code",
   "execution_count": null,
   "metadata": {
    "id": "RmjoE4Ldg0Ks"
   },
   "outputs": [],
   "source": [
    "def detection_face(directory1, directory2,size = (224, 224), color = \"RGB\"):\n",
    "    # Load model to detect frontal faces\n",
    "    face_detector = cv.CascadeClassifier(cv.data.haarcascades + 'haarcascade_frontalface_default.xml') \n",
    "    # variable for count errors\n",
    "    f = 1\n",
    "    err_noimg = 0\n",
    "    \n",
    "    for filename in os.listdir(directory1):\n",
    "        # check for load only jpg and tiff images extension\n",
    "        if filename.endswith(\".jpg\") or filename.endswith(\".tiff\"):\n",
    "             # load image          \n",
    "            img = cv.imread(os.path.join(directory1, filename))\n",
    "            # conversion of image, this passage is necessary to pass images on face detector\n",
    "            img_gray = cv.cvtColor(img, cv.COLOR_RGB2GRAY)\n",
    "            faces = face_detector.detectMultiScale(img_gray)\n",
    "            if len(faces) == 1:\n",
    "                for (x, y, w, h) in faces:\n",
    "                    # cut images on bases of segmentation of face detector\n",
    "                    roi_color = img[y:y+h, x:x+w]\n",
    "                    # resize of image\n",
    "                    re_img = cv.resize(roi_color, size)\n",
    "                    \n",
    "                    # save image\n",
    "                    if color == \"RGB\":\n",
    "                        cv.imwrite(os.path.join(directory2, str(f))+\"_rrgb.jpg\", re_img)\n",
    "                        f += 1\n",
    "                    elif color == \"BW\":\n",
    "                        cv.imwrite(os.path.join(directory2, str(f))+\"_bw.jpg\", cv.cvtColor(re_img, cv.COLOR_RGB2GRAY))\n",
    "                        f += 1\n",
    "            # if detector not found face adding an error and delete image          \n",
    "            else:\n",
    "                err_noimg += 1 \n",
    "                try:\n",
    "                    # delete image \n",
    "                    del faces, re_img\n",
    "                # necessary for eventually crash code\n",
    "                except:\n",
    "                    pass\n",
    "    # output          \n",
    "    print('Created {}/{} images cropped'.format(f-1, f+err_noimg-1))"
   ]
  },
  {
   "cell_type": "markdown",
   "metadata": {
    "id": "M4fux94kg0Kw"
   },
   "source": [
    "The function *acquisition_cam* allows us to acquire images from our webcam. We construct a loop to acquire images whose time between one photo and another is define by *time_sleep*. We limit the loop, and therefore the number of image acquisition, with a parameter *counter_limit*. "
   ]
  },
  {
   "cell_type": "code",
   "execution_count": null,
   "metadata": {
    "id": "DS0kLPMsg0Kz"
   },
   "outputs": [],
   "source": [
    "def acquisition_cam(directory, subject, init_number, counter_limit, time_sleep = 2, numbered = False):\n",
    "    \n",
    "    #camera assignment\n",
    "    cam = cv.VideoCapture(0)\n",
    "    \n",
    "    #variables for count \n",
    "    img_counter = init_number\n",
    "    counter = 1\n",
    "    \n",
    "    # loop for sequentially image acquisition\n",
    "    while True:\n",
    "        #Capture frame-by-frame\n",
    "        ret, frame = cam.read()\n",
    "        #riproduce frame on window \n",
    "        frame=process_frame(frame)\n",
    "        cv.imshow('video',frame)\n",
    "        \n",
    "        # if it not works, interrupts loop\n",
    "        if not ret:\n",
    "            break\n",
    "        k = cv.waitKey(1)\n",
    "        \n",
    "        #time.sleep is used to set the time between acquisition \n",
    "        time.sleep(time_sleep)\n",
    "\n",
    "        # q to exit from webcam\n",
    "        if cv.waitKey(20) & 0xFF == ord('q'):\n",
    "            print(\"Escape hit, closing...\")\n",
    "            break\n",
    "\n",
    "        # phase to save the frame\n",
    "        else:\n",
    "            #define name frame\n",
    "            img_name = \"{}{} ({}).jpg\".format(directory, subject, img_counter)\n",
    "            # save file\n",
    "            cv.imwrite(img_name, frame)\n",
    "            print(\"{} written!\".format(img_name))\n",
    "            # count for number images\n",
    "            img_counter += 1\n",
    "            \n",
    "            #define the number of acquisition (limit to acquisition), i.e. number of total images acquisition\n",
    "            if numbered:\n",
    "                if counter == counter_limit:\n",
    "                    print(\"Counter limit reached:{}\".format(counter_limit))\n",
    "                    break\n",
    "                counter+=1\n",
    "\n",
    "    # close cam and window cam\n",
    "    cam.release()\n",
    "    cv.destroyAllWindows()"
   ]
  },
  {
   "cell_type": "code",
   "execution_count": null,
   "metadata": {
    "id": "2uDpdrvyg0K4"
   },
   "outputs": [],
   "source": [
    "def process_frame(img):\n",
    "    return img"
   ]
  },
  {
   "cell_type": "markdown",
   "metadata": {
    "id": "_6tckhr8g0K6"
   },
   "source": [
    "**IMAGES ACQUISITION**"
   ]
  },
  {
   "cell_type": "markdown",
   "metadata": {
    "id": "Hzf6RhmFg0K-"
   },
   "source": [
    "In this section, we collect 110 images for each label (emotions) and for each member of the group."
   ]
  },
  {
   "cell_type": "code",
   "execution_count": null,
   "metadata": {
    "id": "wCbhDGKHg0K-",
    "outputId": "df5f388a-37e3-469e-fc02-a76655e6b998"
   },
   "outputs": [
    {
     "name": "stdout",
     "output_type": "stream",
     "text": [
      "C:/Users/valen/OneDrive/Pictures/img_prova/happy/happy (0).jpg written!\n",
      "C:/Users/valen/OneDrive/Pictures/img_prova/happy/happy (1).jpg written!\n",
      "C:/Users/valen/OneDrive/Pictures/img_prova/happy/happy (2).jpg written!\n",
      "C:/Users/valen/OneDrive/Pictures/img_prova/happy/happy (3).jpg written!\n",
      "C:/Users/valen/OneDrive/Pictures/img_prova/happy/happy (4).jpg written!\n",
      "C:/Users/valen/OneDrive/Pictures/img_prova/happy/happy (5).jpg written!\n",
      "C:/Users/valen/OneDrive/Pictures/img_prova/happy/happy (6).jpg written!\n",
      "C:/Users/valen/OneDrive/Pictures/img_prova/happy/happy (7).jpg written!\n",
      "C:/Users/valen/OneDrive/Pictures/img_prova/happy/happy (8).jpg written!\n",
      "C:/Users/valen/OneDrive/Pictures/img_prova/happy/happy (9).jpg written!\n",
      "C:/Users/valen/OneDrive/Pictures/img_prova/happy/happy (10).jpg written!\n",
      "C:/Users/valen/OneDrive/Pictures/img_prova/happy/happy (11).jpg written!\n",
      "C:/Users/valen/OneDrive/Pictures/img_prova/happy/happy (12).jpg written!\n",
      "C:/Users/valen/OneDrive/Pictures/img_prova/happy/happy (13).jpg written!\n",
      "C:/Users/valen/OneDrive/Pictures/img_prova/happy/happy (14).jpg written!\n",
      "C:/Users/valen/OneDrive/Pictures/img_prova/happy/happy (15).jpg written!\n",
      "C:/Users/valen/OneDrive/Pictures/img_prova/happy/happy (16).jpg written!\n",
      "C:/Users/valen/OneDrive/Pictures/img_prova/happy/happy (17).jpg written!\n",
      "C:/Users/valen/OneDrive/Pictures/img_prova/happy/happy (18).jpg written!\n",
      "C:/Users/valen/OneDrive/Pictures/img_prova/happy/happy (19).jpg written!\n",
      "C:/Users/valen/OneDrive/Pictures/img_prova/happy/happy (20).jpg written!\n",
      "C:/Users/valen/OneDrive/Pictures/img_prova/happy/happy (21).jpg written!\n",
      "C:/Users/valen/OneDrive/Pictures/img_prova/happy/happy (22).jpg written!\n",
      "C:/Users/valen/OneDrive/Pictures/img_prova/happy/happy (23).jpg written!\n",
      "C:/Users/valen/OneDrive/Pictures/img_prova/happy/happy (24).jpg written!\n",
      "C:/Users/valen/OneDrive/Pictures/img_prova/happy/happy (25).jpg written!\n",
      "C:/Users/valen/OneDrive/Pictures/img_prova/happy/happy (26).jpg written!\n",
      "C:/Users/valen/OneDrive/Pictures/img_prova/happy/happy (27).jpg written!\n",
      "C:/Users/valen/OneDrive/Pictures/img_prova/happy/happy (28).jpg written!\n",
      "C:/Users/valen/OneDrive/Pictures/img_prova/happy/happy (29).jpg written!\n",
      "C:/Users/valen/OneDrive/Pictures/img_prova/happy/happy (30).jpg written!\n",
      "C:/Users/valen/OneDrive/Pictures/img_prova/happy/happy (31).jpg written!\n",
      "C:/Users/valen/OneDrive/Pictures/img_prova/happy/happy (32).jpg written!\n",
      "C:/Users/valen/OneDrive/Pictures/img_prova/happy/happy (33).jpg written!\n",
      "C:/Users/valen/OneDrive/Pictures/img_prova/happy/happy (34).jpg written!\n",
      "C:/Users/valen/OneDrive/Pictures/img_prova/happy/happy (35).jpg written!\n",
      "C:/Users/valen/OneDrive/Pictures/img_prova/happy/happy (36).jpg written!\n",
      "C:/Users/valen/OneDrive/Pictures/img_prova/happy/happy (37).jpg written!\n",
      "C:/Users/valen/OneDrive/Pictures/img_prova/happy/happy (38).jpg written!\n",
      "C:/Users/valen/OneDrive/Pictures/img_prova/happy/happy (39).jpg written!\n",
      "C:/Users/valen/OneDrive/Pictures/img_prova/happy/happy (40).jpg written!\n",
      "C:/Users/valen/OneDrive/Pictures/img_prova/happy/happy (41).jpg written!\n",
      "C:/Users/valen/OneDrive/Pictures/img_prova/happy/happy (42).jpg written!\n",
      "C:/Users/valen/OneDrive/Pictures/img_prova/happy/happy (43).jpg written!\n",
      "C:/Users/valen/OneDrive/Pictures/img_prova/happy/happy (44).jpg written!\n",
      "C:/Users/valen/OneDrive/Pictures/img_prova/happy/happy (45).jpg written!\n",
      "C:/Users/valen/OneDrive/Pictures/img_prova/happy/happy (46).jpg written!\n",
      "C:/Users/valen/OneDrive/Pictures/img_prova/happy/happy (47).jpg written!\n",
      "C:/Users/valen/OneDrive/Pictures/img_prova/happy/happy (48).jpg written!\n",
      "C:/Users/valen/OneDrive/Pictures/img_prova/happy/happy (49).jpg written!\n",
      "C:/Users/valen/OneDrive/Pictures/img_prova/happy/happy (50).jpg written!\n",
      "C:/Users/valen/OneDrive/Pictures/img_prova/happy/happy (51).jpg written!\n",
      "C:/Users/valen/OneDrive/Pictures/img_prova/happy/happy (52).jpg written!\n",
      "C:/Users/valen/OneDrive/Pictures/img_prova/happy/happy (53).jpg written!\n",
      "C:/Users/valen/OneDrive/Pictures/img_prova/happy/happy (54).jpg written!\n",
      "C:/Users/valen/OneDrive/Pictures/img_prova/happy/happy (55).jpg written!\n",
      "C:/Users/valen/OneDrive/Pictures/img_prova/happy/happy (56).jpg written!\n",
      "C:/Users/valen/OneDrive/Pictures/img_prova/happy/happy (57).jpg written!\n",
      "C:/Users/valen/OneDrive/Pictures/img_prova/happy/happy (58).jpg written!\n",
      "C:/Users/valen/OneDrive/Pictures/img_prova/happy/happy (59).jpg written!\n",
      "C:/Users/valen/OneDrive/Pictures/img_prova/happy/happy (60).jpg written!\n",
      "C:/Users/valen/OneDrive/Pictures/img_prova/happy/happy (61).jpg written!\n",
      "C:/Users/valen/OneDrive/Pictures/img_prova/happy/happy (62).jpg written!\n",
      "C:/Users/valen/OneDrive/Pictures/img_prova/happy/happy (63).jpg written!\n",
      "C:/Users/valen/OneDrive/Pictures/img_prova/happy/happy (64).jpg written!\n",
      "C:/Users/valen/OneDrive/Pictures/img_prova/happy/happy (65).jpg written!\n",
      "C:/Users/valen/OneDrive/Pictures/img_prova/happy/happy (66).jpg written!\n",
      "C:/Users/valen/OneDrive/Pictures/img_prova/happy/happy (67).jpg written!\n",
      "C:/Users/valen/OneDrive/Pictures/img_prova/happy/happy (68).jpg written!\n",
      "C:/Users/valen/OneDrive/Pictures/img_prova/happy/happy (69).jpg written!\n",
      "C:/Users/valen/OneDrive/Pictures/img_prova/happy/happy (70).jpg written!\n",
      "C:/Users/valen/OneDrive/Pictures/img_prova/happy/happy (71).jpg written!\n",
      "C:/Users/valen/OneDrive/Pictures/img_prova/happy/happy (72).jpg written!\n",
      "C:/Users/valen/OneDrive/Pictures/img_prova/happy/happy (73).jpg written!\n",
      "C:/Users/valen/OneDrive/Pictures/img_prova/happy/happy (74).jpg written!\n",
      "C:/Users/valen/OneDrive/Pictures/img_prova/happy/happy (75).jpg written!\n",
      "C:/Users/valen/OneDrive/Pictures/img_prova/happy/happy (76).jpg written!\n",
      "C:/Users/valen/OneDrive/Pictures/img_prova/happy/happy (77).jpg written!\n",
      "C:/Users/valen/OneDrive/Pictures/img_prova/happy/happy (78).jpg written!\n",
      "C:/Users/valen/OneDrive/Pictures/img_prova/happy/happy (79).jpg written!\n",
      "C:/Users/valen/OneDrive/Pictures/img_prova/happy/happy (80).jpg written!\n",
      "C:/Users/valen/OneDrive/Pictures/img_prova/happy/happy (81).jpg written!\n",
      "C:/Users/valen/OneDrive/Pictures/img_prova/happy/happy (82).jpg written!\n",
      "C:/Users/valen/OneDrive/Pictures/img_prova/happy/happy (83).jpg written!\n",
      "C:/Users/valen/OneDrive/Pictures/img_prova/happy/happy (84).jpg written!\n",
      "C:/Users/valen/OneDrive/Pictures/img_prova/happy/happy (85).jpg written!\n",
      "C:/Users/valen/OneDrive/Pictures/img_prova/happy/happy (86).jpg written!\n",
      "C:/Users/valen/OneDrive/Pictures/img_prova/happy/happy (87).jpg written!\n",
      "C:/Users/valen/OneDrive/Pictures/img_prova/happy/happy (88).jpg written!\n",
      "C:/Users/valen/OneDrive/Pictures/img_prova/happy/happy (89).jpg written!\n",
      "C:/Users/valen/OneDrive/Pictures/img_prova/happy/happy (90).jpg written!\n",
      "C:/Users/valen/OneDrive/Pictures/img_prova/happy/happy (91).jpg written!\n",
      "C:/Users/valen/OneDrive/Pictures/img_prova/happy/happy (92).jpg written!\n",
      "C:/Users/valen/OneDrive/Pictures/img_prova/happy/happy (93).jpg written!\n",
      "C:/Users/valen/OneDrive/Pictures/img_prova/happy/happy (94).jpg written!\n",
      "C:/Users/valen/OneDrive/Pictures/img_prova/happy/happy (95).jpg written!\n",
      "C:/Users/valen/OneDrive/Pictures/img_prova/happy/happy (96).jpg written!\n",
      "C:/Users/valen/OneDrive/Pictures/img_prova/happy/happy (97).jpg written!\n",
      "C:/Users/valen/OneDrive/Pictures/img_prova/happy/happy (98).jpg written!\n",
      "C:/Users/valen/OneDrive/Pictures/img_prova/happy/happy (99).jpg written!\n",
      "C:/Users/valen/OneDrive/Pictures/img_prova/happy/happy (100).jpg written!\n",
      "C:/Users/valen/OneDrive/Pictures/img_prova/happy/happy (101).jpg written!\n",
      "C:/Users/valen/OneDrive/Pictures/img_prova/happy/happy (102).jpg written!\n",
      "C:/Users/valen/OneDrive/Pictures/img_prova/happy/happy (103).jpg written!\n",
      "C:/Users/valen/OneDrive/Pictures/img_prova/happy/happy (104).jpg written!\n",
      "C:/Users/valen/OneDrive/Pictures/img_prova/happy/happy (105).jpg written!\n",
      "C:/Users/valen/OneDrive/Pictures/img_prova/happy/happy (106).jpg written!\n",
      "C:/Users/valen/OneDrive/Pictures/img_prova/happy/happy (107).jpg written!\n",
      "C:/Users/valen/OneDrive/Pictures/img_prova/happy/happy (108).jpg written!\n",
      "C:/Users/valen/OneDrive/Pictures/img_prova/happy/happy (109).jpg written!\n",
      "Counter limit reached:110\n"
     ]
    }
   ],
   "source": [
    "from_directory=(\"C:/Users/valen/OneDrive/Pictures/img_prova/happy/\")\n",
    "acquisition_cam(directory = from_directory, subject = \"happy\", init_number = 0, counter_limit = 110, time_sleep = 0.5, numbered = True)"
   ]
  },
  {
   "cell_type": "code",
   "execution_count": null,
   "metadata": {
    "id": "Xd3M2960g0LD",
    "outputId": "21dd1e69-dc32-4882-c5b6-c45b8bcaf84b"
   },
   "outputs": [
    {
     "name": "stdout",
     "output_type": "stream",
     "text": [
      "Created 91/110 images cropped\n"
     ]
    }
   ],
   "source": [
    "directory2=(\"C:/Users/valen/OneDrive/Pictures/vale/happy/\")\n",
    "from_directory=(\"C:/Users/valen/OneDrive/Pictures/img_prova/happy/\")\n",
    "detection_face(directory1=from_directory, directory2=directory2)"
   ]
  },
  {
   "cell_type": "code",
   "execution_count": null,
   "metadata": {
    "id": "KB63gf3ag0LG",
    "outputId": "526658ca-ead7-4e8c-f0d8-c6e1d6f12e17"
   },
   "outputs": [
    {
     "name": "stdout",
     "output_type": "stream",
     "text": [
      "C:/Users/valen/OneDrive/Pictures/img_prova/sad/sad (0).jpg written!\n",
      "C:/Users/valen/OneDrive/Pictures/img_prova/sad/sad (1).jpg written!\n",
      "C:/Users/valen/OneDrive/Pictures/img_prova/sad/sad (2).jpg written!\n",
      "C:/Users/valen/OneDrive/Pictures/img_prova/sad/sad (3).jpg written!\n",
      "C:/Users/valen/OneDrive/Pictures/img_prova/sad/sad (4).jpg written!\n",
      "C:/Users/valen/OneDrive/Pictures/img_prova/sad/sad (5).jpg written!\n",
      "C:/Users/valen/OneDrive/Pictures/img_prova/sad/sad (6).jpg written!\n",
      "C:/Users/valen/OneDrive/Pictures/img_prova/sad/sad (7).jpg written!\n",
      "C:/Users/valen/OneDrive/Pictures/img_prova/sad/sad (8).jpg written!\n",
      "C:/Users/valen/OneDrive/Pictures/img_prova/sad/sad (9).jpg written!\n",
      "C:/Users/valen/OneDrive/Pictures/img_prova/sad/sad (10).jpg written!\n",
      "C:/Users/valen/OneDrive/Pictures/img_prova/sad/sad (11).jpg written!\n",
      "C:/Users/valen/OneDrive/Pictures/img_prova/sad/sad (12).jpg written!\n",
      "C:/Users/valen/OneDrive/Pictures/img_prova/sad/sad (13).jpg written!\n",
      "C:/Users/valen/OneDrive/Pictures/img_prova/sad/sad (14).jpg written!\n",
      "C:/Users/valen/OneDrive/Pictures/img_prova/sad/sad (15).jpg written!\n",
      "C:/Users/valen/OneDrive/Pictures/img_prova/sad/sad (16).jpg written!\n",
      "C:/Users/valen/OneDrive/Pictures/img_prova/sad/sad (17).jpg written!\n",
      "C:/Users/valen/OneDrive/Pictures/img_prova/sad/sad (18).jpg written!\n",
      "C:/Users/valen/OneDrive/Pictures/img_prova/sad/sad (19).jpg written!\n",
      "C:/Users/valen/OneDrive/Pictures/img_prova/sad/sad (20).jpg written!\n",
      "C:/Users/valen/OneDrive/Pictures/img_prova/sad/sad (21).jpg written!\n",
      "C:/Users/valen/OneDrive/Pictures/img_prova/sad/sad (22).jpg written!\n",
      "C:/Users/valen/OneDrive/Pictures/img_prova/sad/sad (23).jpg written!\n",
      "C:/Users/valen/OneDrive/Pictures/img_prova/sad/sad (24).jpg written!\n",
      "C:/Users/valen/OneDrive/Pictures/img_prova/sad/sad (25).jpg written!\n",
      "C:/Users/valen/OneDrive/Pictures/img_prova/sad/sad (26).jpg written!\n",
      "C:/Users/valen/OneDrive/Pictures/img_prova/sad/sad (27).jpg written!\n",
      "C:/Users/valen/OneDrive/Pictures/img_prova/sad/sad (28).jpg written!\n",
      "C:/Users/valen/OneDrive/Pictures/img_prova/sad/sad (29).jpg written!\n",
      "C:/Users/valen/OneDrive/Pictures/img_prova/sad/sad (30).jpg written!\n",
      "C:/Users/valen/OneDrive/Pictures/img_prova/sad/sad (31).jpg written!\n",
      "C:/Users/valen/OneDrive/Pictures/img_prova/sad/sad (32).jpg written!\n",
      "C:/Users/valen/OneDrive/Pictures/img_prova/sad/sad (33).jpg written!\n",
      "C:/Users/valen/OneDrive/Pictures/img_prova/sad/sad (34).jpg written!\n",
      "C:/Users/valen/OneDrive/Pictures/img_prova/sad/sad (35).jpg written!\n",
      "C:/Users/valen/OneDrive/Pictures/img_prova/sad/sad (36).jpg written!\n",
      "C:/Users/valen/OneDrive/Pictures/img_prova/sad/sad (37).jpg written!\n",
      "C:/Users/valen/OneDrive/Pictures/img_prova/sad/sad (38).jpg written!\n",
      "C:/Users/valen/OneDrive/Pictures/img_prova/sad/sad (39).jpg written!\n",
      "C:/Users/valen/OneDrive/Pictures/img_prova/sad/sad (40).jpg written!\n",
      "C:/Users/valen/OneDrive/Pictures/img_prova/sad/sad (41).jpg written!\n",
      "C:/Users/valen/OneDrive/Pictures/img_prova/sad/sad (42).jpg written!\n",
      "C:/Users/valen/OneDrive/Pictures/img_prova/sad/sad (43).jpg written!\n",
      "C:/Users/valen/OneDrive/Pictures/img_prova/sad/sad (44).jpg written!\n",
      "C:/Users/valen/OneDrive/Pictures/img_prova/sad/sad (45).jpg written!\n",
      "C:/Users/valen/OneDrive/Pictures/img_prova/sad/sad (46).jpg written!\n",
      "C:/Users/valen/OneDrive/Pictures/img_prova/sad/sad (47).jpg written!\n",
      "C:/Users/valen/OneDrive/Pictures/img_prova/sad/sad (48).jpg written!\n",
      "C:/Users/valen/OneDrive/Pictures/img_prova/sad/sad (49).jpg written!\n",
      "C:/Users/valen/OneDrive/Pictures/img_prova/sad/sad (50).jpg written!\n",
      "C:/Users/valen/OneDrive/Pictures/img_prova/sad/sad (51).jpg written!\n",
      "C:/Users/valen/OneDrive/Pictures/img_prova/sad/sad (52).jpg written!\n",
      "C:/Users/valen/OneDrive/Pictures/img_prova/sad/sad (53).jpg written!\n",
      "C:/Users/valen/OneDrive/Pictures/img_prova/sad/sad (54).jpg written!\n",
      "C:/Users/valen/OneDrive/Pictures/img_prova/sad/sad (55).jpg written!\n",
      "C:/Users/valen/OneDrive/Pictures/img_prova/sad/sad (56).jpg written!\n",
      "C:/Users/valen/OneDrive/Pictures/img_prova/sad/sad (57).jpg written!\n",
      "C:/Users/valen/OneDrive/Pictures/img_prova/sad/sad (58).jpg written!\n",
      "C:/Users/valen/OneDrive/Pictures/img_prova/sad/sad (59).jpg written!\n",
      "C:/Users/valen/OneDrive/Pictures/img_prova/sad/sad (60).jpg written!\n",
      "C:/Users/valen/OneDrive/Pictures/img_prova/sad/sad (61).jpg written!\n",
      "C:/Users/valen/OneDrive/Pictures/img_prova/sad/sad (62).jpg written!\n",
      "C:/Users/valen/OneDrive/Pictures/img_prova/sad/sad (63).jpg written!\n",
      "C:/Users/valen/OneDrive/Pictures/img_prova/sad/sad (64).jpg written!\n",
      "C:/Users/valen/OneDrive/Pictures/img_prova/sad/sad (65).jpg written!\n",
      "C:/Users/valen/OneDrive/Pictures/img_prova/sad/sad (66).jpg written!\n",
      "C:/Users/valen/OneDrive/Pictures/img_prova/sad/sad (67).jpg written!\n",
      "C:/Users/valen/OneDrive/Pictures/img_prova/sad/sad (68).jpg written!\n",
      "C:/Users/valen/OneDrive/Pictures/img_prova/sad/sad (69).jpg written!\n",
      "C:/Users/valen/OneDrive/Pictures/img_prova/sad/sad (70).jpg written!\n",
      "C:/Users/valen/OneDrive/Pictures/img_prova/sad/sad (71).jpg written!\n",
      "C:/Users/valen/OneDrive/Pictures/img_prova/sad/sad (72).jpg written!\n",
      "C:/Users/valen/OneDrive/Pictures/img_prova/sad/sad (73).jpg written!\n",
      "C:/Users/valen/OneDrive/Pictures/img_prova/sad/sad (74).jpg written!\n",
      "C:/Users/valen/OneDrive/Pictures/img_prova/sad/sad (75).jpg written!\n",
      "C:/Users/valen/OneDrive/Pictures/img_prova/sad/sad (76).jpg written!\n",
      "C:/Users/valen/OneDrive/Pictures/img_prova/sad/sad (77).jpg written!\n",
      "C:/Users/valen/OneDrive/Pictures/img_prova/sad/sad (78).jpg written!\n",
      "C:/Users/valen/OneDrive/Pictures/img_prova/sad/sad (79).jpg written!\n",
      "C:/Users/valen/OneDrive/Pictures/img_prova/sad/sad (80).jpg written!\n",
      "C:/Users/valen/OneDrive/Pictures/img_prova/sad/sad (81).jpg written!\n",
      "C:/Users/valen/OneDrive/Pictures/img_prova/sad/sad (82).jpg written!\n",
      "C:/Users/valen/OneDrive/Pictures/img_prova/sad/sad (83).jpg written!\n",
      "C:/Users/valen/OneDrive/Pictures/img_prova/sad/sad (84).jpg written!\n",
      "C:/Users/valen/OneDrive/Pictures/img_prova/sad/sad (85).jpg written!\n",
      "C:/Users/valen/OneDrive/Pictures/img_prova/sad/sad (86).jpg written!\n",
      "C:/Users/valen/OneDrive/Pictures/img_prova/sad/sad (87).jpg written!\n",
      "C:/Users/valen/OneDrive/Pictures/img_prova/sad/sad (88).jpg written!\n",
      "C:/Users/valen/OneDrive/Pictures/img_prova/sad/sad (89).jpg written!\n",
      "C:/Users/valen/OneDrive/Pictures/img_prova/sad/sad (90).jpg written!\n",
      "C:/Users/valen/OneDrive/Pictures/img_prova/sad/sad (91).jpg written!\n",
      "C:/Users/valen/OneDrive/Pictures/img_prova/sad/sad (92).jpg written!\n",
      "C:/Users/valen/OneDrive/Pictures/img_prova/sad/sad (93).jpg written!\n",
      "C:/Users/valen/OneDrive/Pictures/img_prova/sad/sad (94).jpg written!\n",
      "C:/Users/valen/OneDrive/Pictures/img_prova/sad/sad (95).jpg written!\n",
      "C:/Users/valen/OneDrive/Pictures/img_prova/sad/sad (96).jpg written!\n",
      "C:/Users/valen/OneDrive/Pictures/img_prova/sad/sad (97).jpg written!\n",
      "C:/Users/valen/OneDrive/Pictures/img_prova/sad/sad (98).jpg written!\n",
      "C:/Users/valen/OneDrive/Pictures/img_prova/sad/sad (99).jpg written!\n",
      "C:/Users/valen/OneDrive/Pictures/img_prova/sad/sad (100).jpg written!\n",
      "C:/Users/valen/OneDrive/Pictures/img_prova/sad/sad (101).jpg written!\n",
      "C:/Users/valen/OneDrive/Pictures/img_prova/sad/sad (102).jpg written!\n",
      "C:/Users/valen/OneDrive/Pictures/img_prova/sad/sad (103).jpg written!\n",
      "C:/Users/valen/OneDrive/Pictures/img_prova/sad/sad (104).jpg written!\n",
      "C:/Users/valen/OneDrive/Pictures/img_prova/sad/sad (105).jpg written!\n",
      "C:/Users/valen/OneDrive/Pictures/img_prova/sad/sad (106).jpg written!\n",
      "C:/Users/valen/OneDrive/Pictures/img_prova/sad/sad (107).jpg written!\n",
      "C:/Users/valen/OneDrive/Pictures/img_prova/sad/sad (108).jpg written!\n",
      "C:/Users/valen/OneDrive/Pictures/img_prova/sad/sad (109).jpg written!\n",
      "Counter limit reached:110\n"
     ]
    }
   ],
   "source": [
    "from_directory=(\"C:/Users/valen/OneDrive/Pictures/img_prova/sad/\")\n",
    "acquisition_cam(directory = from_directory, subject = \"sad\", init_number = 0, counter_limit = 110, time_sleep = 0.5, numbered = True)"
   ]
  },
  {
   "cell_type": "code",
   "execution_count": null,
   "metadata": {
    "id": "AqrOpR68g0LI",
    "outputId": "fe23c55e-f4af-4ad4-9bee-731ecff363b8"
   },
   "outputs": [
    {
     "name": "stdout",
     "output_type": "stream",
     "text": [
      "Created 105/110 images cropped\n"
     ]
    }
   ],
   "source": [
    "directory2=(\"C:/Users/valen/OneDrive/Pictures/vale/sad/\")\n",
    "from_directory=(\"C:/Users/valen/OneDrive/Pictures/img_prova/sad/\")\n",
    "detection_face(directory1=from_directory, directory2=directory2)"
   ]
  },
  {
   "cell_type": "code",
   "execution_count": null,
   "metadata": {
    "id": "CwvNEKcIg0LK",
    "outputId": "d62b39d9-af0d-475d-ebc0-e15ff93bcfbc"
   },
   "outputs": [
    {
     "name": "stdout",
     "output_type": "stream",
     "text": [
      "C:/Users/valen/OneDrive/Pictures/img_prova/surprise/surprise (0).jpg written!\n",
      "C:/Users/valen/OneDrive/Pictures/img_prova/surprise/surprise (1).jpg written!\n",
      "C:/Users/valen/OneDrive/Pictures/img_prova/surprise/surprise (2).jpg written!\n",
      "C:/Users/valen/OneDrive/Pictures/img_prova/surprise/surprise (3).jpg written!\n",
      "C:/Users/valen/OneDrive/Pictures/img_prova/surprise/surprise (4).jpg written!\n",
      "C:/Users/valen/OneDrive/Pictures/img_prova/surprise/surprise (5).jpg written!\n",
      "C:/Users/valen/OneDrive/Pictures/img_prova/surprise/surprise (6).jpg written!\n",
      "C:/Users/valen/OneDrive/Pictures/img_prova/surprise/surprise (7).jpg written!\n",
      "C:/Users/valen/OneDrive/Pictures/img_prova/surprise/surprise (8).jpg written!\n",
      "C:/Users/valen/OneDrive/Pictures/img_prova/surprise/surprise (9).jpg written!\n",
      "C:/Users/valen/OneDrive/Pictures/img_prova/surprise/surprise (10).jpg written!\n",
      "C:/Users/valen/OneDrive/Pictures/img_prova/surprise/surprise (11).jpg written!\n",
      "C:/Users/valen/OneDrive/Pictures/img_prova/surprise/surprise (12).jpg written!\n",
      "C:/Users/valen/OneDrive/Pictures/img_prova/surprise/surprise (13).jpg written!\n",
      "C:/Users/valen/OneDrive/Pictures/img_prova/surprise/surprise (14).jpg written!\n",
      "C:/Users/valen/OneDrive/Pictures/img_prova/surprise/surprise (15).jpg written!\n",
      "C:/Users/valen/OneDrive/Pictures/img_prova/surprise/surprise (16).jpg written!\n",
      "C:/Users/valen/OneDrive/Pictures/img_prova/surprise/surprise (17).jpg written!\n",
      "C:/Users/valen/OneDrive/Pictures/img_prova/surprise/surprise (18).jpg written!\n",
      "C:/Users/valen/OneDrive/Pictures/img_prova/surprise/surprise (19).jpg written!\n",
      "C:/Users/valen/OneDrive/Pictures/img_prova/surprise/surprise (20).jpg written!\n",
      "C:/Users/valen/OneDrive/Pictures/img_prova/surprise/surprise (21).jpg written!\n",
      "C:/Users/valen/OneDrive/Pictures/img_prova/surprise/surprise (22).jpg written!\n",
      "C:/Users/valen/OneDrive/Pictures/img_prova/surprise/surprise (23).jpg written!\n",
      "C:/Users/valen/OneDrive/Pictures/img_prova/surprise/surprise (24).jpg written!\n",
      "C:/Users/valen/OneDrive/Pictures/img_prova/surprise/surprise (25).jpg written!\n",
      "C:/Users/valen/OneDrive/Pictures/img_prova/surprise/surprise (26).jpg written!\n",
      "C:/Users/valen/OneDrive/Pictures/img_prova/surprise/surprise (27).jpg written!\n",
      "C:/Users/valen/OneDrive/Pictures/img_prova/surprise/surprise (28).jpg written!\n",
      "C:/Users/valen/OneDrive/Pictures/img_prova/surprise/surprise (29).jpg written!\n",
      "C:/Users/valen/OneDrive/Pictures/img_prova/surprise/surprise (30).jpg written!\n",
      "C:/Users/valen/OneDrive/Pictures/img_prova/surprise/surprise (31).jpg written!\n",
      "C:/Users/valen/OneDrive/Pictures/img_prova/surprise/surprise (32).jpg written!\n",
      "C:/Users/valen/OneDrive/Pictures/img_prova/surprise/surprise (33).jpg written!\n",
      "C:/Users/valen/OneDrive/Pictures/img_prova/surprise/surprise (34).jpg written!\n",
      "C:/Users/valen/OneDrive/Pictures/img_prova/surprise/surprise (35).jpg written!\n",
      "C:/Users/valen/OneDrive/Pictures/img_prova/surprise/surprise (36).jpg written!\n",
      "C:/Users/valen/OneDrive/Pictures/img_prova/surprise/surprise (37).jpg written!\n",
      "C:/Users/valen/OneDrive/Pictures/img_prova/surprise/surprise (38).jpg written!\n",
      "C:/Users/valen/OneDrive/Pictures/img_prova/surprise/surprise (39).jpg written!\n",
      "C:/Users/valen/OneDrive/Pictures/img_prova/surprise/surprise (40).jpg written!\n",
      "C:/Users/valen/OneDrive/Pictures/img_prova/surprise/surprise (41).jpg written!\n",
      "C:/Users/valen/OneDrive/Pictures/img_prova/surprise/surprise (42).jpg written!\n",
      "C:/Users/valen/OneDrive/Pictures/img_prova/surprise/surprise (43).jpg written!\n",
      "C:/Users/valen/OneDrive/Pictures/img_prova/surprise/surprise (44).jpg written!\n",
      "C:/Users/valen/OneDrive/Pictures/img_prova/surprise/surprise (45).jpg written!\n",
      "C:/Users/valen/OneDrive/Pictures/img_prova/surprise/surprise (46).jpg written!\n",
      "C:/Users/valen/OneDrive/Pictures/img_prova/surprise/surprise (47).jpg written!\n",
      "C:/Users/valen/OneDrive/Pictures/img_prova/surprise/surprise (48).jpg written!\n",
      "C:/Users/valen/OneDrive/Pictures/img_prova/surprise/surprise (49).jpg written!\n",
      "C:/Users/valen/OneDrive/Pictures/img_prova/surprise/surprise (50).jpg written!\n",
      "C:/Users/valen/OneDrive/Pictures/img_prova/surprise/surprise (51).jpg written!\n",
      "C:/Users/valen/OneDrive/Pictures/img_prova/surprise/surprise (52).jpg written!\n",
      "C:/Users/valen/OneDrive/Pictures/img_prova/surprise/surprise (53).jpg written!\n",
      "C:/Users/valen/OneDrive/Pictures/img_prova/surprise/surprise (54).jpg written!\n",
      "C:/Users/valen/OneDrive/Pictures/img_prova/surprise/surprise (55).jpg written!\n",
      "C:/Users/valen/OneDrive/Pictures/img_prova/surprise/surprise (56).jpg written!\n",
      "C:/Users/valen/OneDrive/Pictures/img_prova/surprise/surprise (57).jpg written!\n",
      "C:/Users/valen/OneDrive/Pictures/img_prova/surprise/surprise (58).jpg written!\n",
      "C:/Users/valen/OneDrive/Pictures/img_prova/surprise/surprise (59).jpg written!\n",
      "C:/Users/valen/OneDrive/Pictures/img_prova/surprise/surprise (60).jpg written!\n",
      "C:/Users/valen/OneDrive/Pictures/img_prova/surprise/surprise (61).jpg written!\n",
      "C:/Users/valen/OneDrive/Pictures/img_prova/surprise/surprise (62).jpg written!\n",
      "C:/Users/valen/OneDrive/Pictures/img_prova/surprise/surprise (63).jpg written!\n",
      "C:/Users/valen/OneDrive/Pictures/img_prova/surprise/surprise (64).jpg written!\n",
      "C:/Users/valen/OneDrive/Pictures/img_prova/surprise/surprise (65).jpg written!\n",
      "C:/Users/valen/OneDrive/Pictures/img_prova/surprise/surprise (66).jpg written!\n",
      "C:/Users/valen/OneDrive/Pictures/img_prova/surprise/surprise (67).jpg written!\n",
      "C:/Users/valen/OneDrive/Pictures/img_prova/surprise/surprise (68).jpg written!\n",
      "C:/Users/valen/OneDrive/Pictures/img_prova/surprise/surprise (69).jpg written!\n",
      "C:/Users/valen/OneDrive/Pictures/img_prova/surprise/surprise (70).jpg written!\n",
      "C:/Users/valen/OneDrive/Pictures/img_prova/surprise/surprise (71).jpg written!\n",
      "C:/Users/valen/OneDrive/Pictures/img_prova/surprise/surprise (72).jpg written!\n",
      "C:/Users/valen/OneDrive/Pictures/img_prova/surprise/surprise (73).jpg written!\n",
      "C:/Users/valen/OneDrive/Pictures/img_prova/surprise/surprise (74).jpg written!\n",
      "C:/Users/valen/OneDrive/Pictures/img_prova/surprise/surprise (75).jpg written!\n",
      "C:/Users/valen/OneDrive/Pictures/img_prova/surprise/surprise (76).jpg written!\n",
      "C:/Users/valen/OneDrive/Pictures/img_prova/surprise/surprise (77).jpg written!\n",
      "C:/Users/valen/OneDrive/Pictures/img_prova/surprise/surprise (78).jpg written!\n",
      "C:/Users/valen/OneDrive/Pictures/img_prova/surprise/surprise (79).jpg written!\n",
      "C:/Users/valen/OneDrive/Pictures/img_prova/surprise/surprise (80).jpg written!\n",
      "C:/Users/valen/OneDrive/Pictures/img_prova/surprise/surprise (81).jpg written!\n",
      "C:/Users/valen/OneDrive/Pictures/img_prova/surprise/surprise (82).jpg written!\n",
      "C:/Users/valen/OneDrive/Pictures/img_prova/surprise/surprise (83).jpg written!\n",
      "C:/Users/valen/OneDrive/Pictures/img_prova/surprise/surprise (84).jpg written!\n",
      "C:/Users/valen/OneDrive/Pictures/img_prova/surprise/surprise (85).jpg written!\n",
      "C:/Users/valen/OneDrive/Pictures/img_prova/surprise/surprise (86).jpg written!\n",
      "C:/Users/valen/OneDrive/Pictures/img_prova/surprise/surprise (87).jpg written!\n",
      "C:/Users/valen/OneDrive/Pictures/img_prova/surprise/surprise (88).jpg written!\n",
      "C:/Users/valen/OneDrive/Pictures/img_prova/surprise/surprise (89).jpg written!\n",
      "C:/Users/valen/OneDrive/Pictures/img_prova/surprise/surprise (90).jpg written!\n",
      "C:/Users/valen/OneDrive/Pictures/img_prova/surprise/surprise (91).jpg written!\n",
      "C:/Users/valen/OneDrive/Pictures/img_prova/surprise/surprise (92).jpg written!\n",
      "C:/Users/valen/OneDrive/Pictures/img_prova/surprise/surprise (93).jpg written!\n",
      "C:/Users/valen/OneDrive/Pictures/img_prova/surprise/surprise (94).jpg written!\n",
      "C:/Users/valen/OneDrive/Pictures/img_prova/surprise/surprise (95).jpg written!\n",
      "C:/Users/valen/OneDrive/Pictures/img_prova/surprise/surprise (96).jpg written!\n",
      "C:/Users/valen/OneDrive/Pictures/img_prova/surprise/surprise (97).jpg written!\n",
      "C:/Users/valen/OneDrive/Pictures/img_prova/surprise/surprise (98).jpg written!\n",
      "C:/Users/valen/OneDrive/Pictures/img_prova/surprise/surprise (99).jpg written!\n",
      "C:/Users/valen/OneDrive/Pictures/img_prova/surprise/surprise (100).jpg written!\n",
      "C:/Users/valen/OneDrive/Pictures/img_prova/surprise/surprise (101).jpg written!\n",
      "C:/Users/valen/OneDrive/Pictures/img_prova/surprise/surprise (102).jpg written!\n",
      "C:/Users/valen/OneDrive/Pictures/img_prova/surprise/surprise (103).jpg written!\n"
     ]
    },
    {
     "name": "stdout",
     "output_type": "stream",
     "text": [
      "C:/Users/valen/OneDrive/Pictures/img_prova/surprise/surprise (104).jpg written!\n",
      "C:/Users/valen/OneDrive/Pictures/img_prova/surprise/surprise (105).jpg written!\n",
      "C:/Users/valen/OneDrive/Pictures/img_prova/surprise/surprise (106).jpg written!\n",
      "C:/Users/valen/OneDrive/Pictures/img_prova/surprise/surprise (107).jpg written!\n",
      "C:/Users/valen/OneDrive/Pictures/img_prova/surprise/surprise (108).jpg written!\n",
      "C:/Users/valen/OneDrive/Pictures/img_prova/surprise/surprise (109).jpg written!\n",
      "Counter limit reached:110\n"
     ]
    }
   ],
   "source": [
    "from_directory=(\"C:/Users/valen/OneDrive/Pictures/img_prova/surprise/\")\n",
    "acquisition_cam(directory = from_directory, subject = \"surprise\", init_number = 0, counter_limit = 110, time_sleep = 0.5, numbered = True)"
   ]
  },
  {
   "cell_type": "code",
   "execution_count": null,
   "metadata": {
    "id": "-g5OZ9dcg0LN",
    "outputId": "9121ad1d-04a4-4e96-d29c-1cee0c02ee15"
   },
   "outputs": [
    {
     "name": "stdout",
     "output_type": "stream",
     "text": [
      "Created 52/110 images cropped\n"
     ]
    }
   ],
   "source": [
    "directory2=(\"C:/Users/valen/OneDrive/Pictures/vale/surprise/\")\n",
    "from_directory=(\"C:/Users/valen/OneDrive/Pictures/img_prova/surprise/\")\n",
    "detection_face(directory1=from_directory, directory2=directory2)"
   ]
  },
  {
   "cell_type": "code",
   "execution_count": null,
   "metadata": {
    "id": "92xVrWC_g0LP",
    "outputId": "cad44d5b-d746-4fea-d1fd-2a6e7ea4a452"
   },
   "outputs": [
    {
     "name": "stdout",
     "output_type": "stream",
     "text": [
      "C:/Users/valen/OneDrive/Pictures/img_prova/angry/angry (0).jpg written!\n",
      "C:/Users/valen/OneDrive/Pictures/img_prova/angry/angry (1).jpg written!\n",
      "C:/Users/valen/OneDrive/Pictures/img_prova/angry/angry (2).jpg written!\n",
      "C:/Users/valen/OneDrive/Pictures/img_prova/angry/angry (3).jpg written!\n",
      "C:/Users/valen/OneDrive/Pictures/img_prova/angry/angry (4).jpg written!\n",
      "C:/Users/valen/OneDrive/Pictures/img_prova/angry/angry (5).jpg written!\n",
      "C:/Users/valen/OneDrive/Pictures/img_prova/angry/angry (6).jpg written!\n",
      "C:/Users/valen/OneDrive/Pictures/img_prova/angry/angry (7).jpg written!\n",
      "C:/Users/valen/OneDrive/Pictures/img_prova/angry/angry (8).jpg written!\n",
      "C:/Users/valen/OneDrive/Pictures/img_prova/angry/angry (9).jpg written!\n",
      "C:/Users/valen/OneDrive/Pictures/img_prova/angry/angry (10).jpg written!\n",
      "C:/Users/valen/OneDrive/Pictures/img_prova/angry/angry (11).jpg written!\n",
      "C:/Users/valen/OneDrive/Pictures/img_prova/angry/angry (12).jpg written!\n",
      "C:/Users/valen/OneDrive/Pictures/img_prova/angry/angry (13).jpg written!\n",
      "C:/Users/valen/OneDrive/Pictures/img_prova/angry/angry (14).jpg written!\n",
      "C:/Users/valen/OneDrive/Pictures/img_prova/angry/angry (15).jpg written!\n",
      "C:/Users/valen/OneDrive/Pictures/img_prova/angry/angry (16).jpg written!\n",
      "C:/Users/valen/OneDrive/Pictures/img_prova/angry/angry (17).jpg written!\n",
      "C:/Users/valen/OneDrive/Pictures/img_prova/angry/angry (18).jpg written!\n",
      "C:/Users/valen/OneDrive/Pictures/img_prova/angry/angry (19).jpg written!\n",
      "C:/Users/valen/OneDrive/Pictures/img_prova/angry/angry (20).jpg written!\n",
      "C:/Users/valen/OneDrive/Pictures/img_prova/angry/angry (21).jpg written!\n",
      "C:/Users/valen/OneDrive/Pictures/img_prova/angry/angry (22).jpg written!\n",
      "C:/Users/valen/OneDrive/Pictures/img_prova/angry/angry (23).jpg written!\n",
      "C:/Users/valen/OneDrive/Pictures/img_prova/angry/angry (24).jpg written!\n",
      "C:/Users/valen/OneDrive/Pictures/img_prova/angry/angry (25).jpg written!\n",
      "C:/Users/valen/OneDrive/Pictures/img_prova/angry/angry (26).jpg written!\n",
      "C:/Users/valen/OneDrive/Pictures/img_prova/angry/angry (27).jpg written!\n",
      "C:/Users/valen/OneDrive/Pictures/img_prova/angry/angry (28).jpg written!\n",
      "C:/Users/valen/OneDrive/Pictures/img_prova/angry/angry (29).jpg written!\n",
      "C:/Users/valen/OneDrive/Pictures/img_prova/angry/angry (30).jpg written!\n",
      "C:/Users/valen/OneDrive/Pictures/img_prova/angry/angry (31).jpg written!\n",
      "C:/Users/valen/OneDrive/Pictures/img_prova/angry/angry (32).jpg written!\n",
      "C:/Users/valen/OneDrive/Pictures/img_prova/angry/angry (33).jpg written!\n",
      "C:/Users/valen/OneDrive/Pictures/img_prova/angry/angry (34).jpg written!\n",
      "C:/Users/valen/OneDrive/Pictures/img_prova/angry/angry (35).jpg written!\n",
      "C:/Users/valen/OneDrive/Pictures/img_prova/angry/angry (36).jpg written!\n",
      "C:/Users/valen/OneDrive/Pictures/img_prova/angry/angry (37).jpg written!\n",
      "C:/Users/valen/OneDrive/Pictures/img_prova/angry/angry (38).jpg written!\n",
      "C:/Users/valen/OneDrive/Pictures/img_prova/angry/angry (39).jpg written!\n",
      "C:/Users/valen/OneDrive/Pictures/img_prova/angry/angry (40).jpg written!\n",
      "C:/Users/valen/OneDrive/Pictures/img_prova/angry/angry (41).jpg written!\n",
      "C:/Users/valen/OneDrive/Pictures/img_prova/angry/angry (42).jpg written!\n",
      "C:/Users/valen/OneDrive/Pictures/img_prova/angry/angry (43).jpg written!\n",
      "C:/Users/valen/OneDrive/Pictures/img_prova/angry/angry (44).jpg written!\n",
      "C:/Users/valen/OneDrive/Pictures/img_prova/angry/angry (45).jpg written!\n",
      "C:/Users/valen/OneDrive/Pictures/img_prova/angry/angry (46).jpg written!\n",
      "C:/Users/valen/OneDrive/Pictures/img_prova/angry/angry (47).jpg written!\n",
      "C:/Users/valen/OneDrive/Pictures/img_prova/angry/angry (48).jpg written!\n",
      "C:/Users/valen/OneDrive/Pictures/img_prova/angry/angry (49).jpg written!\n",
      "C:/Users/valen/OneDrive/Pictures/img_prova/angry/angry (50).jpg written!\n",
      "C:/Users/valen/OneDrive/Pictures/img_prova/angry/angry (51).jpg written!\n",
      "C:/Users/valen/OneDrive/Pictures/img_prova/angry/angry (52).jpg written!\n",
      "C:/Users/valen/OneDrive/Pictures/img_prova/angry/angry (53).jpg written!\n",
      "C:/Users/valen/OneDrive/Pictures/img_prova/angry/angry (54).jpg written!\n",
      "C:/Users/valen/OneDrive/Pictures/img_prova/angry/angry (55).jpg written!\n",
      "C:/Users/valen/OneDrive/Pictures/img_prova/angry/angry (56).jpg written!\n",
      "C:/Users/valen/OneDrive/Pictures/img_prova/angry/angry (57).jpg written!\n",
      "C:/Users/valen/OneDrive/Pictures/img_prova/angry/angry (58).jpg written!\n",
      "C:/Users/valen/OneDrive/Pictures/img_prova/angry/angry (59).jpg written!\n",
      "C:/Users/valen/OneDrive/Pictures/img_prova/angry/angry (60).jpg written!\n",
      "C:/Users/valen/OneDrive/Pictures/img_prova/angry/angry (61).jpg written!\n",
      "C:/Users/valen/OneDrive/Pictures/img_prova/angry/angry (62).jpg written!\n",
      "C:/Users/valen/OneDrive/Pictures/img_prova/angry/angry (63).jpg written!\n",
      "C:/Users/valen/OneDrive/Pictures/img_prova/angry/angry (64).jpg written!\n",
      "C:/Users/valen/OneDrive/Pictures/img_prova/angry/angry (65).jpg written!\n",
      "C:/Users/valen/OneDrive/Pictures/img_prova/angry/angry (66).jpg written!\n",
      "C:/Users/valen/OneDrive/Pictures/img_prova/angry/angry (67).jpg written!\n",
      "C:/Users/valen/OneDrive/Pictures/img_prova/angry/angry (68).jpg written!\n",
      "C:/Users/valen/OneDrive/Pictures/img_prova/angry/angry (69).jpg written!\n",
      "C:/Users/valen/OneDrive/Pictures/img_prova/angry/angry (70).jpg written!\n",
      "C:/Users/valen/OneDrive/Pictures/img_prova/angry/angry (71).jpg written!\n",
      "C:/Users/valen/OneDrive/Pictures/img_prova/angry/angry (72).jpg written!\n",
      "C:/Users/valen/OneDrive/Pictures/img_prova/angry/angry (73).jpg written!\n",
      "C:/Users/valen/OneDrive/Pictures/img_prova/angry/angry (74).jpg written!\n",
      "C:/Users/valen/OneDrive/Pictures/img_prova/angry/angry (75).jpg written!\n",
      "C:/Users/valen/OneDrive/Pictures/img_prova/angry/angry (76).jpg written!\n",
      "C:/Users/valen/OneDrive/Pictures/img_prova/angry/angry (77).jpg written!\n",
      "C:/Users/valen/OneDrive/Pictures/img_prova/angry/angry (78).jpg written!\n",
      "C:/Users/valen/OneDrive/Pictures/img_prova/angry/angry (79).jpg written!\n",
      "C:/Users/valen/OneDrive/Pictures/img_prova/angry/angry (80).jpg written!\n",
      "C:/Users/valen/OneDrive/Pictures/img_prova/angry/angry (81).jpg written!\n",
      "C:/Users/valen/OneDrive/Pictures/img_prova/angry/angry (82).jpg written!\n",
      "C:/Users/valen/OneDrive/Pictures/img_prova/angry/angry (83).jpg written!\n",
      "C:/Users/valen/OneDrive/Pictures/img_prova/angry/angry (84).jpg written!\n",
      "C:/Users/valen/OneDrive/Pictures/img_prova/angry/angry (85).jpg written!\n",
      "C:/Users/valen/OneDrive/Pictures/img_prova/angry/angry (86).jpg written!\n",
      "C:/Users/valen/OneDrive/Pictures/img_prova/angry/angry (87).jpg written!\n",
      "C:/Users/valen/OneDrive/Pictures/img_prova/angry/angry (88).jpg written!\n",
      "C:/Users/valen/OneDrive/Pictures/img_prova/angry/angry (89).jpg written!\n",
      "C:/Users/valen/OneDrive/Pictures/img_prova/angry/angry (90).jpg written!\n",
      "C:/Users/valen/OneDrive/Pictures/img_prova/angry/angry (91).jpg written!\n",
      "C:/Users/valen/OneDrive/Pictures/img_prova/angry/angry (92).jpg written!\n",
      "C:/Users/valen/OneDrive/Pictures/img_prova/angry/angry (93).jpg written!\n",
      "C:/Users/valen/OneDrive/Pictures/img_prova/angry/angry (94).jpg written!\n",
      "C:/Users/valen/OneDrive/Pictures/img_prova/angry/angry (95).jpg written!\n",
      "C:/Users/valen/OneDrive/Pictures/img_prova/angry/angry (96).jpg written!\n",
      "C:/Users/valen/OneDrive/Pictures/img_prova/angry/angry (97).jpg written!\n",
      "C:/Users/valen/OneDrive/Pictures/img_prova/angry/angry (98).jpg written!\n",
      "C:/Users/valen/OneDrive/Pictures/img_prova/angry/angry (99).jpg written!\n",
      "C:/Users/valen/OneDrive/Pictures/img_prova/angry/angry (100).jpg written!\n",
      "C:/Users/valen/OneDrive/Pictures/img_prova/angry/angry (101).jpg written!\n",
      "C:/Users/valen/OneDrive/Pictures/img_prova/angry/angry (102).jpg written!\n",
      "C:/Users/valen/OneDrive/Pictures/img_prova/angry/angry (103).jpg written!\n",
      "C:/Users/valen/OneDrive/Pictures/img_prova/angry/angry (104).jpg written!\n",
      "C:/Users/valen/OneDrive/Pictures/img_prova/angry/angry (105).jpg written!\n",
      "C:/Users/valen/OneDrive/Pictures/img_prova/angry/angry (106).jpg written!\n",
      "C:/Users/valen/OneDrive/Pictures/img_prova/angry/angry (107).jpg written!\n",
      "C:/Users/valen/OneDrive/Pictures/img_prova/angry/angry (108).jpg written!\n",
      "C:/Users/valen/OneDrive/Pictures/img_prova/angry/angry (109).jpg written!\n",
      "Counter limit reached:110\n"
     ]
    }
   ],
   "source": [
    "from_directory=(\"C:/Users/valen/OneDrive/Pictures/img_prova/angry/\")\n",
    "acquisition_cam(directory = from_directory, subject = \"angry\", init_number = 0, counter_limit = 110, time_sleep = 0.5, numbered = True)"
   ]
  },
  {
   "cell_type": "code",
   "execution_count": null,
   "metadata": {
    "id": "RykrnjZvg0LR",
    "outputId": "a76e632b-0fba-423a-b146-a8ca759dfe7b"
   },
   "outputs": [
    {
     "name": "stdout",
     "output_type": "stream",
     "text": [
      "Created 76/110 images cropped\n"
     ]
    }
   ],
   "source": [
    "directory2=(\"C:/Users/valen/OneDrive/Pictures/vale/angry/\")\n",
    "from_directory=(\"C:/Users/valen/OneDrive/Pictures/img_prova/angry/\")\n",
    "detection_face(directory1=from_directory, directory2=directory2)"
   ]
  },
  {
   "cell_type": "code",
   "execution_count": null,
   "metadata": {
    "id": "nOET5VS7g0LT",
    "outputId": "6ac46c22-1e2a-4f1a-cb6e-e612701457b9"
   },
   "outputs": [
    {
     "name": "stdout",
     "output_type": "stream",
     "text": [
      "C:/Users/valen/OneDrive/Pictures/img_prova/disgust/disgust (0).jpg written!\n",
      "C:/Users/valen/OneDrive/Pictures/img_prova/disgust/disgust (1).jpg written!\n",
      "C:/Users/valen/OneDrive/Pictures/img_prova/disgust/disgust (2).jpg written!\n",
      "C:/Users/valen/OneDrive/Pictures/img_prova/disgust/disgust (3).jpg written!\n",
      "C:/Users/valen/OneDrive/Pictures/img_prova/disgust/disgust (4).jpg written!\n",
      "C:/Users/valen/OneDrive/Pictures/img_prova/disgust/disgust (5).jpg written!\n",
      "C:/Users/valen/OneDrive/Pictures/img_prova/disgust/disgust (6).jpg written!\n",
      "C:/Users/valen/OneDrive/Pictures/img_prova/disgust/disgust (7).jpg written!\n",
      "C:/Users/valen/OneDrive/Pictures/img_prova/disgust/disgust (8).jpg written!\n",
      "C:/Users/valen/OneDrive/Pictures/img_prova/disgust/disgust (9).jpg written!\n",
      "C:/Users/valen/OneDrive/Pictures/img_prova/disgust/disgust (10).jpg written!\n",
      "C:/Users/valen/OneDrive/Pictures/img_prova/disgust/disgust (11).jpg written!\n",
      "C:/Users/valen/OneDrive/Pictures/img_prova/disgust/disgust (12).jpg written!\n",
      "C:/Users/valen/OneDrive/Pictures/img_prova/disgust/disgust (13).jpg written!\n",
      "C:/Users/valen/OneDrive/Pictures/img_prova/disgust/disgust (14).jpg written!\n",
      "C:/Users/valen/OneDrive/Pictures/img_prova/disgust/disgust (15).jpg written!\n",
      "C:/Users/valen/OneDrive/Pictures/img_prova/disgust/disgust (16).jpg written!\n",
      "C:/Users/valen/OneDrive/Pictures/img_prova/disgust/disgust (17).jpg written!\n",
      "C:/Users/valen/OneDrive/Pictures/img_prova/disgust/disgust (18).jpg written!\n",
      "C:/Users/valen/OneDrive/Pictures/img_prova/disgust/disgust (19).jpg written!\n",
      "C:/Users/valen/OneDrive/Pictures/img_prova/disgust/disgust (20).jpg written!\n",
      "C:/Users/valen/OneDrive/Pictures/img_prova/disgust/disgust (21).jpg written!\n",
      "C:/Users/valen/OneDrive/Pictures/img_prova/disgust/disgust (22).jpg written!\n",
      "C:/Users/valen/OneDrive/Pictures/img_prova/disgust/disgust (23).jpg written!\n",
      "C:/Users/valen/OneDrive/Pictures/img_prova/disgust/disgust (24).jpg written!\n",
      "C:/Users/valen/OneDrive/Pictures/img_prova/disgust/disgust (25).jpg written!\n",
      "C:/Users/valen/OneDrive/Pictures/img_prova/disgust/disgust (26).jpg written!\n",
      "C:/Users/valen/OneDrive/Pictures/img_prova/disgust/disgust (27).jpg written!\n",
      "C:/Users/valen/OneDrive/Pictures/img_prova/disgust/disgust (28).jpg written!\n",
      "C:/Users/valen/OneDrive/Pictures/img_prova/disgust/disgust (29).jpg written!\n",
      "C:/Users/valen/OneDrive/Pictures/img_prova/disgust/disgust (30).jpg written!\n",
      "C:/Users/valen/OneDrive/Pictures/img_prova/disgust/disgust (31).jpg written!\n",
      "C:/Users/valen/OneDrive/Pictures/img_prova/disgust/disgust (32).jpg written!\n",
      "C:/Users/valen/OneDrive/Pictures/img_prova/disgust/disgust (33).jpg written!\n",
      "C:/Users/valen/OneDrive/Pictures/img_prova/disgust/disgust (34).jpg written!\n",
      "C:/Users/valen/OneDrive/Pictures/img_prova/disgust/disgust (35).jpg written!\n",
      "C:/Users/valen/OneDrive/Pictures/img_prova/disgust/disgust (36).jpg written!\n",
      "C:/Users/valen/OneDrive/Pictures/img_prova/disgust/disgust (37).jpg written!\n",
      "C:/Users/valen/OneDrive/Pictures/img_prova/disgust/disgust (38).jpg written!\n",
      "C:/Users/valen/OneDrive/Pictures/img_prova/disgust/disgust (39).jpg written!\n",
      "C:/Users/valen/OneDrive/Pictures/img_prova/disgust/disgust (40).jpg written!\n",
      "C:/Users/valen/OneDrive/Pictures/img_prova/disgust/disgust (41).jpg written!\n",
      "C:/Users/valen/OneDrive/Pictures/img_prova/disgust/disgust (42).jpg written!\n",
      "C:/Users/valen/OneDrive/Pictures/img_prova/disgust/disgust (43).jpg written!\n",
      "C:/Users/valen/OneDrive/Pictures/img_prova/disgust/disgust (44).jpg written!\n",
      "C:/Users/valen/OneDrive/Pictures/img_prova/disgust/disgust (45).jpg written!\n",
      "C:/Users/valen/OneDrive/Pictures/img_prova/disgust/disgust (46).jpg written!\n",
      "C:/Users/valen/OneDrive/Pictures/img_prova/disgust/disgust (47).jpg written!\n",
      "C:/Users/valen/OneDrive/Pictures/img_prova/disgust/disgust (48).jpg written!\n",
      "C:/Users/valen/OneDrive/Pictures/img_prova/disgust/disgust (49).jpg written!\n",
      "C:/Users/valen/OneDrive/Pictures/img_prova/disgust/disgust (50).jpg written!\n",
      "C:/Users/valen/OneDrive/Pictures/img_prova/disgust/disgust (51).jpg written!\n",
      "C:/Users/valen/OneDrive/Pictures/img_prova/disgust/disgust (52).jpg written!\n",
      "C:/Users/valen/OneDrive/Pictures/img_prova/disgust/disgust (53).jpg written!\n",
      "C:/Users/valen/OneDrive/Pictures/img_prova/disgust/disgust (54).jpg written!\n",
      "C:/Users/valen/OneDrive/Pictures/img_prova/disgust/disgust (55).jpg written!\n",
      "C:/Users/valen/OneDrive/Pictures/img_prova/disgust/disgust (56).jpg written!\n",
      "C:/Users/valen/OneDrive/Pictures/img_prova/disgust/disgust (57).jpg written!\n",
      "C:/Users/valen/OneDrive/Pictures/img_prova/disgust/disgust (58).jpg written!\n",
      "C:/Users/valen/OneDrive/Pictures/img_prova/disgust/disgust (59).jpg written!\n",
      "C:/Users/valen/OneDrive/Pictures/img_prova/disgust/disgust (60).jpg written!\n",
      "C:/Users/valen/OneDrive/Pictures/img_prova/disgust/disgust (61).jpg written!\n",
      "C:/Users/valen/OneDrive/Pictures/img_prova/disgust/disgust (62).jpg written!\n",
      "C:/Users/valen/OneDrive/Pictures/img_prova/disgust/disgust (63).jpg written!\n",
      "C:/Users/valen/OneDrive/Pictures/img_prova/disgust/disgust (64).jpg written!\n",
      "C:/Users/valen/OneDrive/Pictures/img_prova/disgust/disgust (65).jpg written!\n",
      "C:/Users/valen/OneDrive/Pictures/img_prova/disgust/disgust (66).jpg written!\n",
      "C:/Users/valen/OneDrive/Pictures/img_prova/disgust/disgust (67).jpg written!\n",
      "C:/Users/valen/OneDrive/Pictures/img_prova/disgust/disgust (68).jpg written!\n",
      "C:/Users/valen/OneDrive/Pictures/img_prova/disgust/disgust (69).jpg written!\n",
      "C:/Users/valen/OneDrive/Pictures/img_prova/disgust/disgust (70).jpg written!\n",
      "C:/Users/valen/OneDrive/Pictures/img_prova/disgust/disgust (71).jpg written!\n",
      "C:/Users/valen/OneDrive/Pictures/img_prova/disgust/disgust (72).jpg written!\n",
      "C:/Users/valen/OneDrive/Pictures/img_prova/disgust/disgust (73).jpg written!\n",
      "C:/Users/valen/OneDrive/Pictures/img_prova/disgust/disgust (74).jpg written!\n",
      "C:/Users/valen/OneDrive/Pictures/img_prova/disgust/disgust (75).jpg written!\n",
      "C:/Users/valen/OneDrive/Pictures/img_prova/disgust/disgust (76).jpg written!\n",
      "C:/Users/valen/OneDrive/Pictures/img_prova/disgust/disgust (77).jpg written!\n",
      "C:/Users/valen/OneDrive/Pictures/img_prova/disgust/disgust (78).jpg written!\n",
      "C:/Users/valen/OneDrive/Pictures/img_prova/disgust/disgust (79).jpg written!\n",
      "C:/Users/valen/OneDrive/Pictures/img_prova/disgust/disgust (80).jpg written!\n",
      "C:/Users/valen/OneDrive/Pictures/img_prova/disgust/disgust (81).jpg written!\n",
      "C:/Users/valen/OneDrive/Pictures/img_prova/disgust/disgust (82).jpg written!\n",
      "C:/Users/valen/OneDrive/Pictures/img_prova/disgust/disgust (83).jpg written!\n",
      "C:/Users/valen/OneDrive/Pictures/img_prova/disgust/disgust (84).jpg written!\n",
      "C:/Users/valen/OneDrive/Pictures/img_prova/disgust/disgust (85).jpg written!\n",
      "C:/Users/valen/OneDrive/Pictures/img_prova/disgust/disgust (86).jpg written!\n",
      "C:/Users/valen/OneDrive/Pictures/img_prova/disgust/disgust (87).jpg written!\n",
      "C:/Users/valen/OneDrive/Pictures/img_prova/disgust/disgust (88).jpg written!\n",
      "C:/Users/valen/OneDrive/Pictures/img_prova/disgust/disgust (89).jpg written!\n",
      "C:/Users/valen/OneDrive/Pictures/img_prova/disgust/disgust (90).jpg written!\n",
      "C:/Users/valen/OneDrive/Pictures/img_prova/disgust/disgust (91).jpg written!\n",
      "C:/Users/valen/OneDrive/Pictures/img_prova/disgust/disgust (92).jpg written!\n",
      "C:/Users/valen/OneDrive/Pictures/img_prova/disgust/disgust (93).jpg written!\n",
      "C:/Users/valen/OneDrive/Pictures/img_prova/disgust/disgust (94).jpg written!\n",
      "C:/Users/valen/OneDrive/Pictures/img_prova/disgust/disgust (95).jpg written!\n",
      "C:/Users/valen/OneDrive/Pictures/img_prova/disgust/disgust (96).jpg written!\n",
      "C:/Users/valen/OneDrive/Pictures/img_prova/disgust/disgust (97).jpg written!\n",
      "C:/Users/valen/OneDrive/Pictures/img_prova/disgust/disgust (98).jpg written!\n",
      "C:/Users/valen/OneDrive/Pictures/img_prova/disgust/disgust (99).jpg written!\n",
      "C:/Users/valen/OneDrive/Pictures/img_prova/disgust/disgust (100).jpg written!\n",
      "C:/Users/valen/OneDrive/Pictures/img_prova/disgust/disgust (101).jpg written!\n",
      "C:/Users/valen/OneDrive/Pictures/img_prova/disgust/disgust (102).jpg written!\n",
      "C:/Users/valen/OneDrive/Pictures/img_prova/disgust/disgust (103).jpg written!\n",
      "C:/Users/valen/OneDrive/Pictures/img_prova/disgust/disgust (104).jpg written!\n",
      "C:/Users/valen/OneDrive/Pictures/img_prova/disgust/disgust (105).jpg written!\n",
      "C:/Users/valen/OneDrive/Pictures/img_prova/disgust/disgust (106).jpg written!\n"
     ]
    },
    {
     "name": "stdout",
     "output_type": "stream",
     "text": [
      "C:/Users/valen/OneDrive/Pictures/img_prova/disgust/disgust (107).jpg written!\n",
      "C:/Users/valen/OneDrive/Pictures/img_prova/disgust/disgust (108).jpg written!\n",
      "C:/Users/valen/OneDrive/Pictures/img_prova/disgust/disgust (109).jpg written!\n",
      "Counter limit reached:110\n"
     ]
    }
   ],
   "source": [
    "from_directory=(\"C:/Users/valen/OneDrive/Pictures/img_prova/disgust/\")\n",
    "acquisition_cam(directory = from_directory, subject = \"disgust\", init_number = 0, counter_limit = 110, time_sleep = 0.5, numbered = True)"
   ]
  },
  {
   "cell_type": "code",
   "execution_count": null,
   "metadata": {
    "id": "CS_nJIqFg0LY",
    "outputId": "39ff569f-666c-468c-c50c-96a475620b45"
   },
   "outputs": [
    {
     "name": "stdout",
     "output_type": "stream",
     "text": [
      "Created 103/110 images cropped\n"
     ]
    }
   ],
   "source": [
    "directory2=(\"C:/Users/valen/OneDrive/Pictures/vale/disgust/\")\n",
    "from_directory=(\"C:/Users/valen/OneDrive/Pictures/img_prova/disgust/\")\n",
    "detection_face(directory1=from_directory, directory2=directory2)"
   ]
  },
  {
   "cell_type": "code",
   "execution_count": null,
   "metadata": {
    "id": "6IhsLVqHg0Lc",
    "outputId": "7fd8925c-6f8f-47af-a1f6-fc00f8cbf623"
   },
   "outputs": [
    {
     "name": "stdout",
     "output_type": "stream",
     "text": [
      "C:/Users/valen/OneDrive/Pictures/img_prova/neutral/natural (0).jpg written!\n",
      "C:/Users/valen/OneDrive/Pictures/img_prova/neutral/natural (1).jpg written!\n",
      "C:/Users/valen/OneDrive/Pictures/img_prova/neutral/natural (2).jpg written!\n",
      "C:/Users/valen/OneDrive/Pictures/img_prova/neutral/natural (3).jpg written!\n",
      "C:/Users/valen/OneDrive/Pictures/img_prova/neutral/natural (4).jpg written!\n",
      "C:/Users/valen/OneDrive/Pictures/img_prova/neutral/natural (5).jpg written!\n",
      "C:/Users/valen/OneDrive/Pictures/img_prova/neutral/natural (6).jpg written!\n",
      "C:/Users/valen/OneDrive/Pictures/img_prova/neutral/natural (7).jpg written!\n",
      "C:/Users/valen/OneDrive/Pictures/img_prova/neutral/natural (8).jpg written!\n",
      "C:/Users/valen/OneDrive/Pictures/img_prova/neutral/natural (9).jpg written!\n",
      "C:/Users/valen/OneDrive/Pictures/img_prova/neutral/natural (10).jpg written!\n",
      "C:/Users/valen/OneDrive/Pictures/img_prova/neutral/natural (11).jpg written!\n",
      "C:/Users/valen/OneDrive/Pictures/img_prova/neutral/natural (12).jpg written!\n",
      "C:/Users/valen/OneDrive/Pictures/img_prova/neutral/natural (13).jpg written!\n",
      "C:/Users/valen/OneDrive/Pictures/img_prova/neutral/natural (14).jpg written!\n",
      "C:/Users/valen/OneDrive/Pictures/img_prova/neutral/natural (15).jpg written!\n",
      "C:/Users/valen/OneDrive/Pictures/img_prova/neutral/natural (16).jpg written!\n",
      "C:/Users/valen/OneDrive/Pictures/img_prova/neutral/natural (17).jpg written!\n",
      "C:/Users/valen/OneDrive/Pictures/img_prova/neutral/natural (18).jpg written!\n",
      "C:/Users/valen/OneDrive/Pictures/img_prova/neutral/natural (19).jpg written!\n",
      "C:/Users/valen/OneDrive/Pictures/img_prova/neutral/natural (20).jpg written!\n",
      "C:/Users/valen/OneDrive/Pictures/img_prova/neutral/natural (21).jpg written!\n",
      "C:/Users/valen/OneDrive/Pictures/img_prova/neutral/natural (22).jpg written!\n",
      "C:/Users/valen/OneDrive/Pictures/img_prova/neutral/natural (23).jpg written!\n",
      "C:/Users/valen/OneDrive/Pictures/img_prova/neutral/natural (24).jpg written!\n",
      "C:/Users/valen/OneDrive/Pictures/img_prova/neutral/natural (25).jpg written!\n",
      "C:/Users/valen/OneDrive/Pictures/img_prova/neutral/natural (26).jpg written!\n",
      "C:/Users/valen/OneDrive/Pictures/img_prova/neutral/natural (27).jpg written!\n",
      "C:/Users/valen/OneDrive/Pictures/img_prova/neutral/natural (28).jpg written!\n",
      "C:/Users/valen/OneDrive/Pictures/img_prova/neutral/natural (29).jpg written!\n",
      "C:/Users/valen/OneDrive/Pictures/img_prova/neutral/natural (30).jpg written!\n",
      "C:/Users/valen/OneDrive/Pictures/img_prova/neutral/natural (31).jpg written!\n",
      "C:/Users/valen/OneDrive/Pictures/img_prova/neutral/natural (32).jpg written!\n",
      "C:/Users/valen/OneDrive/Pictures/img_prova/neutral/natural (33).jpg written!\n",
      "C:/Users/valen/OneDrive/Pictures/img_prova/neutral/natural (34).jpg written!\n",
      "C:/Users/valen/OneDrive/Pictures/img_prova/neutral/natural (35).jpg written!\n",
      "C:/Users/valen/OneDrive/Pictures/img_prova/neutral/natural (36).jpg written!\n",
      "C:/Users/valen/OneDrive/Pictures/img_prova/neutral/natural (37).jpg written!\n",
      "C:/Users/valen/OneDrive/Pictures/img_prova/neutral/natural (38).jpg written!\n",
      "C:/Users/valen/OneDrive/Pictures/img_prova/neutral/natural (39).jpg written!\n",
      "C:/Users/valen/OneDrive/Pictures/img_prova/neutral/natural (40).jpg written!\n",
      "C:/Users/valen/OneDrive/Pictures/img_prova/neutral/natural (41).jpg written!\n",
      "C:/Users/valen/OneDrive/Pictures/img_prova/neutral/natural (42).jpg written!\n",
      "C:/Users/valen/OneDrive/Pictures/img_prova/neutral/natural (43).jpg written!\n",
      "C:/Users/valen/OneDrive/Pictures/img_prova/neutral/natural (44).jpg written!\n",
      "C:/Users/valen/OneDrive/Pictures/img_prova/neutral/natural (45).jpg written!\n",
      "C:/Users/valen/OneDrive/Pictures/img_prova/neutral/natural (46).jpg written!\n",
      "C:/Users/valen/OneDrive/Pictures/img_prova/neutral/natural (47).jpg written!\n",
      "C:/Users/valen/OneDrive/Pictures/img_prova/neutral/natural (48).jpg written!\n",
      "C:/Users/valen/OneDrive/Pictures/img_prova/neutral/natural (49).jpg written!\n",
      "C:/Users/valen/OneDrive/Pictures/img_prova/neutral/natural (50).jpg written!\n",
      "C:/Users/valen/OneDrive/Pictures/img_prova/neutral/natural (51).jpg written!\n",
      "C:/Users/valen/OneDrive/Pictures/img_prova/neutral/natural (52).jpg written!\n",
      "C:/Users/valen/OneDrive/Pictures/img_prova/neutral/natural (53).jpg written!\n",
      "C:/Users/valen/OneDrive/Pictures/img_prova/neutral/natural (54).jpg written!\n",
      "C:/Users/valen/OneDrive/Pictures/img_prova/neutral/natural (55).jpg written!\n",
      "C:/Users/valen/OneDrive/Pictures/img_prova/neutral/natural (56).jpg written!\n",
      "C:/Users/valen/OneDrive/Pictures/img_prova/neutral/natural (57).jpg written!\n",
      "C:/Users/valen/OneDrive/Pictures/img_prova/neutral/natural (58).jpg written!\n",
      "C:/Users/valen/OneDrive/Pictures/img_prova/neutral/natural (59).jpg written!\n",
      "C:/Users/valen/OneDrive/Pictures/img_prova/neutral/natural (60).jpg written!\n",
      "C:/Users/valen/OneDrive/Pictures/img_prova/neutral/natural (61).jpg written!\n",
      "C:/Users/valen/OneDrive/Pictures/img_prova/neutral/natural (62).jpg written!\n",
      "C:/Users/valen/OneDrive/Pictures/img_prova/neutral/natural (63).jpg written!\n",
      "C:/Users/valen/OneDrive/Pictures/img_prova/neutral/natural (64).jpg written!\n",
      "C:/Users/valen/OneDrive/Pictures/img_prova/neutral/natural (65).jpg written!\n",
      "C:/Users/valen/OneDrive/Pictures/img_prova/neutral/natural (66).jpg written!\n",
      "C:/Users/valen/OneDrive/Pictures/img_prova/neutral/natural (67).jpg written!\n",
      "C:/Users/valen/OneDrive/Pictures/img_prova/neutral/natural (68).jpg written!\n",
      "C:/Users/valen/OneDrive/Pictures/img_prova/neutral/natural (69).jpg written!\n",
      "C:/Users/valen/OneDrive/Pictures/img_prova/neutral/natural (70).jpg written!\n",
      "C:/Users/valen/OneDrive/Pictures/img_prova/neutral/natural (71).jpg written!\n",
      "C:/Users/valen/OneDrive/Pictures/img_prova/neutral/natural (72).jpg written!\n",
      "C:/Users/valen/OneDrive/Pictures/img_prova/neutral/natural (73).jpg written!\n",
      "C:/Users/valen/OneDrive/Pictures/img_prova/neutral/natural (74).jpg written!\n",
      "C:/Users/valen/OneDrive/Pictures/img_prova/neutral/natural (75).jpg written!\n",
      "C:/Users/valen/OneDrive/Pictures/img_prova/neutral/natural (76).jpg written!\n",
      "C:/Users/valen/OneDrive/Pictures/img_prova/neutral/natural (77).jpg written!\n",
      "C:/Users/valen/OneDrive/Pictures/img_prova/neutral/natural (78).jpg written!\n",
      "C:/Users/valen/OneDrive/Pictures/img_prova/neutral/natural (79).jpg written!\n",
      "C:/Users/valen/OneDrive/Pictures/img_prova/neutral/natural (80).jpg written!\n",
      "C:/Users/valen/OneDrive/Pictures/img_prova/neutral/natural (81).jpg written!\n",
      "C:/Users/valen/OneDrive/Pictures/img_prova/neutral/natural (82).jpg written!\n",
      "C:/Users/valen/OneDrive/Pictures/img_prova/neutral/natural (83).jpg written!\n",
      "C:/Users/valen/OneDrive/Pictures/img_prova/neutral/natural (84).jpg written!\n",
      "C:/Users/valen/OneDrive/Pictures/img_prova/neutral/natural (85).jpg written!\n",
      "C:/Users/valen/OneDrive/Pictures/img_prova/neutral/natural (86).jpg written!\n",
      "C:/Users/valen/OneDrive/Pictures/img_prova/neutral/natural (87).jpg written!\n",
      "C:/Users/valen/OneDrive/Pictures/img_prova/neutral/natural (88).jpg written!\n",
      "C:/Users/valen/OneDrive/Pictures/img_prova/neutral/natural (89).jpg written!\n",
      "C:/Users/valen/OneDrive/Pictures/img_prova/neutral/natural (90).jpg written!\n",
      "C:/Users/valen/OneDrive/Pictures/img_prova/neutral/natural (91).jpg written!\n",
      "C:/Users/valen/OneDrive/Pictures/img_prova/neutral/natural (92).jpg written!\n",
      "C:/Users/valen/OneDrive/Pictures/img_prova/neutral/natural (93).jpg written!\n",
      "C:/Users/valen/OneDrive/Pictures/img_prova/neutral/natural (94).jpg written!\n",
      "C:/Users/valen/OneDrive/Pictures/img_prova/neutral/natural (95).jpg written!\n",
      "C:/Users/valen/OneDrive/Pictures/img_prova/neutral/natural (96).jpg written!\n",
      "C:/Users/valen/OneDrive/Pictures/img_prova/neutral/natural (97).jpg written!\n",
      "C:/Users/valen/OneDrive/Pictures/img_prova/neutral/natural (98).jpg written!\n",
      "C:/Users/valen/OneDrive/Pictures/img_prova/neutral/natural (99).jpg written!\n",
      "C:/Users/valen/OneDrive/Pictures/img_prova/neutral/natural (100).jpg written!\n",
      "C:/Users/valen/OneDrive/Pictures/img_prova/neutral/natural (101).jpg written!\n",
      "C:/Users/valen/OneDrive/Pictures/img_prova/neutral/natural (102).jpg written!\n",
      "C:/Users/valen/OneDrive/Pictures/img_prova/neutral/natural (103).jpg written!\n",
      "C:/Users/valen/OneDrive/Pictures/img_prova/neutral/natural (104).jpg written!\n",
      "C:/Users/valen/OneDrive/Pictures/img_prova/neutral/natural (105).jpg written!\n",
      "C:/Users/valen/OneDrive/Pictures/img_prova/neutral/natural (106).jpg written!\n"
     ]
    },
    {
     "name": "stdout",
     "output_type": "stream",
     "text": [
      "C:/Users/valen/OneDrive/Pictures/img_prova/neutral/natural (107).jpg written!\n",
      "C:/Users/valen/OneDrive/Pictures/img_prova/neutral/natural (108).jpg written!\n",
      "C:/Users/valen/OneDrive/Pictures/img_prova/neutral/natural (109).jpg written!\n",
      "Counter limit reached:110\n"
     ]
    }
   ],
   "source": [
    "from_directory=(\"C:/Users/valen/OneDrive/Pictures/img_prova/neutral/\")\n",
    "acquisition_cam(directory = from_directory, subject = \"natural\", init_number = 0, counter_limit = 110, time_sleep = 0.5, numbered = True)"
   ]
  },
  {
   "cell_type": "code",
   "execution_count": null,
   "metadata": {
    "id": "eVCWzOn_g0Ld",
    "outputId": "4d50042c-90bc-41eb-f97a-b3916986533e"
   },
   "outputs": [
    {
     "name": "stdout",
     "output_type": "stream",
     "text": [
      "Created 90/110 images cropped\n"
     ]
    }
   ],
   "source": [
    "directory2=(\"C:/Users/valen/OneDrive/Pictures/vale/neutral/\")\n",
    "from_directory=(\"C:/Users/valen/OneDrive/Pictures/img_prova/neutral/\")\n",
    "detection_face(directory1=from_directory, directory2=directory2)"
   ]
  },
  {
   "cell_type": "code",
   "execution_count": null,
   "metadata": {
    "id": "ViP_xRMZg0Lg",
    "outputId": "565e88f1-0381-42d8-86dc-b1ec6e7b0cdf"
   },
   "outputs": [
    {
     "name": "stdout",
     "output_type": "stream",
     "text": [
      "C:/Users/valen/OneDrive/Pictures/img_prova/fear/fear (0).jpg written!\n",
      "C:/Users/valen/OneDrive/Pictures/img_prova/fear/fear (1).jpg written!\n",
      "C:/Users/valen/OneDrive/Pictures/img_prova/fear/fear (2).jpg written!\n",
      "C:/Users/valen/OneDrive/Pictures/img_prova/fear/fear (3).jpg written!\n",
      "C:/Users/valen/OneDrive/Pictures/img_prova/fear/fear (4).jpg written!\n",
      "C:/Users/valen/OneDrive/Pictures/img_prova/fear/fear (5).jpg written!\n",
      "C:/Users/valen/OneDrive/Pictures/img_prova/fear/fear (6).jpg written!\n",
      "C:/Users/valen/OneDrive/Pictures/img_prova/fear/fear (7).jpg written!\n",
      "C:/Users/valen/OneDrive/Pictures/img_prova/fear/fear (8).jpg written!\n",
      "C:/Users/valen/OneDrive/Pictures/img_prova/fear/fear (9).jpg written!\n",
      "C:/Users/valen/OneDrive/Pictures/img_prova/fear/fear (10).jpg written!\n",
      "C:/Users/valen/OneDrive/Pictures/img_prova/fear/fear (11).jpg written!\n",
      "C:/Users/valen/OneDrive/Pictures/img_prova/fear/fear (12).jpg written!\n",
      "C:/Users/valen/OneDrive/Pictures/img_prova/fear/fear (13).jpg written!\n",
      "C:/Users/valen/OneDrive/Pictures/img_prova/fear/fear (14).jpg written!\n",
      "C:/Users/valen/OneDrive/Pictures/img_prova/fear/fear (15).jpg written!\n",
      "C:/Users/valen/OneDrive/Pictures/img_prova/fear/fear (16).jpg written!\n",
      "C:/Users/valen/OneDrive/Pictures/img_prova/fear/fear (17).jpg written!\n",
      "C:/Users/valen/OneDrive/Pictures/img_prova/fear/fear (18).jpg written!\n",
      "C:/Users/valen/OneDrive/Pictures/img_prova/fear/fear (19).jpg written!\n",
      "C:/Users/valen/OneDrive/Pictures/img_prova/fear/fear (20).jpg written!\n",
      "C:/Users/valen/OneDrive/Pictures/img_prova/fear/fear (21).jpg written!\n",
      "C:/Users/valen/OneDrive/Pictures/img_prova/fear/fear (22).jpg written!\n",
      "C:/Users/valen/OneDrive/Pictures/img_prova/fear/fear (23).jpg written!\n",
      "C:/Users/valen/OneDrive/Pictures/img_prova/fear/fear (24).jpg written!\n",
      "C:/Users/valen/OneDrive/Pictures/img_prova/fear/fear (25).jpg written!\n",
      "C:/Users/valen/OneDrive/Pictures/img_prova/fear/fear (26).jpg written!\n",
      "C:/Users/valen/OneDrive/Pictures/img_prova/fear/fear (27).jpg written!\n",
      "C:/Users/valen/OneDrive/Pictures/img_prova/fear/fear (28).jpg written!\n",
      "C:/Users/valen/OneDrive/Pictures/img_prova/fear/fear (29).jpg written!\n",
      "C:/Users/valen/OneDrive/Pictures/img_prova/fear/fear (30).jpg written!\n",
      "C:/Users/valen/OneDrive/Pictures/img_prova/fear/fear (31).jpg written!\n",
      "C:/Users/valen/OneDrive/Pictures/img_prova/fear/fear (32).jpg written!\n",
      "C:/Users/valen/OneDrive/Pictures/img_prova/fear/fear (33).jpg written!\n",
      "C:/Users/valen/OneDrive/Pictures/img_prova/fear/fear (34).jpg written!\n",
      "C:/Users/valen/OneDrive/Pictures/img_prova/fear/fear (35).jpg written!\n",
      "C:/Users/valen/OneDrive/Pictures/img_prova/fear/fear (36).jpg written!\n",
      "C:/Users/valen/OneDrive/Pictures/img_prova/fear/fear (37).jpg written!\n",
      "C:/Users/valen/OneDrive/Pictures/img_prova/fear/fear (38).jpg written!\n",
      "C:/Users/valen/OneDrive/Pictures/img_prova/fear/fear (39).jpg written!\n",
      "C:/Users/valen/OneDrive/Pictures/img_prova/fear/fear (40).jpg written!\n",
      "C:/Users/valen/OneDrive/Pictures/img_prova/fear/fear (41).jpg written!\n",
      "C:/Users/valen/OneDrive/Pictures/img_prova/fear/fear (42).jpg written!\n",
      "C:/Users/valen/OneDrive/Pictures/img_prova/fear/fear (43).jpg written!\n",
      "C:/Users/valen/OneDrive/Pictures/img_prova/fear/fear (44).jpg written!\n",
      "C:/Users/valen/OneDrive/Pictures/img_prova/fear/fear (45).jpg written!\n",
      "C:/Users/valen/OneDrive/Pictures/img_prova/fear/fear (46).jpg written!\n",
      "C:/Users/valen/OneDrive/Pictures/img_prova/fear/fear (47).jpg written!\n",
      "C:/Users/valen/OneDrive/Pictures/img_prova/fear/fear (48).jpg written!\n",
      "C:/Users/valen/OneDrive/Pictures/img_prova/fear/fear (49).jpg written!\n",
      "C:/Users/valen/OneDrive/Pictures/img_prova/fear/fear (50).jpg written!\n",
      "C:/Users/valen/OneDrive/Pictures/img_prova/fear/fear (51).jpg written!\n",
      "C:/Users/valen/OneDrive/Pictures/img_prova/fear/fear (52).jpg written!\n",
      "C:/Users/valen/OneDrive/Pictures/img_prova/fear/fear (53).jpg written!\n",
      "C:/Users/valen/OneDrive/Pictures/img_prova/fear/fear (54).jpg written!\n",
      "C:/Users/valen/OneDrive/Pictures/img_prova/fear/fear (55).jpg written!\n",
      "C:/Users/valen/OneDrive/Pictures/img_prova/fear/fear (56).jpg written!\n",
      "C:/Users/valen/OneDrive/Pictures/img_prova/fear/fear (57).jpg written!\n",
      "C:/Users/valen/OneDrive/Pictures/img_prova/fear/fear (58).jpg written!\n",
      "C:/Users/valen/OneDrive/Pictures/img_prova/fear/fear (59).jpg written!\n",
      "C:/Users/valen/OneDrive/Pictures/img_prova/fear/fear (60).jpg written!\n",
      "C:/Users/valen/OneDrive/Pictures/img_prova/fear/fear (61).jpg written!\n",
      "C:/Users/valen/OneDrive/Pictures/img_prova/fear/fear (62).jpg written!\n",
      "C:/Users/valen/OneDrive/Pictures/img_prova/fear/fear (63).jpg written!\n",
      "C:/Users/valen/OneDrive/Pictures/img_prova/fear/fear (64).jpg written!\n",
      "C:/Users/valen/OneDrive/Pictures/img_prova/fear/fear (65).jpg written!\n",
      "C:/Users/valen/OneDrive/Pictures/img_prova/fear/fear (66).jpg written!\n",
      "C:/Users/valen/OneDrive/Pictures/img_prova/fear/fear (67).jpg written!\n",
      "C:/Users/valen/OneDrive/Pictures/img_prova/fear/fear (68).jpg written!\n",
      "C:/Users/valen/OneDrive/Pictures/img_prova/fear/fear (69).jpg written!\n",
      "C:/Users/valen/OneDrive/Pictures/img_prova/fear/fear (70).jpg written!\n",
      "C:/Users/valen/OneDrive/Pictures/img_prova/fear/fear (71).jpg written!\n",
      "C:/Users/valen/OneDrive/Pictures/img_prova/fear/fear (72).jpg written!\n",
      "C:/Users/valen/OneDrive/Pictures/img_prova/fear/fear (73).jpg written!\n",
      "C:/Users/valen/OneDrive/Pictures/img_prova/fear/fear (74).jpg written!\n",
      "C:/Users/valen/OneDrive/Pictures/img_prova/fear/fear (75).jpg written!\n",
      "C:/Users/valen/OneDrive/Pictures/img_prova/fear/fear (76).jpg written!\n",
      "C:/Users/valen/OneDrive/Pictures/img_prova/fear/fear (77).jpg written!\n",
      "C:/Users/valen/OneDrive/Pictures/img_prova/fear/fear (78).jpg written!\n",
      "C:/Users/valen/OneDrive/Pictures/img_prova/fear/fear (79).jpg written!\n",
      "C:/Users/valen/OneDrive/Pictures/img_prova/fear/fear (80).jpg written!\n",
      "C:/Users/valen/OneDrive/Pictures/img_prova/fear/fear (81).jpg written!\n",
      "C:/Users/valen/OneDrive/Pictures/img_prova/fear/fear (82).jpg written!\n",
      "C:/Users/valen/OneDrive/Pictures/img_prova/fear/fear (83).jpg written!\n",
      "C:/Users/valen/OneDrive/Pictures/img_prova/fear/fear (84).jpg written!\n",
      "C:/Users/valen/OneDrive/Pictures/img_prova/fear/fear (85).jpg written!\n",
      "C:/Users/valen/OneDrive/Pictures/img_prova/fear/fear (86).jpg written!\n",
      "C:/Users/valen/OneDrive/Pictures/img_prova/fear/fear (87).jpg written!\n",
      "C:/Users/valen/OneDrive/Pictures/img_prova/fear/fear (88).jpg written!\n",
      "C:/Users/valen/OneDrive/Pictures/img_prova/fear/fear (89).jpg written!\n",
      "C:/Users/valen/OneDrive/Pictures/img_prova/fear/fear (90).jpg written!\n",
      "C:/Users/valen/OneDrive/Pictures/img_prova/fear/fear (91).jpg written!\n",
      "C:/Users/valen/OneDrive/Pictures/img_prova/fear/fear (92).jpg written!\n",
      "C:/Users/valen/OneDrive/Pictures/img_prova/fear/fear (93).jpg written!\n",
      "C:/Users/valen/OneDrive/Pictures/img_prova/fear/fear (94).jpg written!\n",
      "C:/Users/valen/OneDrive/Pictures/img_prova/fear/fear (95).jpg written!\n",
      "C:/Users/valen/OneDrive/Pictures/img_prova/fear/fear (96).jpg written!\n",
      "C:/Users/valen/OneDrive/Pictures/img_prova/fear/fear (97).jpg written!\n",
      "C:/Users/valen/OneDrive/Pictures/img_prova/fear/fear (98).jpg written!\n",
      "C:/Users/valen/OneDrive/Pictures/img_prova/fear/fear (99).jpg written!\n",
      "C:/Users/valen/OneDrive/Pictures/img_prova/fear/fear (100).jpg written!\n",
      "C:/Users/valen/OneDrive/Pictures/img_prova/fear/fear (101).jpg written!\n",
      "C:/Users/valen/OneDrive/Pictures/img_prova/fear/fear (102).jpg written!\n",
      "C:/Users/valen/OneDrive/Pictures/img_prova/fear/fear (103).jpg written!\n",
      "C:/Users/valen/OneDrive/Pictures/img_prova/fear/fear (104).jpg written!\n",
      "C:/Users/valen/OneDrive/Pictures/img_prova/fear/fear (105).jpg written!\n",
      "C:/Users/valen/OneDrive/Pictures/img_prova/fear/fear (106).jpg written!\n",
      "C:/Users/valen/OneDrive/Pictures/img_prova/fear/fear (107).jpg written!\n",
      "C:/Users/valen/OneDrive/Pictures/img_prova/fear/fear (108).jpg written!\n",
      "C:/Users/valen/OneDrive/Pictures/img_prova/fear/fear (109).jpg written!\n",
      "Counter limit reached:110\n"
     ]
    }
   ],
   "source": [
    "from_directory=(\"C:/Users/valen/OneDrive/Pictures/img_prova/fear/\")\n",
    "acquisition_cam(directory = from_directory, subject = \"fear\", init_number = 0, counter_limit = 110, time_sleep = 0.5, numbered = True)"
   ]
  },
  {
   "cell_type": "code",
   "execution_count": null,
   "metadata": {
    "id": "OjolmGfXg0Li",
    "outputId": "c5d9b87b-ee40-457e-d849-e9ec4927caac"
   },
   "outputs": [
    {
     "name": "stdout",
     "output_type": "stream",
     "text": [
      "Created 82/110 images cropped\n"
     ]
    }
   ],
   "source": [
    "directory2=(\"C:/Users/valen/OneDrive/Pictures/vale/fear/\")\n",
    "from_directory=(\"C:/Users/valen/OneDrive/Pictures/img_prova/fear/\")\n",
    "detection_face(directory1=from_directory, directory2=directory2)"
   ]
  },
  {
   "cell_type": "markdown",
   "metadata": {
    "id": "RT-8Ega4g0Lk"
   },
   "source": [
    "**FACES**"
   ]
  },
  {
   "cell_type": "markdown",
   "metadata": {
    "id": "QZUOFAMhg0Ll"
   },
   "source": [
    "For augmented the dataset, we consider a dataset *Faces* and crop all images for each label."
   ]
  },
  {
   "cell_type": "code",
   "execution_count": null,
   "metadata": {
    "id": "lCHLkdtbg0Lm",
    "outputId": "c478f355-1e97-41e5-d215-ca0ab3817b61"
   },
   "outputs": [
    {
     "name": "stdout",
     "output_type": "stream",
     "text": [
      "Created 4/12 images cropped\n"
     ]
    }
   ],
   "source": [
    "directory2=(\"C:/Users/valen/OneDrive/Pictures/faces_reshape/angry/\")\n",
    "from_directory=(\"C:/Users/valen/OneDrive/Pictures/faces/angry/\")\n",
    "detection_face(directory1=from_directory, directory2=directory2)"
   ]
  },
  {
   "cell_type": "code",
   "execution_count": null,
   "metadata": {
    "id": "iGCY2zEig0Lo",
    "outputId": "d7650284-427d-4165-e986-d47c38f0e6fb"
   },
   "outputs": [
    {
     "name": "stdout",
     "output_type": "stream",
     "text": [
      "Created 5/12 images cropped\n"
     ]
    }
   ],
   "source": [
    "directory2=(\"C:/Users/valen/OneDrive/Pictures/faces_reshape/disgust/\")\n",
    "from_directory=(\"C:/Users/valen/OneDrive/Pictures/faces/disgust/\")\n",
    "detection_face(directory1=from_directory, directory2=directory2)"
   ]
  },
  {
   "cell_type": "code",
   "execution_count": null,
   "metadata": {
    "id": "7PiWyiq9g0Lq",
    "outputId": "b350fe27-be38-49e5-f757-b4ae6aac0267"
   },
   "outputs": [
    {
     "name": "stdout",
     "output_type": "stream",
     "text": [
      "Created 6/12 images cropped\n"
     ]
    }
   ],
   "source": [
    "directory2=(\"C:/Users/valen/OneDrive/Pictures/faces_reshape/sad/\")\n",
    "from_directory=(\"C:/Users/valen/OneDrive/Pictures/faces/sad/\")\n",
    "detection_face(directory1=from_directory, directory2=directory2)"
   ]
  },
  {
   "cell_type": "code",
   "execution_count": null,
   "metadata": {
    "id": "vlBViIBcg0Lr",
    "outputId": "dfc25b1f-940b-46b7-b17e-1f717eb59a98"
   },
   "outputs": [
    {
     "name": "stdout",
     "output_type": "stream",
     "text": [
      "Created 3/12 images cropped\n"
     ]
    }
   ],
   "source": [
    "directory2=(\"C:/Users/valen/OneDrive/Pictures/faces_reshape/happy/\")\n",
    "from_directory=(\"C:/Users/valen/OneDrive/Pictures/faces/happy/\")\n",
    "detection_face(directory1=from_directory, directory2=directory2)"
   ]
  },
  {
   "cell_type": "code",
   "execution_count": null,
   "metadata": {
    "id": "wWL_zfPpg0Lu",
    "outputId": "b9631880-8c40-4485-fed0-2e49372e4c59"
   },
   "outputs": [
    {
     "name": "stdout",
     "output_type": "stream",
     "text": [
      "Created 9/12 images cropped\n"
     ]
    }
   ],
   "source": [
    "directory2=(\"C:/Users/valen/OneDrive/Pictures/faces_reshape/fear/\")\n",
    "from_directory=(\"C:/Users/valen/OneDrive/Pictures/faces/fear/\")\n",
    "detection_face(directory1=from_directory, directory2=directory2)"
   ]
  },
  {
   "cell_type": "code",
   "execution_count": null,
   "metadata": {
    "id": "0ifd_z3sg0Lv"
   },
   "outputs": [],
   "source": [
    "directory2=(\"C:/Users/valen/OneDrive/Pictures/faces_reshape/neutral/\")\n",
    "from_directory=(\"C:/Users/valen/OneDrive/Pictures/faces/neutral/\")\n",
    "detection_face(directory1=from_directory, directory2=directory2)"
   ]
  },
  {
   "cell_type": "markdown",
   "metadata": {
    "id": "Ae0eFc73g0Lx"
   },
   "source": [
    "**VISGRAM**"
   ]
  },
  {
   "cell_type": "markdown",
   "metadata": {
    "id": "PLZHRFRdg0Ly"
   },
   "source": [
    "As the previous case, we also consider dataset *Visgram* and crop image with the precedent function *detection_face*"
   ]
  },
  {
   "cell_type": "code",
   "execution_count": null,
   "metadata": {
    "id": "pr0LTRPlg0Lz",
    "outputId": "b4451e96-cf51-4715-8134-7bb770bc52eb"
   },
   "outputs": [
    {
     "name": "stdout",
     "output_type": "stream",
     "text": [
      "Created 32/32 images cropped\n"
     ]
    }
   ],
   "source": [
    "directory2=(\"C:/Users/valen/OneDrive/Pictures/visgram/happy/\")\n",
    "from_directory=(\"C:/Users/valen/OneDrive/Pictures/visum/happy/\")\n",
    "detection_face(directory1=from_directory, directory2=directory2)"
   ]
  },
  {
   "cell_type": "code",
   "execution_count": null,
   "metadata": {
    "id": "dtsYv80hg0L0",
    "outputId": "f8b99bf6-c807-4b26-c22c-92421694c465"
   },
   "outputs": [
    {
     "name": "stdout",
     "output_type": "stream",
     "text": [
      "Created 36/36 images cropped\n"
     ]
    }
   ],
   "source": [
    "directory2=(\"C:/Users/valen/OneDrive/Pictures/visgram/angry/\")\n",
    "from_directory=(\"C:/Users/valen/OneDrive/Pictures/visum/angry/\")\n",
    "detection_face(directory1=from_directory, directory2=directory2)"
   ]
  },
  {
   "cell_type": "code",
   "execution_count": null,
   "metadata": {
    "id": "VuTammSvg0L2",
    "outputId": "e444fcfc-c516-49d8-f66a-2650ad91b591"
   },
   "outputs": [
    {
     "name": "stdout",
     "output_type": "stream",
     "text": [
      "Created 30/30 images cropped\n"
     ]
    }
   ],
   "source": [
    "directory2=(\"C:/Users/valen/OneDrive/Pictures/visgram/neutral/\")\n",
    "from_directory=(\"C:/Users/valen/OneDrive/Pictures/visum/neutral/\")\n",
    "detection_face(directory1=from_directory, directory2=directory2)"
   ]
  },
  {
   "cell_type": "code",
   "execution_count": null,
   "metadata": {
    "id": "cuM3r5vOg0L4",
    "outputId": "c7390773-86f8-4e4a-d2ce-85715149cd76"
   },
   "outputs": [
    {
     "name": "stdout",
     "output_type": "stream",
     "text": [
      "Created 34/34 images cropped\n"
     ]
    }
   ],
   "source": [
    "directory2=(\"C:/Users/valen/OneDrive/Pictures/visgram/disgust/\")\n",
    "from_directory=(\"C:/Users/valen/OneDrive/Pictures/visum/disgust/\")\n",
    "detection_face(directory1=from_directory, directory2=directory2)"
   ]
  },
  {
   "cell_type": "code",
   "execution_count": null,
   "metadata": {
    "id": "I3F6mhbCg0L6",
    "outputId": "2124d376-fe66-4046-e3d4-081a906ff3fd"
   },
   "outputs": [
    {
     "name": "stdout",
     "output_type": "stream",
     "text": [
      "Created 34/34 images cropped\n"
     ]
    }
   ],
   "source": [
    "directory2=(\"C:/Users/valen/OneDrive/Pictures/visgram/sad/\")\n",
    "from_directory=(\"C:/Users/valen/OneDrive/Pictures/visum/sad/\")\n",
    "detection_face(directory1=from_directory, directory2=directory2)"
   ]
  },
  {
   "cell_type": "code",
   "execution_count": null,
   "metadata": {
    "id": "RiXKPb1eg0L7",
    "outputId": "1c69d306-fe3e-4522-bdba-278c6d51a948"
   },
   "outputs": [
    {
     "name": "stdout",
     "output_type": "stream",
     "text": [
      "Created 34/34 images cropped\n"
     ]
    }
   ],
   "source": [
    "directory2=(\"C:/Users/valen/OneDrive/Pictures/visgram/surprise/\")\n",
    "from_directory=(\"C:/Users/valen/OneDrive/Pictures/visum/surprise/\")\n",
    "detection_face(directory1=from_directory, directory2=directory2)"
   ]
  },
  {
   "cell_type": "code",
   "execution_count": null,
   "metadata": {
    "id": "16SXJ2Kvg0L9",
    "outputId": "c0bf5dd0-9dd2-47d9-9093-82cd4567b2d9"
   },
   "outputs": [
    {
     "name": "stdout",
     "output_type": "stream",
     "text": [
      "Created 33/33 images cropped\n"
     ]
    }
   ],
   "source": [
    "directory2=(\"C:/Users/valen/OneDrive/Pictures/visgram/fear/\")\n",
    "from_directory=(\"C:/Users/valen/OneDrive/Pictures/visum/fear/\")\n",
    "detection_face(directory1=from_directory, directory2=directory2)"
   ]
  },
  {
   "cell_type": "markdown",
   "metadata": {
    "id": "gZ1J7FB8g0L_"
   },
   "source": [
    "**JAFFE**"
   ]
  },
  {
   "cell_type": "markdown",
   "metadata": {
    "id": "uRXRBgrkg0MA"
   },
   "source": [
    "We consider also *Jaffe* dataset and crop all images."
   ]
  },
  {
   "cell_type": "code",
   "execution_count": null,
   "metadata": {
    "id": "lIQ1rURNg0MB",
    "outputId": "e0061f55-8b6b-4ce1-96ff-b269bee7dfe3"
   },
   "outputs": [
    {
     "name": "stdout",
     "output_type": "stream",
     "text": [
      "Created 31/31 images cropped\n"
     ]
    }
   ],
   "source": [
    "directory2=(\"C:/Users/valen/OneDrive/Pictures/jaffe/happy/\")\n",
    "from_directory=(\"C:/Users/valen/OneDrive/Pictures/jaffedb/happy/\")\n",
    "detection_face(directory1=from_directory, directory2=directory2)"
   ]
  },
  {
   "cell_type": "code",
   "execution_count": null,
   "metadata": {
    "id": "nlaqUGudg0MD",
    "outputId": "b09cb5db-c1c1-4acf-b6fa-414af6986933"
   },
   "outputs": [
    {
     "name": "stdout",
     "output_type": "stream",
     "text": [
      "Created 30/30 images cropped\n"
     ]
    }
   ],
   "source": [
    "directory2=(\"C:/Users/valen/OneDrive/Pictures/jaffe/angry/\")\n",
    "from_directory=(\"C:/Users/valen/OneDrive/Pictures/jaffedb/angry/\")\n",
    "detection_face(directory1=from_directory, directory2=directory2)"
   ]
  },
  {
   "cell_type": "code",
   "execution_count": null,
   "metadata": {
    "id": "ON6UE139g0MF",
    "outputId": "5e52e40a-8c1b-4619-be2f-2779c91c9549"
   },
   "outputs": [
    {
     "name": "stdout",
     "output_type": "stream",
     "text": [
      "Created 30/30 images cropped\n"
     ]
    }
   ],
   "source": [
    "directory2=(\"C:/Users/valen/OneDrive/Pictures/jaffe/neutral/\")\n",
    "from_directory=(\"C:/Users/valen/OneDrive/Pictures/jaffedb/neutral/\")\n",
    "detection_face(directory1=from_directory, directory2=directory2)"
   ]
  },
  {
   "cell_type": "code",
   "execution_count": null,
   "metadata": {
    "id": "WjPpi-6cg0MH",
    "outputId": "c6dac522-fefc-4730-e249-5220f9d43e3b"
   },
   "outputs": [
    {
     "name": "stdout",
     "output_type": "stream",
     "text": [
      "Created 28/29 images cropped\n"
     ]
    }
   ],
   "source": [
    "directory2=(\"C:/Users/valen/OneDrive/Pictures/jaffe/disgust/\")\n",
    "from_directory=(\"C:/Users/valen/OneDrive/Pictures/jaffedb/disgust/\")\n",
    "detection_face(directory1=from_directory, directory2=directory2)"
   ]
  },
  {
   "cell_type": "code",
   "execution_count": null,
   "metadata": {
    "id": "-fvw4Cmyg0MJ",
    "outputId": "4c423d1f-24b4-476f-8286-024de6bb2b08"
   },
   "outputs": [
    {
     "name": "stdout",
     "output_type": "stream",
     "text": [
      "Created 31/31 images cropped\n"
     ]
    }
   ],
   "source": [
    "directory2=(\"C:/Users/valen/OneDrive/Pictures/jaffe/sad/\")\n",
    "from_directory=(\"C:/Users/valen/OneDrive/Pictures/jaffedb/sad/\")\n",
    "detection_face(directory1=from_directory, directory2=directory2)"
   ]
  },
  {
   "cell_type": "code",
   "execution_count": null,
   "metadata": {
    "id": "8EC170p5g0MM",
    "outputId": "864f804a-5737-4672-c76f-d4121030cfbb"
   },
   "outputs": [
    {
     "name": "stdout",
     "output_type": "stream",
     "text": [
      "Created 30/30 images cropped\n"
     ]
    }
   ],
   "source": [
    "directory2=(\"C:/Users/valen/OneDrive/Pictures/jaffe/surprise/\")\n",
    "from_directory=(\"C:/Users/valen/OneDrive/Pictures/jaffedb/surprise/\")\n",
    "detection_face(directory1=from_directory, directory2=directory2)"
   ]
  },
  {
   "cell_type": "code",
   "execution_count": null,
   "metadata": {
    "id": "_jHqYLmEg0MO",
    "outputId": "a3d32732-15c8-410a-cace-a9c95ed1229c"
   },
   "outputs": [
    {
     "name": "stdout",
     "output_type": "stream",
     "text": [
      "Created 32/32 images cropped\n"
     ]
    }
   ],
   "source": [
    "directory2=(\"C:/Users/valen/OneDrive/Pictures/jaffe/fear/\")\n",
    "from_directory=(\"C:/Users/valen/OneDrive/Pictures/jaffedb/fear/\")\n",
    "detection_face(directory1=from_directory, directory2=directory2)"
   ]
  }
 ],
 "metadata": {
  "colab": {
   "collapsed_sections": [],
   "name": "Acquisition_images_1.ipynb",
   "provenance": []
  },
  "kernelspec": {
   "display_name": "Python 3",
   "language": "python",
   "name": "python3"
  },
  "language_info": {
   "codemirror_mode": {
    "name": "ipython",
    "version": 3
   },
   "file_extension": ".py",
   "mimetype": "text/x-python",
   "name": "python",
   "nbconvert_exporter": "python",
   "pygments_lexer": "ipython3",
   "version": "3.7.0"
  }
 },
 "nbformat": 4,
 "nbformat_minor": 1
}
